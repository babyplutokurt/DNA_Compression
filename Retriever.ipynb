{
 "cells": [
  {
   "cell_type": "code",
   "execution_count": 1,
   "id": "73679c20",
   "metadata": {},
   "outputs": [],
   "source": [
    "import numpy as np\n",
    "import pandas as pd"
   ]
  },
  {
   "cell_type": "code",
   "execution_count": 2,
   "id": "0990e24a",
   "metadata": {},
   "outputs": [],
   "source": [
    "def bam_to_df(bam, chr = None, start=None, stop = None):\n",
    "    seq = []\n",
    "    name = []\n",
    "    pos = []\n",
    "    for read in bam.fetch(chr, start, stop):\n",
    "        seq.append(read.seq)\n",
    "        name.append(read.qname)\n",
    "        pos.append(read.pos)\n",
    "    return pd.DataFrame({'seq': seq, 'name': name, 'pos': pos})"
   ]
  },
  {
   "cell_type": "code",
   "execution_count": 3,
   "id": "05427811",
   "metadata": {},
   "outputs": [],
   "source": [
    "f = open(\"HG00138_chr20_subset.sam\", \"r\")\n",
    "Lines = f.readlines()"
   ]
  },
  {
   "cell_type": "code",
   "execution_count": 4,
   "id": "c4f0f10f",
   "metadata": {},
   "outputs": [],
   "source": [
    "DNA_Output = ''\n",
    "for l in Lines:\n",
    "    if l[0] != \"@\":\n",
    "        x = l.split()\n",
    "        DNA_Output += x[9]"
   ]
  },
  {
   "cell_type": "code",
   "execution_count": 5,
   "id": "9f0b1dc9",
   "metadata": {},
   "outputs": [
    {
     "data": {
      "text/plain": [
       "'AAAAATGTGTATTTCTCCTC'"
      ]
     },
     "execution_count": 5,
     "metadata": {},
     "output_type": "execute_result"
    }
   ],
   "source": [
    "DNA_Output[0:20]"
   ]
  },
  {
   "cell_type": "code",
   "execution_count": 6,
   "id": "340c79c1",
   "metadata": {},
   "outputs": [],
   "source": [
    "from collections import Counter"
   ]
  },
  {
   "cell_type": "code",
   "execution_count": 7,
   "id": "7c388267",
   "metadata": {},
   "outputs": [],
   "source": [
    "count = Counter(DNA_Output)"
   ]
  },
  {
   "cell_type": "code",
   "execution_count": 8,
   "id": "4397fa3a",
   "metadata": {},
   "outputs": [
    {
     "data": {
      "text/plain": [
       "Counter({'A': 14289, 'T': 13240, 'G': 6266, 'C': 6740, 'N': 4})"
      ]
     },
     "execution_count": 8,
     "metadata": {},
     "output_type": "execute_result"
    }
   ],
   "source": [
    "count # 128 64 32 16 8 4 2 1"
   ]
  },
  {
   "cell_type": "code",
   "execution_count": 9,
   "id": "8c25ea4b",
   "metadata": {},
   "outputs": [],
   "source": [
    "DNA_Output_withoutN = DNA_Output.replace(\"N\", \"\")\n",
    "Convert_Dic = {'A': 0, 'T': 1, 'G': 2, 'C': 3}\n",
    "Reverse_Dic = {0: 'A', 1: 'T', 2: 'G', 3: 'C'}"
   ]
  },
  {
   "cell_type": "code",
   "execution_count": 10,
   "id": "63bd2ef2",
   "metadata": {},
   "outputs": [],
   "source": [
    "Output_file = open(\"Output_Raw.txt\", \"a\")"
   ]
  },
  {
   "cell_type": "code",
   "execution_count": 11,
   "id": "beb4dea5",
   "metadata": {},
   "outputs": [
    {
     "data": {
      "text/plain": [
       "'ATGT'"
      ]
     },
     "execution_count": 11,
     "metadata": {},
     "output_type": "execute_result"
    }
   ],
   "source": [
    "DNA_Output_withoutN[4:8]"
   ]
  },
  {
   "cell_type": "code",
   "execution_count": 12,
   "id": "ee7944f5",
   "metadata": {},
   "outputs": [],
   "source": [
    "for i in range(0, (len(DNA_Output_withoutN) // 4) * 4, 4):\n",
    "    code = Convert_Dic[DNA_Output_withoutN[i]] * 64 + Convert_Dic[DNA_Output_withoutN[i + 1]] * 16 + Convert_Dic[DNA_Output_withoutN[i + 2]] * 4 + Convert_Dic[DNA_Output_withoutN[i + 3]] * 1\n",
    "    Output_file.write(chr(code))\n",
    "\n",
    "Output_file.close()\n",
    "    "
   ]
  },
  {
   "cell_type": "code",
   "execution_count": 13,
   "id": "7b4cabc1",
   "metadata": {},
   "outputs": [
    {
     "data": {
      "text/plain": [
       "25"
      ]
     },
     "execution_count": 13,
     "metadata": {},
     "output_type": "execute_result"
    }
   ],
   "source": [
    "code = 'ATGT'\n",
    "i = 0\n",
    "res = 0\n",
    "res = Convert_Dic[code[i]] * 64 + Convert_Dic[code[i + 1]] * 16 + Convert_Dic[code[i + 2]] * 4 + Convert_Dic[code[i + 3]] * 1\n",
    "res"
   ]
  },
  {
   "cell_type": "code",
   "execution_count": 13,
   "id": "e98dc441",
   "metadata": {},
   "outputs": [],
   "source": [
    "def decode(char):\n",
    "    code = ord(char)\n",
    "    result = \"\"\n",
    "    result += Reverse_Dic[code // 64]\n",
    "    code = code % 64\n",
    "    result += Reverse_Dic[code // 16]\n",
    "    code = code % 16\n",
    "    result += Reverse_Dic[code // 4]\n",
    "    code = code % 4\n",
    "    result += Reverse_Dic[code // 1]\n",
    "    return result"
   ]
  },
  {
   "cell_type": "code",
   "execution_count": 14,
   "id": "25b2d648",
   "metadata": {},
   "outputs": [],
   "source": [
    "Reverse_file = open('Output_Raw.txt', 'r')\n",
    "Reverse_Output = open(\"Reverse_Output.txt\", \"a\")\n",
    "while 1:\n",
    "    char = Reverse_file.read(1)          \n",
    "    if not char: \n",
    "        break\n",
    "    Reverse_Output.write(decode(char))\n",
    "            \n",
    "    \n",
    "Reverse_file.close()\n",
    "Reverse_Output.close()"
   ]
  },
  {
   "cell_type": "code",
   "execution_count": 15,
   "id": "694c6f80",
   "metadata": {},
   "outputs": [],
   "source": [
    "DNA_Output_1234 = DNA_Output_withoutN.replace('A', '1')\n",
    "DNA_Output_1234 = DNA_Output_1234.replace('T', '2')\n",
    "DNA_Output_1234 = DNA_Output_1234.replace('G', '3')\n",
    "DNA_Output_1234 = DNA_Output_1234.replace('C', '4')"
   ]
  },
  {
   "cell_type": "code",
   "execution_count": 16,
   "id": "2ff0a45e",
   "metadata": {},
   "outputs": [],
   "source": [
    "Output_file_1234 = open(\"Output_Raw_1234.txt\", \"a\")"
   ]
  },
  {
   "cell_type": "code",
   "execution_count": 17,
   "id": "4c01ed82",
   "metadata": {},
   "outputs": [],
   "source": [
    "Output_file_1234.write(DNA_Output_1234)\n",
    "Output_file_1234.close()"
   ]
  },
  {
   "cell_type": "code",
   "execution_count": 58,
   "id": "292928cc",
   "metadata": {},
   "outputs": [
    {
     "data": {
      "text/plain": [
       "40535"
      ]
     },
     "execution_count": 58,
     "metadata": {},
     "output_type": "execute_result"
    }
   ],
   "source": [
    "len(DNA_Output_1234)"
   ]
  },
  {
   "cell_type": "code",
   "execution_count": null,
   "id": "4a32a654",
   "metadata": {},
   "outputs": [],
   "source": []
  },
  {
   "cell_type": "code",
   "execution_count": null,
   "id": "4c53fc93",
   "metadata": {},
   "outputs": [],
   "source": []
  },
  {
   "cell_type": "code",
   "execution_count": null,
   "id": "6c603439",
   "metadata": {},
   "outputs": [],
   "source": []
  },
  {
   "cell_type": "code",
   "execution_count": 18,
   "id": "74c9c8cf",
   "metadata": {},
   "outputs": [],
   "source": [
    "Test = f.readlines()\n"
   ]
  },
  {
   "cell_type": "code",
   "execution_count": 19,
   "id": "705cf003",
   "metadata": {},
   "outputs": [
    {
     "name": "stdout",
     "output_type": "stream",
     "text": [
      "ERR016162.4060827\t99\t20\t99916\t60\t102M1D1M3I3M1D1M\t=\t100294\t469\tAAAAATGTGTATTTCTCCTCAGACAATGCATGGAATACAACTCCATTTCACCTGCCTCCAGTTTATATTCTATTGCTTTATTTTACTTTCATATAATACTAAATATCAAA\tIIA@@AA@A@??AA@B?AB@B@A@B@A@ABA?A@@A@@B@@B@ABAAA@B@ABAAABABBACAAAAAAA?B?ABA?BBA?BB@@@ACBBBBBBCABCAACF%%%%%$&$$\tX0:i:1\tX1:i:1\tMD:Z:102^G4^T1\tRG:Z:ERR016162\tAM:i:23\tNM:i:5\tSM:i:23\tMQ:i:60\tXT:A:U\tBQ:Z:KJ@@@@@@@@@@@@@@@@@@@@@@@@@@@@@@@@@@@@@@@@@@@@@@@@@@@@@@@@@@@@@@@@@@@@@@@@@@@@@@@@@@@@@@@@@@@@@@@@@@V@D@@@CECC\n",
      "\n"
     ]
    }
   ],
   "source": [
    "for l in Lines:\n",
    "    if l[0] != '@':\n",
    "        print(l)\n",
    "        break"
   ]
  },
  {
   "cell_type": "code",
   "execution_count": 20,
   "id": "eda90a72",
   "metadata": {},
   "outputs": [
    {
     "data": {
      "text/plain": [
       "['ERR016162.4060827',\n",
       " '99',\n",
       " '20',\n",
       " '99916',\n",
       " '60',\n",
       " '102M1D1M3I3M1D1M',\n",
       " '=',\n",
       " '100294',\n",
       " '469',\n",
       " 'AAAAATGTGTATTTCTCCTCAGACAATGCATGGAATACAACTCCATTTCACCTGCCTCCAGTTTATATTCTATTGCTTTATTTTACTTTCATATAATACTAAATATCAAA',\n",
       " 'IIA@@AA@A@??AA@B?AB@B@A@B@A@ABA?A@@A@@B@@B@ABAAA@B@ABAAABABBACAAAAAAA?B?ABA?BBA?BB@@@ACBBBBBBCABCAACF%%%%%$&$$',\n",
       " 'X0:i:1',\n",
       " 'X1:i:1',\n",
       " 'MD:Z:102^G4^T1',\n",
       " 'RG:Z:ERR016162',\n",
       " 'AM:i:23',\n",
       " 'NM:i:5',\n",
       " 'SM:i:23',\n",
       " 'MQ:i:60',\n",
       " 'XT:A:U',\n",
       " 'BQ:Z:KJ@@@@@@@@@@@@@@@@@@@@@@@@@@@@@@@@@@@@@@@@@@@@@@@@@@@@@@@@@@@@@@@@@@@@@@@@@@@@@@@@@@@@@@@@@@@@@@@@@@V@D@@@CECC']"
      ]
     },
     "execution_count": 20,
     "metadata": {},
     "output_type": "execute_result"
    }
   ],
   "source": [
    "l.split()"
   ]
  },
  {
   "cell_type": "code",
   "execution_count": 21,
   "id": "980d0727",
   "metadata": {},
   "outputs": [],
   "source": [
    "test = l.split()"
   ]
  },
  {
   "cell_type": "code",
   "execution_count": 22,
   "id": "6a4360dd",
   "metadata": {},
   "outputs": [
    {
     "data": {
      "text/plain": [
       "'IIA@@AA@A@??AA@B?AB@B@A@B@A@ABA?A@@A@@B@@B@ABAAA@B@ABAAABABBACAAAAAAA?B?ABA?BBA?BB@@@ACBBBBBBCABCAACF%%%%%$&$$'"
      ]
     },
     "execution_count": 22,
     "metadata": {},
     "output_type": "execute_result"
    }
   ],
   "source": [
    "test[10]"
   ]
  },
  {
   "cell_type": "code",
   "execution_count": 23,
   "id": "462a4e01",
   "metadata": {},
   "outputs": [
    {
     "data": {
      "text/plain": [
       "73"
      ]
     },
     "execution_count": 23,
     "metadata": {},
     "output_type": "execute_result"
    }
   ],
   "source": [
    "ord(test[10][0])"
   ]
  },
  {
   "cell_type": "code",
   "execution_count": 24,
   "id": "e0275639",
   "metadata": {},
   "outputs": [],
   "source": [
    "ORD = [ord(test[10][i]) for i in range(len(test[10]))]"
   ]
  },
  {
   "cell_type": "code",
   "execution_count": 19,
   "id": "34bcf165",
   "metadata": {},
   "outputs": [],
   "source": [
    "l400 = Lines[400]\n",
    "l401 = Lines[401]"
   ]
  },
  {
   "cell_type": "code",
   "execution_count": 20,
   "id": "b0d1ede1",
   "metadata": {},
   "outputs": [],
   "source": [
    "l400 = l400.split()\n",
    "l401 = l401.split()"
   ]
  },
  {
   "cell_type": "code",
   "execution_count": 22,
   "id": "1eaf0e23",
   "metadata": {},
   "outputs": [],
   "source": [
    "ORD400 = [ord(l400[10][i]) for i in range(len(l400[10]))]\n",
    "ORD401 = [ord(l401[10][i]) for i in range(len(l401[10]))]"
   ]
  },
  {
   "cell_type": "code",
   "execution_count": 24,
   "id": "e5318ff1",
   "metadata": {},
   "outputs": [
    {
     "data": {
      "text/plain": [
       "({60, 62, 63, 64, 65, 66, 67, 68, 69, 70},\n",
       " {59, 60, 62, 63, 64, 65, 66, 67, 68})"
      ]
     },
     "execution_count": 24,
     "metadata": {},
     "output_type": "execute_result"
    }
   ],
   "source": [
    "SET400 = set(ORD400)\n",
    "SET401 = set(ORD401)\n",
    "SET400, SET401"
   ]
  },
  {
   "cell_type": "code",
   "execution_count": 26,
   "id": "c2eba73b",
   "metadata": {},
   "outputs": [],
   "source": [
    "ORD400_32 = [i - 32 for i in ORD400] "
   ]
  },
  {
   "cell_type": "code",
   "execution_count": null,
   "id": "0298577a",
   "metadata": {},
   "outputs": [],
   "source": []
  },
  {
   "cell_type": "code",
   "execution_count": 25,
   "id": "90676270",
   "metadata": {},
   "outputs": [],
   "source": [
    "f_q = open(\"HG00138_chr20_subset.sam\", \"r\")\n",
    "Lines = f_q.readlines()\n",
    "\n",
    "DNAq_Output = ''\n",
    "for l in Lines:\n",
    "    if l[0] != \"@\":\n",
    "        x = l.split()\n",
    "        DNAq_Output += x[10]"
   ]
  },
  {
   "cell_type": "code",
   "execution_count": 27,
   "id": "e5720250",
   "metadata": {},
   "outputs": [],
   "source": [
    "Output_Raw_q = open(\"Output_Raw_q.txt\", \"a\")\n",
    "Output_Raw_q.write(DNAq_Output)\n",
    "Output_Raw_q.close()"
   ]
  },
  {
   "cell_type": "code",
   "execution_count": 28,
   "id": "91664373",
   "metadata": {},
   "outputs": [
    {
     "data": {
      "text/plain": [
       "40539"
      ]
     },
     "execution_count": 28,
     "metadata": {},
     "output_type": "execute_result"
    }
   ],
   "source": [
    "len(DNAq_Output)"
   ]
  },
  {
   "cell_type": "code",
   "execution_count": 30,
   "id": "e7506bdd",
   "metadata": {},
   "outputs": [
    {
     "data": {
      "text/plain": [
       "'IIA@@AA@A@??AA@B?AB@B@A@B@A@ABA?A@@A@@B@@B@ABAAA@B@ABAAABABBACAAAAAAA?B?ABA?BBA?BB@@@ACBBBBBBCABCAACF%%%%%$&$$??=6:;;;:935?>:?)3?8@>@4=7;82==15.<@8*=;8?40=:69-?4-;936@4;=?=?>93,34%@6>?;,<@20@37677>;88BA@A@<@9?CE\\'\\'&\\'&#)\\'%@B?BAACABAC@BCBAABBABCCBB@BC@CAABBCCAB@ACAAACAABBBCCBBBBCACABCAACCCBBCA@?@CCCAABBBBCBB@CBABB@CCBABDCCBBDCDEDFDDDFEDEEFEEEEEEEDFEDFEEFEEEDFDEFEECFEEFEDEEEEEEEEFEEEEFFEAEEEAABEFEED7??DEEEDCFD@>C(78989@@;?;;?4B86@<@<:;7*C=54>:4;;=<=<=<=>9@9A>:7=5AA??<>;=@<@?9@>@:5=<7@2<<@6==?>A@@A?@@A?A@2A?B>A3A;@AA@BCCBB@BC@CAABBCCAB@ACAAACAABABCCBBBBCACBBCAACCCBBC@AA@CBCABABBBCBB@CBC@C@BCBBBC@BCAABBAA:BAC@CCCD@B?A@ACAAACAABABCCBBBBCACBBCAACCCBBC@@A@CCCABBBBBCBB@@<CBC@ACBBACBBCAABBA>:BAC@BABC>BBBBBBB@CACCCDDD:@B?A@ACAAACAABABCCBBBBCACBBCAACCCBBC@@A@CCCABBBBBCBB@CBCBC@ACBBBCBBC@ABBAA:BAC@BCBCBBBBB@BBBCACCCDDD#############################################################################################CDC?CBCCA@AABBCCCBBBCCCABBBBCBBBBBCCABACBABCBBCBAABBA:@BABACBCBBBCA@BC@CCABBCCCCBBAA@BABBCBACBACC?BA@>AABCCBBC?AB@CCCABBBBBCBB@CBCBC@BCBBBCBBCAABAAA:BAC@BCBCBBBBBBBBBCACBBDDDAC@ABAA85?18CC@CCBBDCC6BA@A>>B?BCCABBBBBCBB@CBCBC@BCBBBCBBCAABBAA:BAC@BCACBBBBBABBBCACBBCCCAC@BBAAC@CA?BC@BCBBDCB@CB@@CBBDBBCD@@B>B?BCCABBBBBCBB@CBCBC@BCBBBCBBCAABBAA:BAC@BCACBBBBBBBBBCAC@BCCCACABBAAC>AAABC@BAA>@?A+7@<2?4;5<BCD>@B@A>BCCABBBBBCBB@CBCAC@BCBBBCBBCAABBAA:BAC@BCBCBBBBBBBBBCACBACCCACABBAAC@CAABA@BCBBCBBABBCBBCCCBBCC@BBBCCEDDDDEDEEEEFEEEBDEEDFBEEEEEEE@DEDEEFBEEBEEFEE>8EEEFEEEACF@EEDCAE;EEAFDEA@AEBDEFBEBDED>C@<#B2DCE=<EFGDDEF=BDFEDEEEEEAEFFE6FDEEEEEEEEEEFFEDFBDEEEEEDEEFDEEEEEEEEEEEEFDEEDDEEEDDDDDDDCBBB@9..:@<@?9:=@@=:C>=CA:@@AA@@@B5?7####################################################################(&$$%$&&CCDDB@BDABBABCCCCBAABBCCABBCBCBCCCA?BCBCCABABBAACCB@CCACBBBABCCACC@BCCABBCBACCB@BCCB@CBA@BBCCBAABA>B@#CDDC@B??BBABCACCBACBBCCABBCBCBCCCABBCBCCABABB@?CCB@CCACBBBABCCACC@BCCABBCBAC>B>:CCB@C?=>A>=CB<A>A4B@B@@EDDDDFDDEEDEDEEEEEEEDFEEFFEEEEDBAEDEEEEBEFEEDEEEEDEEEEEB@EFGEEAFEEEFEFEEDFEEDEFEFDDBDDCBD4>@CBBC@ABDCB>?@CC@CC?@CBCCC@ABC@CBCC;ACCCCCCBBABBBCCCBA=ACCCACBBB?CBCB:@BBCACC@CCCCBBABCCBBCBB?CB?B>#$&$%%\\'%&FFCADCBBBBBCBBBCAAABC=>AAAAAAAAAA@AAAAAA@AAAAAAAAAAA@A@>@AAA@>B@@@@@@?@A@@@AA@B@@B@@@AA@B??AAAAAA@AII=CC@DC=>,5-CCCCCBBABCBC@CBAABCCBACBC@CBBCA:@BAA?AB@CCCCBAABCCBBCAB@CB@BCCBBCAABCBBCBCCCCCABCBAC@C@AA@ADBDAEA>ACB8*7EEADEECBE?AEAFDFE@FEEECEEFEFDEEEEE9BEEEEEEDEDEEEEEEEEFEEEEEEEEEEFEDEDDDDEDCCBB<<4?E3C?EA@@E>EE<EEFEEEEFB;E@EEF@FEEEEEEE@EEEEA=EBEEEECEDE?DEEEEEEEEEEFEEEDEEEFDDEDCDDDDDCB>>CCBEE>:@EC?=@@;?<<FE@E?F7A@DEEFEFEEE@EEEEEE@EEEEBEEEEEEDADFEEBEEEEEEEFEEEDEBEFDFEDCD5DDDC?B%%$$%$%%%GFBACBCAA@A?C@BBAAAAAAAAAAB@@AAABBAAAA@ABAAAACAA@AAA@@@@A?@@A?>A@AA@@@A@B@A@A@@A@@@A@B@AA??ABAAAA@AIICCAAAEDDEEF@@E?8D=7BEBEC=FAAEEEEEEFFEEDEEEFEDEEDEBEEEEEEDEEEEEEDBEEEEEEEEEFEEEDEEEDDDDDECCCB>BC@DCBBBDBBBBBCADBCDB=BCBBAA@BABACABBABBCCBCBCCBBBCCBCB9ABCBBACBCBABCCBBBCCCCACACBCCCBABBBCCBCBCBBC>#######################A4B599A<@<=>6/@;8<7?/73;=5/9<@@<:9?@@A>A@;@<8297;@7=?AA?@A@@@ACAA=@A?>CCBCBA>BBC>CABBABBCCB@BCC?BBCCBCB:ABC;BACBCBABCCBCBCCCC@CACBCCCBABBBCCBCBCBCC@CCCCBCBCACBBBCCCAABCB>IIA?BAAAA@@@@BAA?@AA@B@AAA@@@>AA@AAB@AA@AAA@B@@AAAABAAAAAAAABAAAAAAAAAAAA@BBB@>=BACBABABBBACBBDCCADEE&&%&%$%$$#A=BABA8@=>BB>CDB:A@C;BADBCCABCCBBBCA?CACACBCCCBABCBCCBCACBAC@CACCBCBCBCBBBCACBABCABCBBCCBCBCCABAAAC>?CDACDCD?BCBCCCDA:ABCBBADBCCABCCBBBCCACACA@BCCCBABCBCCBCACBAC@CCCCBCBCBCBBBCCCBABCABCBBCCBCBCCABAAAC>#########################B?ABBB>>A7?=>::????<:??@@>A;;;:<>?@BBBA=@B>BBB?>A@?><<A=>?=??;><:A:@AA??@A<9CDB:BBCBBACBCBABCCABBCCCCAC@CBCCCCABBBCCBBBCBBB@CCCCBCBCACBBBCCCBABC@BCBBCCBCBCCBBABAC@CCBCBCBABBBBB@$$&$%%%%\\'AE?ACBCABABBCABBAAACA@AAA?ABAAA?AAAAAAAAAAAAAA?@@@@?<@=!AAA@A@@A@A@BA@@B@@@@AAAA@C@@?@@AA??????A@@BHI@DBCCCCCCACACBCCCBABBBCCBCBCBBB@CCCCBCBCABBBBCCCAABC@ACBBCCBCBCCABABAC@CCBCBCBABBCCCBBCBB@AAAACCB?BA@?DBCCCCCCACA?BCCCBABBBCCBCBCBAB@CCCCBCBCABBBBC@CBABC@ACBBCCBCBCCABABAC@CCBCBCBA@BCCCBBCBB@AAAACCB?BA@?DBCADDDCBC3DBCCACABCCCCCDBCCBB@CCCCBCBCBCBBBCCCBABC?ACBACCBCBCCABABAC@CCBCBCBABBCCCBBCBB@B@ABCCB?CC>BCCDDDCEEEBCBDEFEEEEEEEDFEEFEEEEEB>DEEEFEECFEDEEE@EEFFDFEEEEEEF5FAFEEEACF@><FEEFE@EE=BBBDA:DIIA@@BAABA??AA@@?AA@B@AAB@@AA@@@@AB@BAAAAA@AABAAAAA@>?@?ABAABAAAAAB?BAA@BBB@BAA>C>A@@C>BABBBCCA=A?<EE%\\'%%%$$%&#######<693;@@:@B5A>C7&:=99@=7<939B;B6AAC?:A:B333+1/8:86<;:7>=@?BE><CBD@:<AABA>>ABAABCBC;AC@>CCCBBAAABCCCCCAABAAACCACCA@BA=;@?=@BCC?ABB>AABABB?BBCCCCC@ACC@BBCCBCC@CBAAC@AB>@<A?@?@CBA9<<9=A@B?A#$%%%%%\\'%%FDA?CBBB@BBBCBABBCABA@AAAAAAABAAAAAAAAAAAAABABAAAABA@@@AAA@@AA@B@AAAB@@@B@@A@@@A@A?@?A@@A??AAAAA@@AII@BB?BBAACCCBBCCBCCAACCCABBACACBACAACBBACACBBACACCCCABBCABBBBCBBBBCCCACA?CCBCCCBBBCCC?@A?BCBCBA?CCDDBC@B?ABACBCBACAACBBACACBBACACCCCBBBCABBBCCBBBBCC7ACCACCBCCCBBACCC@@B@BCBBBA?ABCCACBBBCB@C@BAC@B@CDDACDD>CACCAA?79A@>@>CABBBBCCCAC=9CCBCCCBBBCCC>?=<0?@@=;9==AAACBB;@@AC@CBCCB<BD>ACCC;?>935??77;;CA@<AB@@=@#>CACCCCBBACABBBCCBBBBCCCACA@CCBCCCBBBCCCA?A>ACBBBABCBCCACBBBCBAC@CBCCB@CDCACCBCABA>6ADABCBCBBCACBBAC@>CACCCCB@=CABB@CCBBBBCCCACA@CCBCC?BBBCCCA??>A>BBAABCBCCACBBBCAAC@CBCCB8CDC@CCCCA@927ADACCBC>?AACBB6C#BBCCDDCDDEEEEDEEEEEFBCFEEEEEEEEEEEBAABEEEEBEEEEEEEFEEEEEEEDFEFFEDBFEEEDEEEEAABDEDFEDDCEFDDB@B@@?ADDDDE@EEDEEEFEEEEEEEDFEEEEDFEEEEEEEEE;@BDEEEE=E?EFEFEDEEGEEE;@EEDE<CECE################>AAAACBBBABCBCCACBBBCBAA@BBCCB@CCCACCCCCBA>9ACACCBCBACACBBAABBCABCBCBBABACC##########################IIA@@AAAAA??@B@@@AA@A@BAAA@@BAA?A@@@@A@=>@AAA@@A@ABABA@AABAAAAAAAAAA<ABA6A>AB=<@A8=@#################&&&%%%&$$>;9>??DFDDEE@DED=CCC?5>===EE7EEE=9BDEE>?EE73A:F?<AAFCEE<:@E/E####################################################################################################################################3:9994B;;<CACCC>:44?@>==;CA=?A>@??@>?=?9CA@B>A:A@C########################################################################################################################################################:9;7<=B@@<CCCCB=946==>@?>C@A>@BABAA@B=?9CBCBBA:=?=###################################################>CCCACCCCCBB?:BCACCBCBACABBBAABBCABCBCBBABACB########################################################IIAA@AAA@A??@AA@@A@@@@AA@@ABA@@A@>A@@@@BAAAA@B@B@AABAA?AC@AAACAAABAC@AA><AAB>B2;=@@C@A>AA>@AAAAAC7BDE%%%&%%%$$@ABA@ACABABABABBC@BCBCB@CACBBABCCCABBBABBCCACABCCCA?AABAB>C?CABCCAAAB@CCCCACACCC??9<@A@@9A:A=>@B?,@C#CBEDEECDEEFEEFDD>FEEEDEADEAEEEEEEEEEFEDEFDEEEE>EDBEEEEEEDEDFDEEEEEEEEEEEFEEFEDDEEDEDDDBA@CCB>C?BAACCAAAB@CCCCACACCCABABBCCCBBACBACBAC@BCACACCBBCCBBC@@?CBBCCBBBBBBDDACCCBCBCCBDDAC>CCCDDDA?=BA<CC@ABBCACACCCABABBCCCBBACBACBAC@BCBCACCBBCCBBC@A?CBBCCBBBBBBCBACCBBBBCBBCCACACCCCCCAA?AB@BBCCCBDBBACDD>$%%%%%%%&FDDACBBBCABBBBAAABBAAAAACA@AAAAAAAA@??AAAAAAAABAAAAB@@@@AA@@AB@A@@A@@)@B@@A@@@AAB@AB?A@@@??AAAAA@@AII>BCEDEEDDEFDDEEDDBACEEEEAF<EFEFEEFEEEEEEEEEFEEDEEBEEEFBCBBBCEEFEEFEEEEEEEEEEEEDEEEEEDDDDDDBBIIA@@AAAA?89A?@A@AA@AA@A@BAAA@B?@@AA@AA?A@ABAAAAA?@AAAABAA@@@B@@@AAAAAAB@@@CABB@ACACBBBAABBBBDCBCBCBG%%&%%$$$$>???DDCAC@AACCBBCBBCBCCCCACCBCCABC@BCA@ACBCB@BCAAB@AAACCACCBCAAACCACCCBCBACCACBCCBACCCBCBCBBCBCBC@A@@>CCCCCABA>CBCCBBCBBACCCCABCCBCCBBABBAACCCCCA=BCBCACCC@@?C@@ACBCCCAC@@?CABCCACACCDABC?CBABDCCDCDCBC?CC>CCCCCABA>CBCCBBCBBACCCCABCCBCCBBABBAACCCCCA=BCBCACCC@@?C@@ACBCCCAC@@?CABCCACACCDACC+ABAA>CCDCDC@CBAC??=4),<<=?15>7?=*=8=./=;;:;92;;&A6??@;=9>?=<@;:778><<8=?@@@<@<=8A98@?;A48>??@?################################@DDABC?ABBDCBCCCCAABCCBCCCBCBBCCBCBCCBACCCBCBCBBCBDBCACAABBCBAABBBCBBBAABCBABABBCBB@B@CACBBBBBBCCCBA>@BAAADDEEEDFCABFEEFEEFDFEEEEEEEEEFEDEEEEEECEEEEEEEEEFEFEFFEEEEAEBAGEFEFEA*FDFEBEAFEEDDE@D@;#>AA>DBDABBC;B?CBC:ACCACCBACBCCBCBCBCACABBBACAABCBBBBBAABBBABA@BCAB@B@CBCBBBBBBCCCBABCABBBBCCCBAAACB@>@BBBBACCBBCBCBABBCBBBCABACACAACABCBCAC@B@CACAAAAACCABBBBBCCB@ABAABB@CCC@AB>B>==?C@@=A@@CCA9??;9BDDD<@BCCEDDDEBDEDFDEEEE>EEEFEFEFFE:EEEEEDFDCEFBAADDFBEEEEEEEED8EFDCEEDBFE>EFEB@EC:E==:AE<EDCB;<:6$$%%&%%%&GECBCCAA@CC@BBABBACBA@ACAAACAAABABAAAAAAA@AAAAABAAAAA@?@AAAAA??>A@@@@?@B@@@@A@AAB@A@?@A@A?4AAAAAA@AIIIIA@@BAAAA??AAAB?B@AB@AAAA@A@B@A@BA@A@@BA@AAA@@AAAAABABAA@BAAABB@BAACAA?@??A?CA@AAAABBBABBCBBBCCC?CCH&$&%$&%%$>BCB@BACBBBCABACACAACABCBC?C@B@>?C>BABACCBBBAABAACAACABBA;CCCAAB@CC<>CA774>>8A#######################IIA@@AABAB8$@@@?1===@B@B@B@@A@@AA@A@A@AAAA?AB@BA@?BAAAAB;BA=@AA@@=?A=BA<BAA9<?>=B<C@AACBB<A=BC:BB?A=E&&&%%$&$$<?A??BA@CBABAABCBABAB@B<A<B@CBCBBBBBBACCB@BCABBBBCAC@@B=>?@CBCCBCABACCACCCABCCCCBCABBCCBBCBACACCB8>A@CDCB@BCBCBBBAABBBABAAACAB@B@CBCBBBBBBCCCB@BCABBABCCCBAB@AB@CCCCBCABACCACCCABCCCCBCABBCCBBCBCCACCBA>A@CDC?@BABBBBBA?BCBABAB@B@B>B>B=BABBABBCCCB@BCABBBBCCC@AB=>?@CCCCBCABACCACCCABCCCCBCABBCCBBCBCCACCB2>A@%%%$%%%%%################A<B4A&9<7=>@:?@37\\'*/2-?,=@???=:)==/?>><=B@>;><;?@B@@@?@A@A@@@@@@AA?@+@AAA@?BAAABA@AII%%&\\'%%$%&F@B4BBCAA@@9>7=??><6@:>A@AC=>8=>?@?@BACAAA>AA>=A@@A@@A@@AA@@A;?9=>AAA7;@<=@A;<88<@@A5A@<<5?>AAAAA@=IIC@@@CD>A@AD2=8>;==@2?\\'=BBC6<6;1=?29>B;AAB6>@AA:?DBCF;$><A>?AADC@FBFBAC<C:EBB=F@?@ACBDHAA?B?@BACAACBCBCCABABCABBBBCCCBAA@@B@CCCCABABBCBACCCABCCCCBCAAACCBBCACCACCBB@BABABABBCCBACBCABACCCCBBCBBBB@CCCDEC@A4@FDEEFD?AEEE@>@BCAEEBEF<>ECEEEEF>E@EEEEEBEE@EEDEEDEEEEEDEF?EEEEEEEEDEEEEECADDDDDCCB<DCCDCCABBCCACCBABCCCCACABBCCBBBBCCACCBB@AABBBABBCCBACBCAAACCCCABCBCCCBACCCC@CCBBABBBCCACBBCBBABBB@@@########?B@;:087:;:<9>@<@@3722;:(59>?>=?>;A?@C>C@>C>??=@2<<?>@7@7?<:7<<;;;;7=>=?===@?=@??@>BCBB>A?>?=################@<AA>;;<>83722;8+99><<9:<8:=58+6:>>8><@A3<>=>C;B??<:7<<<>7@8?><@@CB@<=@>8=?;?>BAA?>?:CBEDDED@8B<A@EEECEEEFDEEEEAEEEEEE@EEEFEEEFEBEADEEBFEEEEE=FEEEFFEEEEDEDEEEEFEEE@EEEDFEDDDDCCBA22279@B-BBD>DC@@6=?=:;:<8@BBB@ABABBCAABBABB8C=BCBA;CABBAAAB;A:CBBAAABCBCAACCABCBACABBBABCCBBCABB?CB>###############################################################################################################################################################################################################################################################################################################@A@@BBACBBBCBBCAACCCBBABCBAB?C=B<B@CACC>CCC@C>A?BAAAA@BCC@BBBBBACBBCACACB>A@AACCA<BA?>AAA=B@AA4=??9?<A7;<7=9BACABBBBBCCBBCBBC@CBBCCBBCBC@BABBCBCBCCAAAABBCCCCAC@CABB@CBCCCABCCCCACACCBBCABBCABACABBBCAABA@>@BB<AB@BCB@B@@BC@BCDBBC@CBBCCBBCBC@BABBCCCBCCAAAACBCCCC@C@CABB@CBCCCABCCCCBCACCBBCABBCABACABBBC@BCC>>CCBBCBBAACBBCACBCBABAAACCCACCABBCCBBCAA@BBA@BBABBC?AB@BC@CACA@CCBA>CAAB-A###########################>CCBBCBBAACBBCACBCBABAAACCCACCABBCCBBC>A>BBA@BBABC;?<=>BCCCACAACC@;=>8;:62@>?<@=B<BDABDDCBD)CCCCDD??0BCCDCEDDEDFEEDEDEEEFEEDFEEFEEEEEEBBAFEDEFEBDEDEAEEEBEEEFEFEEEEEE=AEEEFDCFFDD;EED>;EDDDEFB<AC>CBBCACBCBABAAACCCACCABBCCBBCAA@BBBABBABCBCCACBCCCACABC@BABABB@AACBAACCBCBC@BC@BBDACBCBDD@C@C<C?>=<9B>@C@>ACAB=A>@B><<8A?AAABAA?@@@==@<?=4@*1??@91>@:9<*>>;;B@@###########################################>C<C<CAABBCCBB@@A>ABBAB@AB@>@CBC@ACC@CABCC?)*A@B<<?A=;7>728?@>@<@AA+?################################BBDDDEDDECBCFDDEFEEDEEEEEEEEEEEFEFEDEEEEEEBEEFEEFFEEEEEEDEEEEFEFEAFEEEDEFEDEDEEDEEE?D=EEDCC?89;9@BABCBCCB@BCCCAC@BCCBBACBBBAAB?AABBA>@=ABCCBBC=@@BBCCAB?BBBABBB>B@CBAAA@==A=A@A=A?9@#############CB@?EEDDEEG=EEFEDEFEEDEFBFAFDEEEEEEEEEEBEEEDEEDEEBEDEFEFEEEEEEEEEFDFDFEEEEDEEFDEEEDDFDAA@@DBC@BBCBBBBCABCB@CCBBCCABBBCCCBBABBBBBBBBBABABABCCCBBB@B@BAACCBACB@CBABACA@BBBB@CCCBCCCBBABCBACBBB@A?B@##@?BBAB?CCA7AB@A@A@ACABBBCCCAAAAAABBBABB@CABA@AAB@>?@B@BAACCBACB@CBABACA=BBBB@CCCBCCCBBAACBACB?B?A@@6/=48<<<=?.,7>;>5>>=##########################################################################################%%%%&%&%%GFCBCCCBCBCBBCABBAAAC@>?AABAAAAAAAAABAAABAA@AB@BAAB@??=!AAAB@?AAB@@@B@@BA@AABA@A@AA@?@B@A@?AAA@A@@AII############################################################################################@@BBC?CCCBAACCACC@CABACCACBBACCCCAC@BBABCCAACABCCBAABBBCBB@BACCBACCB@CCACABBBABACCCACC@ABCCBBDBBA:BB@@@BBCBCCCBAACCACC@CABACCACBBACCCCAC@BBABCCAACABCCBAABBBCBB@B@CCBACCB@CCACABBBABACCCACC@A?CCBBDBBA:B@C$$%%%%\\'%&FECADCBACBB@BCACABCAB@BA@BBB@@AABAAABAABAAAAB?AAAAA@@@B@AB@@A@@@@A@@@@@B@A@@@A=@@@B@@B@@@??>AAAABAAIICDBBAB=DBBC@CADCABCCACCCCABABC@CCBABBAACBBAABBCBBBBBACC@BCBBBCCBBABBC@CABCCBCCBCACC@CBBC:ABABCAAABAC>?DEDEBACDFEEFEEDFDDFFFEEEFBDEEGEEFFEEEFEEEEEEEDEFBEFDEEEDEDEEEEEEFDEBBEEEEEEFEEFDDDDDBDDDCDBBCC@AACCABBC>CCCBAAACB@CCBA@BAA@BCA@BB@BBABBACB@CCBBBCCBCABBA@C@ACCACCBCACC@CBBC:ABBBCAA@B?@@@CCABBA@A;CE?F9>DEFEFEDEEFDEEFEEFFAEEGFEEEEEEDEFEEFDEEDCEBEEEEEEFDEBCEEEBEEFEEFDEEEEBEDEEFEEADAAAACBII9@AA?AAB??@A@@A@A@@@A@@@BA@B@AA@@@@BAA@BA@@@@@@@AA?;>?ABAAAABAAAAA?>A?@??A@AB@AAAAA@@A@A@A@@DBDAB##&#\\'%%%$$$BCCDDDEDDDEEDFEEDEDEEEDFEEFEFEEEDDFEEEFEACBEEDDEEEE?EFFEEEEFEEEEE;CAA?@FEEDFDEEDDEABA=CB@?:A>AC@BBBBB@CCCACCABBCCBBCBBA:AACBBBABACCCCA?@=B@BBC@CBCCCCCAAB@BAAB>B@CCBDCABCBBBCBCBACABBBBCD@CBC@BA@@@@BBBA:AACBBBABBCCCCB@CBB@BBC@CBCCCCCAAB?BAAB>B@BCBCCAABBB=BBBBACAAAAABC@CABABBAC@CBBBBCCC@B@@BADADC@?DCEDDEEDEFE@AAEEEEFCDEE5FED@5BBA@AB=A:@DBEE<:F>@4DEEFE3EE;<EE>78GE;E??<>3ABD:9AECE<:86719:######ABBAAAB@@=?=AABAB@CBBC@BBBBABBCAACCAACBA@C@CCA@ABCABBCACCA@CCACBBACBB@CCBACACABACCCBBBBC@CBAAC>$%$$%&&&%#######################################################################>@@A@@@AAAAAB@@B@A@?AAAAAA@AHIIIA@@AAAAA??@A@A@A@A@@A@AB@A@A@A@@@A@A@@@A@@B@@@@B@AABABAABAAAA@AAAAAAAAA@??A@>=?8@B>AA@C>BB@@AAAAE=H%&&%%$%%\"##########################################################################################################################################################################################################&$%%&%&%&######################################################<2<@@@A?@?AAAAAAA@B@AB@A@@AAA@?@@@A??AB@ABA@BII#####################################################################################################IIA@@AA@BA??@B@A@B@BA@B@AA@@@@@?@@@@@>?>@??@?,9<<A@??<@AA=AA?8@=AAA@4;@==A;?B?A=@?;@=@A@A>@B@;?A49@>F&%%$&$&$$@D<6:>B<@@49>=@B:A@@?>=;@==:9=#######################################################################&&&$\"\\'#&$###################################################>@B>B:=4:?<>;@A@@@AACCCCCCABBACC@CBBCCBCBBABACBA9@@AB@BBBBBCCCCC>>>>>>>><>@>@?>=8=?@@=;:4<.;:::?<??38:3;=@A?@-?8?=:?<:;<19:.6>=>>>@?>6?=)>-?BA???A?8AA;8;::@@@AAAAAAA;;:::::<7A##########################################################################################################################################<@/4A@@@AACCCCCCABBACC@CBBCCBCBBABACBAA@#####################################################################AAAAAAACCCCCCABBACC@CBBCCBCBA@@@###############################################?A<>@@<@CCCCCCAA>AC@@C@B=CBCABABACCBB@B?AACAABBABBA@:@###############################################==>>====CC@C@C9ABACC>CABCCBBBBABACCBB@BC@ACAABBCBBA@A@#################>??@>>>?DCCDDC<=?<@@53;<CAB<B@ABADCBB>BB>ACAABBCBB@B@BCBCCBBCBBCC@BCBCCBCBBBCCABBCC>@A@BCBBACBCCBCB@B@BCCBABBAABAABBBCBB@CBBCBCCBBCBBCBBBCBCCBCABBCAC?BCCABBA?ABBCBBCC@@@B@BCAAC@CBBDDBDC>BABBCCBCB@B@BCCBABBBAB@ABBBCBB@CABCBCCBBCBBBBBBABDCBCABBCACBBCCACBABACBDBBDD@A@B?BABBC@BCBDDBCC@CC@C@ABBBABBBABAABBBCBB@CBBCBCCBBCBBCABBCBCCBCBBBCACBBCCABBABABACBBCCAA@BBBCBAB@CABCCACBABBAACAC>CCDCBAC;7:;7=:A>89@>>B?BB?B?CB?A=BBB<BBBB@?AA?@@?@@?@A?AAAA@??A@7?A<?>@?<;47?=-:<5:9B<>?>=8<7B@0A############>ABBBCBB@BBBCBCCBBCBBCBBBCBCCBCBBBCABBBCCABB@BABBCCBCC@A@CB@CBAB@CBBCC@BBABBACCACACDCCBAC@C@C?C@DDAD9#################################################################################################################################################################################################@AA@BABBCBBCC@B@BBBCBAB@CBBCCACBABBACCACACCCBBAB@B@BBB@CCACBAABBCCBBACCB@BBBBBACCCB@BBBCC@B@CCCCDBCCA@CABA@AACCDCCCBBCBACAAABCBCCCABCABCBCCBCBCCBBCABABABBBBCBACCBABCCBBCBCBBAC@BBCBCCBBABBCCBABABCCCBBC@>:CC=BBAACCDCCCBBCBACAABBCBCCCABCABCBCCBCBCCBBCABABABBBBCBACCBABCCBBCBCBBAC@BBCBCCBBABBCCBABABCCCBBC@>$&%%%%$%&HECCCBCBBCBBBBBBAABAB@AAAAAA@A@AAA@AAAAAAAAAAAAAAAAA@AB@AAA@A@@@AA@AA?@@@@AAAA@B@@@A?@@AA@?AAB@A@@@IIC>::<A5?@7:>?4@=BE<:EDE3EE8E@BG:EEEEEE1DE=E;E@EDEBEEE@=F7=DEE>EEEF<@AFDEAE:EEEDDDE@=E?ECAAD=CDBCCBAC@CBCBCCBBABBCCBABABCCCBBC@CBBBBBC@CABCB@BBAABCCCBACCAAAC@CBCABBBBCCB@B@CACBCBBCCBBBA@@CBABBA@@?B=B?C?DDB>ABCBCDBCC@?CBCBBCACABCC@BBABBCCCBACCAAAC@CBC@BBBBCCB?B@CACBCBBCCBBB?AACBACCCABBCCBBCAACA>BBDDDDDDFDFEEDEEEEDEEEEDFEFEEEEEDDDFDFEEEEBAEEEAEDEEEEFFCEECEEEDEBEEEAEFACD>@EED@DA@>DFDA@CC$$&$%%%%%FCD?BCB@BA@<BAAC<?>A=@2AAAAAAAABABAAAAAAAAAAA@A?@@A@AAABAA@AAA@A@ABA?:C@AAAAABAA@@B@?BA@A>?BABA@A@BII@@@@BCBCBBCCB@CBCCC@BBB@ACBCCBBC@BAABC@BCCAAA==ACCABCA=CC@B@ABC@ABBBBBC9B@BBABACBAA@BBCABBBABDABCBBDDIHB@@AABAA??@@@B?AB@@B@@?@@?AAB@@?AAAA@@B@AAA@AB@AAAAAAAAAABAAAABAAAAACAAABAABB@AAAAAAABBBBBBBBCCBCEF&&%%&$%$$@ABBBACBCCBBC@BBABC@BCCBBB@A=CCABCABCC@BABBC@ABBBBBCABACBAB@CBABCBACBABB@ACAABBACCCCBBBC@BCCC@CACB@DCIIA@BA@AAA89@?AAAA@@A@@A@@B@AAA?AB@AAAA=AAAAAB@A@ABAAAAACAAABAAABAAAAAAA?ABAABA@A@ACABBBBACBCBDBD?D?F%&\\'%%%$$$BCCDCFDDDEDEFDEEEEEEEEEEFEEEEFEEEDEDEEEFEEBFEEEEEEEEEEEEEEEDFEGEEAFEDFEFEDDFEEEDDEE@DEDFD=B6>CCBACBABACBABCBBCBBBBACCAABBACCACBB=CBBCBC?BACABCBB@CCCACAABCBC@CBCBC@CBB@BABAAC>;BCBBCA@CDDCDCB@CB@;>=?=A;?<<BACCCCB=BCBBCBC@C1AAC?B@;C:>?@#############################################################>B?AAC<AAB>@AABC@BBCBB>BC@CACACCBB=CCCACABBCAC@BBC8:399?@A@?>?B@?A@<@AB4BCC@C@?######################@@@BCAABBACCCCBBBCBBCBC@CACACCBB@CCCACABBCBC@BBCBC@BBAABABA@CAAACABBBBBCCBCBAABBCCBA@CB>>CC@BCBDCCBCC@@@BCAABBACCACBBBCBBCBC@CACACCBB@CCCACABBCBC@BBCBC@BBBABABA@CA@ACA>BAABBBB,A?@BACCAA<CB?B?C@C=BD?C@##>A@A@ADDA?@EEDDDCF=EEEE;BEA5<>=E@DEDD=EEED=EDE<EDAEFB;FBCDE@?EF@AA>EFF<B>EDED@E?3@B>AAB>DCBC@AAACBBCBC@CACACCBB@CCCACABBCBC@BBCBC@BABABABAACAAACABBBBBCBBCBAABBCCBBBCBCBCC@CBBCBCBBBBBCAB>BABCCCC3>6D>BDDDE7DEEE@DE@@FDEEAEBD>EGDEEEFEEEFEEEEEEDEE+BEEEEEDFDEEEEEEDEEEEEEEEEEEEFDFDEDDDEDCCDBIIA@@ABAA@@?BAA@?@BAA@@@B@@@@@@?ABAAABA?AA@AAA@@AAABAAAAAAAAAAAA@AAAAAAAAAAABA@@@ABCAABB@BABCBCBD?CA<%%%%%%%$$###################################################################A?=7E=F>EE@;EE@A<9B?ADC@@#########################C;CABBB@><=@@A9CA>B@A>AB4A@@=AA@<?CCABB/CBC@CCBBCCC>D@DBB=@<CB?A?A@#####################=:>B<;@BCABBB@BBBBCCBCBCBABCCCCACBCACCBBBBCBCBBBBBCB@B@CBBBCAABBAAACAC?CBBCBCCA>#####################;B@C>CBBCABBB@BBBBCCBCBCBABCCCCACBCACCBBBBCBCBBBBBCB@B@CBBBCAABBAAACAC?CBBCBCCA>#####################################################################################################>BBBBBCCBCBAABBCCBBCCBCBCC@C@BCBCBBBBBCABABA@CBBBCBAB?ABBBB=BB@BCBABBABBBCABCBAACAB>@BB?@BAB9ABB###############################################################################################################################################################################################################>6CCBD@@?A@@;ABBADBCBBACC@B@B>BBCAAB?AAACAC@CBBCB@CAACABABBB@BBBABCBACAAAABBBBCA@CBABBBCCBCCACAAB?CA>C@<@?@=AA@>BAA7CBBBBAC?@B@AB?AC?=@<?=>@?C?C>BC?CB=ACABBBAB@BBBAA@BAAAAAABBBBCA@CBABBBCCACCACABB@C@BB@<>>DAAB@B9B@B@CB?BCAAAB=@>C?B>C@BC?CA@ACAAB>BB@BBBABABACAAAABBBBCA@CBABBBCCACCACAAB@CACCCBCCBCCAC@@A@CDADCC;ABB@@;@<BB?CBAA@?@?@?A@CBBCBCC8ACABBBBC@BBBABCBAC@AAABBBBBA@CBABBBCCBCCACABB@CACCCBCCACCABAAC>####################################@=AAABBBBA@@ABA?A>@B@AAAA=@>;;@?B7B@@A@?CCACABB@CACACBCCACCABAA?>>;BB@C@A>BBBC?ACABBABCBCCB@CCABBBCCBCCACABB@CACCCBCCBCCABABBABBCBCCBCACAAC@BC@BAA:@CCBBCABBAC@CACAAC>>ABAABBCBBBBBBBCACBBBCACCABBACABABCCCBCACCABAACAC@CCBCCBACBABBBBBBABA:BDDBBAC@ACBBACC@CCB@CD>C><A=@8:#####################################################################################################%%&$%%$%%GBBBACA><A@A@?A@@>@B@==@C>A@A;A?A?@A?>AAAAAACAABAAAABA@@AA@AAAA@@AABA?AB@@BAA@@>@A@@@B@AB>?AAAAAA@AIIIHA@4AAA>@4?@A@B?AB@A@B@@B@@@@A?BA@B@A@ABA@B@BA@BAAAAAABA@BA@AAB?AAAA@@=CA?>AA@7A?;;@@@?@@AAACACACB@F&#%%%$&$&@B@AAB@:CC@BBACCB@CCACACAACBCCBBBACBBACBABCAAB@BCCBABBABBCBABAAACAAC@BAC@@A@?>@;@@?=@@CAACCABBABDABBD######DB@BC?DC@CCC?AB;5;7:?=(><BBBCAAA>AB#ABAACBCAB@AAAAA@BABBBAACAABBA>ACA@>ACBCACABCBCCABB@CCBACCA>=A=?7A;DD>BCDEA;DDEFFEEEEGBFEEEEFEEEFEEFFEEFEEEFEBDEEEEECEEEEEEEEFDEEEEEFEEEFEEDEEDDDDECDCDB%#$%&%&%&FDBACABBBACBA@AA@CBAA@AABBAABA@ABAAAAAAAABAAAAAAAAB@@A@:AB@AABAA@AA@A?@B@@@BAAAA@BA@@B@AB>@AAAAA@6AII##########################AA0BB@AB>CCBCABBAAABBBBAB?BAAC@ABBA>ACAABACBCACABCBCCABB?CCBACCACCCAAABCAB>@?7<@BB:EC??BA>EDCEBEEAEFF4@@FECEEDFEFEEFEEEEEFD@:EEAFEEEFEEEEEEEEEFDEEFEEEEEFEEAFDDFDFDDCABBCBCBBBACACACABBAC@ABB@CBA@CCAACCAAABCABCAC@CCBAABBBBAACCABB@BABAABABBCBCBAACACBBBAC@B@BABABABBAABAB@BDCDEDEDDDF0>;:?EEFEEDEEEFEEEEEEEEEEEFEEEEAEEEEEFEFEEFEEEDEDEFEFD8GEEEFBEEEDEB1FDFEEDDEEC=-AIIA@BAABAA>?@AB@?A@@?AAA>@BAA@@?AAAA?AABAABAAA@A<AAAB?ABAAABAA@AAAAABAAACACAABB?C@ABB@@=CB>CBCBAC=AAG&%\\'%$&$&%%\\'#%%&&&&EBD<DBBC?B@@C?A<CB@>=;BB>@BAABABA??<A?AAAAABAABAA@?B@B@B@BAA@?AABAAA>@@BA@B@BAA@AB@A?>@BA??AABBA@@AII;>D@@BACBBABA?ACBC@CCC<ABA?CA@DCABC@BABABBBCCCBCBAACACBBAAC@B@BAAABABBAACBCBBABBACAAABBACB:?BAACACBA>>CCAABCBABBCBABCCABAAACAABCBCBABAAAB?ACCC=BC@BCBCC@CACBBABAAAB@BB@ABCAACAACACBBACBACC@:ABBCACD:CBCCE>?>C@C@@<@==BB;BA?@>9A@;A:=?>+?ACCBABA?C??<@A?@9<;>>B?=ABBAA@BCABAABACAAABBACB:@BAACBCBAAABCCCBB@CBAA@@:6481@8>;>>;>A?8CCABB>B:BAB?BC@ABCBA?AACABBAC@A@B@BAA=B>AACBCABAABACAAABBACB:@BAACBCBAAABCCCBB@CBAA@>?<5;ABDCACC@BABAABBC?C@C@AACADABBAC@B@BABABABBAACBCBBABAACAAABB@CB:@BABCBCBAAABCCCBB?BCBBCCBAACAACB>7C?A@BB>BAAC@C;B<;1:-?<:@@@?@??ABBAC@B@@A>ABA@BA?ABCBBABA=CAAABB@CA:@BABCBCBAAABCCCBB;?CBBCCBAACAACB>3@CDBCACEEG@FECE:AEEEE@EFFAEEFBEADFE@DFEA?DEEFEE@BEEFEEFDFEEE@FEEDBDFEEEEEFEEEDEEEDFABDDDCBBIIAABABBAA?@AAAA?A@@B@A@?@@@AAB?B@AAB@A@BAABAA@AABAAAA@>CAABABAAAABAAAABA@@BAAA<?ACA?BB@BB@BC=DBC<DEE\\'$%\\'%$%$$BBDDDDDDDDDFEDEDEDEEEFDFEEEFEEEFEEFEEEEEFEBEEDBDEEFEFEEEE>EEEEGEDAFEEE?AEDDEFEEEEEBFDEEEDCC@IIA@BAAAA@<>AAB@AA@AABAAA@B@@AA?AA@?AB@ABA@AA@@B@BAAAAAAAA@ABAAAAAAAAACAAAAAC@AAAACAAAA>BBBBB@BAC@?DH%%%$&%$%$@BBB>CADB:@BAACBCBA@@BCCCAB>BCBBCCCABBBBCABCBBABBBBBBCB@B@CACACBBABBA@CCBAA@CCACBAC@BBBABCAB:@BCC@@@@IIA@AAAAAA>?AA@A?A@B@@B@?@A@AB@A@>@@@@AAB@BAAA@ABAA@BAAABAAA@>AB@BA@AAAAAAAAA@A@ACACABBBCBBBBDBCCDCDG&%\\'%%$&$$##########################################################################################################################################################################################################6DAA>B@B@CCBAA@CBACBAC@BBB@>B?B8@BCCABAAAABCCBACCBBCCBABCCB:AABAC@CB@BAACBB@BABABACBCB@CBAAACBBABAAB@#####################################################################################################98C<EE@D?EDD>@>@:?4<92><<=BEEEE?EEAEC@CFEEAEABBDEBBEBBDDEEEDEED@FFEEEEEEEEEFEEEEECCDDCEDCDCB>ABAAAACABABBCCCCCBCB@CBCCBBBCBB8@?A>CB@ACBA@BCCBBBCABCBBABBBBC@B@BAB@DDAC@CDCABABCDABC@C>ABCABDBB@EB@@=A>>B?<CB7B@B<BB<;DCACBCB@DC@@A@BCA>A?B>@?@>B?BBCCBAABACCBABBCBBBBBBB=CCBAACBBBBA@CABBCBBAABAABA?B>>BBC@BCBBABBBAC@B@AAC@CCAC@CCCABAACC@AA@CCAABAACABDCABCCBBBABBABBBCBAACABBBBBB>BA@BAABCBACCCCB8CBB<<=>CABCABABABBC@B@AAB@CCAC@CCCABAACCA?B@CCAACA@C?BCC>BCCBBBABAABBBCB@ACABABB8>>@<=C@@B@CACAB>B<#########$&%%%\\'&&FBC@>BAAB=4B?BB@ACAAB@AAAABAAABAAAAAABB@AAAAAABAABAAB?@@AABA@BA<AAA@@@@A@@AAB@ABA@@A@A@A@?@AAAAA@@BHI==ADAB@@<CC=<EEE;@A@>?::5B=CE7G>EC;EEAEFEE>6@EE7E8A>EDEAEFAEFA>?EEEDEFECEEEEEADFDDEFDEDDCCDBBCCDCCABBBACA@BCBBA@BABABCBBBBCBACBBACCA@<CCCBABBBAABBCBAC@BBB@BACBACACCAC@BCACAA@BABBBCAABBA@BACB@@@#############DEE?:>AD4.)84=;A;AFE:EA?DEB:EE?DEDED8F<AC:FDEFBBE?DF7DEBFEE<FE>FE@FED>DDDDDA@CB%&%$&%&%&HEAACCCCB@=CBABABAACA@ACACAB@ABAABAB@ABABAB@BA@AABAAABA@B@ABA@B@@@A@A?AA@@A@BA@@@@@@@B@@@?@@@@BAA@AII9@EDAEEEDFEDDEEFD@EEEEEEEE;??6CDDEBEEEFEEEEFDCACA;CAAEEEEEDEEFEEEEEFDEEEEEEEFBAEEEEEDEDDDCBB>BACCAACAACBBBBBCBCCACBBC@CCCBBABCBBABBCBCCC=BBAA@A>@CACCBCCABBCBBCCBACC@CCC>@A@ACDD@DAC@BBDD>@>C?AEA@AABBCCACBBC@CCCBBABCBBABBCACCCBBA<B>A>ACACCBCCABBCBBCCBACC?BCCA?A@ACCCCCABBABCCC@?B?BCCABBCBDB@CBBBC#####################################################################################################>?BBAC?;ABACCBACABBCBBCCBACB@B>?==@A;CC?AA??<@ACCC@=A>BCCAABBBCB==<=7@@BDBBC?C>CACAA@C@BA@@CB@BB>96B######################################################################################################>CBBCCB>ABACCBCCABBCBBBCBACC@BCC@BAAACCCCCABAABCCC@?B?BCCABBBB@A@C?AACCBDBBC@CCCACCC@CA@AC@CCACCBBD@@A;CDDCEDDEFDEECF@BDEFEEEFFAEEEE7EECE@@EEEEEFDEDEEBEEEEDEFEEEEEEEEEDEEEEEEEDEFEEEDEEDDDFDCCBBIIA@@AAAAB??AA@B@@@AAA@@B@@AA@B@@@A@@B@AAB@AA@@@@BAAABAA@B=AAB@BAABAA=B@A?A@AB;@AB@A@CBAABAB?@BAB@CFB\\'%%%%%%$$BCCEDDCEEEBCE@DEEEFEEEEEDFEEEFEEEDEDDFEEEFBEDFEEEFDFEEFEEEACEEEEE9FEEEDFE@EEEEEDDEAEDCEACD=D=DBCADC@CCBCCCBB@B@BC=ACCCBCCBCBCBCB@CCABBCBCBCBBABABBCBAC@CCABCCCACACAABBBBACCCCACABACBBCCAAABBCBBA@D@BCBC?CB@CCABCCACACBBABABBCBAC@CAABCCCAC@CAABBBBACCCCACABACBBCCAAABACCCBCAABAACC@CCBBABBBBABCBBBA?A@IIAA@BAA@B??AB@A(@@A@BAAA@B@A@AAA@AAA@@@AA@A@B@A@AAAAB@BAAAAA>BAABAAAAAAABAC@@B@A@ACAAAB@B>BB?BBB:@AB&%%%%&$#$DBCACBABBBBACCCCACABACBBCCAAAABCC@BCABBAABC@CCBBAABBBABCBBABAC@BCAACAACCC@BCABCBCBBC@CCABBBCCCAC@AAB@IHA@AAAAAA??@@@AAA@@A@@@A@B@A@@?@@@A@A@BAA@@B@@AAAAAAAAA@???BA?@??B@AAAAAAA@@@!<B9@??AACBABCCBBACADDG&%%%%$%%%IIA@AAAAAA??@?@?A@?@??B@@@@AA@A?A@@AB@@@A@@BAA@ABAAAAAAAAAAAABAAAACAB@BAAABBAAA@@ABBACABA?CB@B?ACBBFD%%%%%%$%&DCCCCCBC?BBB@BC@CABBCBABACCCBBBCCCBBBACC@BABACABCCBAAC@BBCB@CACBACB@BAABBCCBACCABBACABBABBAABBBBCA>B@C@DBBC=DDDB@BBCCBBCADC@CABACABCCBAAC@BBCB@CACBBCB@CAABBCBABCCABB@CABBABBAAABBCBC?BCCCCBCABBBABCCBBCC>@BBABBCCAACACCABAB@BBCBCCABCABBBCABABC@CCABAABBBCC@CCABBACBB@ABBABC@CBBCABCC@@>A@B@CAACCCBBDABC@BBCB?6A=>AAAC@CACB@CAC@ACB;@;?AABA@@AC@BBABABB;BB9ABBB@??:?CC@>??AA?B>@CC?B@CAABCABCBBCBA?CACACBACAAAC@A@@ACC@ABAC@CBA@6A@?@??A@AAABBCCBBCAABBACABB@BBAABBBABB>ACCCCACABABAACCBBCCBABCABCBBCBABCACACBACAAAC@A@@%%&%%%%%%G@C@CA@CBCBC@>ACBACAA<>A<AAAAAAAAAABAAAAAAABAAABAABA@@B@AAAB@A@@BAA@B?B@B@AB@ABA@@@A@@AAA@?AAAAAA@AII;><8DB@4D;F@E?<DDAEECDE=EEAEFFEE@?EFEEEEFEEDEFEEECEFEFEEFEEFEEDEEEEEEEFEEEEEEEDEEEEDEEDECCCB##########################################################################################################################################################################################################BCCDDDDDDEDEEDEEEEEEEEEEDBEEEFEEEE##########################################################BCCDDDDDDEDEEDEEEEEEEEDEEEFFEEEEEDDEFEDBEFBEDFDFEEEFEFDFEEDFDGEEF?FEE@DBFEEDDFEDDFEDC;EDA@<DIIA@@AAAA@??@ABA@@AA@@AB@@>AB@@?B@BAAAB@B@BAA@B@BAABAAAAAAAAAAA@BAAAAAABAAAAAAB?BABCBBB>CBBBBBBBCCBC>\\'&%&%&%$&CDBDEEDDFEDDAEFEDDDBFEEEDE@EEGFEDEDEEEDEDEEEEEEFEBFDEEEEDEEFEEEFDEEEEEDEDEFEEEDFEDFEDEEDDDBB@>88BCC@B@BBAAB@B@BCC@B@BBACABACCABCCCB@BBACBBABBBBCC@B@CAABCCAB@ABCB:CB@ABB@BA@BCCCAC@@?@B?CDABDD?<B:@CAA>>/><?8A3B<BAA;B><@6=A@=B<7<65:A=A@@B/@99A@@:@5?9;<@B@@?A##############################B@AAADDFEDDEEABEFDFEEEEECBDCDBBCDEFDEEEEEDBEEFDFEEEEBFEEEEEEEEEEEAFEEEEEEDFDEEEDEGDFDC@DCDB?C=CDDE?D<EFDBEFADDCBBDEEEG<@AABEFEEEEE@EE:EEE>ED@CEEEDEEDEEFEEDEEEFDEFEEFEEFBCACCBEFDEEDEDBB@ABBBBCBBCCAB@CCCCAACBBCBACCBBBBCBBCCBBC@BACCC@AB@BBACC@BCC@BBBABBACACCCCCCB@BA@BABCACCBCACDBCBDACBC?IIA@@A@AA@@$BAAA@AB@AA?@A@A@A@@@@@@A@@@BAA@A@A>@BAAAA@BAAACAAABAABAAAAAA@@?AA@;;@<A?AAA=BBABBAACBBC?E%%&%&%%$$>CBBCABCC@B@CCCCAACBBCBBCCBBBBCBBCCBBC@B@BCC?AB@BCBCC@BCCBBBBABB@CACCCCCC?=B@@@AAC>CCA?:A>CDBD?CBCAD?#>>6F<A<;AEDDEF5EDEFFF@EFFAFEBG@ABCDAEFEEEEFFEEEEBEEEEEEEEEEEEEEEFEEEFEEEEEFDFDEEDDEDEDDDCDBIHB@@A@AAA@?AB@A?@@@@@?A?@A@AA@?@@@<B?=;=?9=?05794A<>27=B8?>@==>?<B@#################################\\'&&%%$$$$BCDDDDDDDDBBD@BBEEEEEEEEEFEEEEEEFEEEEEEEEEBEEFEFEDEEEEDFEEEEEEEEDA##########################@@CDDDDDDEDFEDEEEEFEEEEEEEEEEEEFEFEDEEEEDFBEEEEEEE>EEDEFEEEFEEFEEBEDEEE@EDFDACEEEEEEECFEDEB;C<067@??4:66<???.=?###########################################################################################IIA@@AAAA@@?@@AA?BA@A@A@AAA@AAB?B@@AA@@@B@AAA;@@@AA=C>BAAAB@AAAABACAAAAAAB@BA@A>AAABABAAAB@AABA@B@BED&%$%&%$&%@@@BCCCBCACCBCBCABBBBBBACBCAAACACABACCC@BCBACCCCBBABBABBAABBBCCABBBCCACC@B@CCCCCCAACABBB@CBBACBABCCCC@@@BCCCBCACCBCBCABBBBBBACBCAAACACABACCC@BCBACCCCBBABBABBAABBBCCABBBCCACC@B@CC@CCCAACABBBCCBBACBABDCCCCDDBDCDCDCBBCBCCCABCC@BBCBB@CADCBACBBACCCC@CA@CABCBACBCCBAC@CCBACBAABCCCCCCBBCABBCCC@CABCBBBBBABACCB>>CCCCAACABBBCCBBABBAACBBB@ACCCB@CABCCBCCBBBCBCBBBBAABBCBBBCBBCBCCCBBAABB>CBCCC@+BCBDCCBBCC@BC?BCBDDC>@@AABCCBBABBAACBBB@ACCCB@CABCCBCCBABCCCBAB@AABBCBBBBBACBCCCBBA?AA?CBBCC@=ABBCCBCBCC@ABCA@ACCBDBBBCCC>IIA?BABAAA??@@@A@A>@A@@ABAA@@AA?AA@@@@@A>>=?6!==>?=>>A?@AAA>A?@AA?AAA@@@@@?@@?>>@?@?@@@?B@B@?AABA@CCC\\'%\\'$%&$#$($%&&$\\'&#FC@@CCABBAC?A?AA@@B@A@AC@A@AA@A=>A?@@ABAA@?>ABABAAAA@B@@ABA@AAAA@@C@@?BA@@AAAABAAA@AA@@AA?@AAAAAB@AII$$$$%%\\'%\\'FEA<BA?D>>C?@=?A@@B@B@>CAA@B@=@=AA?@@ABAAB@AABABAAAA?B@>ABA@AAAA@@C@@?BA@@AAAABAAA@AA@@AA?@AAAAAB@AII<ACD>C==CADDDEEECEEEFEEEEEA@@EFFEEDEEEFEFEEEEEFDEBFEDEEEEEDDEEEFFEEEEEEFEEEEEFDEEEDFEDDDDDCB\"%)\"\"%(&\\'#C=>BC:353:>>95<=8A>=<;?@?A>?>@3;7AA2=@19>;;==?A=?A<8457<9;=;7259:829+8@;><<>=>>?<9808=<=3244<<>0(999BBDAACC>CDC=<?<>;86;;A@CB>BCDDB?=<6?CA@CCBACAABCBBABBACC@CACCBCB?CBABCCACBBBCBACBBBBCCBACC@CACABA?@C>BCCDDBDDD=E<EEEFE@DEE6D;.?FEFEEF:E@DEEEEECBEEEEAEEEFEDFF?:E?EEE:AAEE=>@@FEA;=6;<>*98,6;CB?;=IIA@AAABAB??@A@AA@AAB@B@AB@A@@A?A@@AA@AAAAAAAB@@ABAAAAAAAAAAAAAAAABABAA>AAAACAA?BBAA=BCB@@@BCBCCCBDFF&\\'%$%$&$$@BBBBAAAABCABCAABBBACACAACACCBCACCCBCBBCACBCABC@ACCBCCCBBBCBACCBAACACABABCBBBAC@CCCBAACBCCBACA?CD@BC#BCDDD?EDEBDEB?EFEEFECEEDE@CEEEEEC@E@EEF@DE:E=?EEEEEAC?@@ED<FDEBA4<97:99<>?=A@EEF?C>DD@E7EC:@>CCACACCCBCBBCACBCABC@ACCBCCCBBBCCACCBBACACAABBCBBBAC@CCCB=ACBCCBACAACC><=BADABC@CA@CCBBACBB@C@D@CA@@$%%%%%%\\'%F><<>@@B@AAA=AB??A@>>=A@B???@?B<?=>><?@AB=A>AA@A@CAAAA6@B@?@A@?@@AA@@?@A@@BA@A@@@B@@@B@AB??@AAAA@@AII@@@@CACABBBCBBBAC@CCCBBACBCCAACAABC@ABAACABC@CB@BCCBABBC@CAB@CAB@CB@CACBBAAC@CCAC@BACCBCC@@CBC=CCBCA@@@@@CACABBBCBBBAC@CC:B<=?BC>>=>><==>;?<>?9:92@819;;?5/=..>;38?=@;A89@<B?>:B@>B@?C@B=C################B@DDCBBCAACBBACAACACBABAAC?>==BAABCABB?AB6>>>??ABAACBBCBAAACACCACBA@BB@BBCABACACBBBCBCBCBBBACCCBA@A@2/32/??8==583>;B=@@;A9;=??;=?>::@<?9@;@<@?=A;@:;48;;A=<@;67?6:8@;?@<63;:==8=?7=>;AA@A?A@><B###########@;@:CAABC@ABBACABC@CB@BCCBABAC@CAC@CAB@CA@CA?>?=BC@CCAC@?<C9ACC@BCBB@C@BC@A>CCB=@@A@?CB@?ACDCA?>=8>=@?;9CA?<(?4B?D<E;DED>CEF<DE9:;EEE;EEA=EEBFEEE@EDF9(EFEEFCEDEEEEDEEFEDEFEEEEEEAEDEA>E@DDDEDCDB##>?B>@C@=>@DBBCBADDBCACABBCAABCAABBBBCBBCAACBBCBABACACC@CBACBBBABCABACACBBBCBCBCBBBBCCCBAABA@BCBCBB>BDCDCEDFDFDDFDFEEEFEDFEEDDFEEAEEEDFDEEDFEEBDF@EEEEEEEECEEEEFEFFEEAEEDE@FFEEEEEEEDCEBDCFDECBD&%$$$%%%\\'CC@BCCDBCABBBB@@@CA@AAABAAAAAAAAACAAAAABAABA@AAAAAAA@@@@B@AAA?@A@@@@B?A@@@A@@A@AB@A@AAAAA99@AAAAAAAHI$&$$%%%%%GDBACDBABCBBBBBAABBAAAAAAAABBABAAAAAAAAAAAAABAAAAAAA@@?@B@A@A@A@@A@@B?A@BAA@A@@AAA@A@BA@@??BA@AA@@AII@BDDEECDDEFD@EAEDDEAFEEFFEAEEAEEEEEEEBEEEEDEEEDDE/EE>EEEDEEEEFDEEFEEEECBCEEEEEFEDDDDFDCDA@CBCBC?CE?D<FFDFEEDEEEEFDEEEEBEEFD>EEBECECEECEEEEDEEBFDEEFEE>E?DBEEEEEFEDEEEFEDEC@EEDDDBCBADDBB?;AA?A?DDCBACB@CCBCCBCCCBCCADDD@BCBBBBBACBBCCBBBBBC@CBBA<ABAAACBBCCCA@CBBBABACBBCCCCBAAACCACCCACB@AA>>>9@6A@?,B@ACB>=@BBCBCCCBCBADDDABCB?ABBACBBCCBBBBBC@CBBA$ABAAACBBCCBA@CBBBAB@CBBCCCCBAAACCACCCACB@AA>>CCCC?CACB@CACC@CCACBBBBABACABABBBCCCBBBB?BABBBAC@CBBBCCC@ACC@CBBBB?CCBC@CBCC@@ACBDABABCBCBC:BB8A65<;@@AABBBABACABABBBCCCBBBB@BBCBBAC@BBBBCCC@ACCCCABAA@CCBC@BBBB@CABBCABAABBCBCABCCCBACBABC@B@ABBBABCCBB;II@@BAAABA??@@A@:@?A@A@A@A@BA@A@AA@@@@@@AA???A@@A@BAAA@BABAAA@ABBAAAAAAAAAAAAAAAAACABBCBBBCBBBACCACDF&&%&%%$&$###########################################################################################################################BABCB==>?B:A?BA<CCBA6;1;=?B\\'BBACABACBBAACBCBBCACBBACACCBACACCC@BCB@A@@IIA@9@ABBA??A@AA?@A@AA@B@@B@AAB9AAB@A@AAAAAAA@B@@ABAAAA@BABAAA?AA@AABAAAAAA??AA@AAC@ABABBBBAB@@CC@C/E%%%%&%$%&##########################################???>5;7<<>>8><@CABACBBAACBCBBCACABACACCBBCACCC@BC=ACAB@BBC>@96=88<8EFEADFEE:?EF4DEEECA>EFFEEFEBECE8EEEFDEE>EB@FEEEFDEEEAEFEEEFEDDEEBECFDFEECBCEDDEDCCDBI<<@3BBAAA4>?@B@?@>@>3@:@>B>@=A??@@?A7B@A@>?AA@A@A;AA>>=>??=?;;B?<?4@8@4=6?B@A5;A@=?AA>BBA>?B67@<9:8F%\\'%&%\\'$&%>BC?BACACBBBCCCBBBAACBBCBCCBBBBBBABBBCACBBA?:BBBB@CAB@AACCB@CACBBCCCBBACBC?BDCCBBA?CBBC=A<BAA?<8565=C@>A@CACBBACCCBBBAACBBCBCCBBBBBBABBCCCCBBBA>BABB@CABAABCCB@C@CBBCCCBBBCBCCBCCCBBACBBACBAABCCC@C@B?BCD@#####################################################################################################$$%%&&&$#DAD?CABB=C><?=@AABB@AA@?@AAA?<;>AA@ABAAAAAAAABABA@@A@@:AAA@AB@BAA>?;A?@AAB@?AA@=@AAA?@AAA??AAAAA@@AII@@@@BBCCCCBBAA?BBBB@CABAABCCB@CACBBCCCBBACACCBCCCBBACBBACBA@BCCC@BBA@ABCBB@BCCBCBCCCCBCABCBCAACBCCCCB@@@@BBCCCCBBAA?BBBB@CABBABCCB@CACBBCCCBBACACCBCCCBBACBBACBA@BCCC@BBA>ABCBB@BCCBCCCCCCBCABABCBACBCCCCB>9CCCCBB?<<BBAB@CA;BABCCB@AA@BBCCCBB5CBC@BCCB@A?@>BACB?ABACC@B?==BBCBB@CCCBDCCAC@BD9CBBCA<B=B:ABA<B@@#$%$%%&$&F>2,B@>B@BA?CB=CAAAA@@BAAABB?AABAAAA@AA@A?AAAABABAA===A?AAAB@@A<@@?AA@@@AAAAA?A@AA@A@AB@A??AAAAAA7AIIDC3DDBBC@>BBCA>B@CCCBBBABCCCDBCCACACBCCCBBCBBBBACAB?@@CB@CCC@BCBBBACCBCBCCCCBCCACBBBCACACCBBAABBCBCC>>BCC?BABB?CABAABCCB@CACBBCCCBBBCBCCBCCCBBACBAACBAACCCC@CBA?BBCBB@CCCBCCCC?CBDABCBCBABBC@C@ABBC=DCDA:CBBDDDCDCEEDDFDEEEEEEEEEEEEEEEEEEEDFDEEAEEECEEDDFA?@DEEEEEFEEEFEE?AEEEEBCE@EDF:EDDFEED>EEDCC?C:99B/D5CEFDDFCF;BDAEDE@FAADFEFE>>@AED=EEFDEEEDDEBEEEEEEEEEEEEEEEEEEFDEEEFEEEEEEEEDDDDDDDDCBIIA@@AAAAA??A@A@A@A@A@AAB@@@@B@9??@@A@@BA@AAA@@@@AAABAAAAABAAAAAAAAAAAAAABABACA@A@BBCBBBACBBCBCBDACDF&&%%&$$%$DCCCAC?DA@CCBBCB=BBACAB<@ACBACCC@BCB>AACCACBCCCCBCCACBBBCACACBBBAABBCBCCABCCACBBAAABBACBACAACABBB@@@@IIA@@BAAAA??AB@@?@B@?@@@@A@@B@@@A@@@@@AA@B@AAA@B@AA?AAAAAAAAAABAAABAAAAAABAAAAB@BCABACBBBBBBBBCDCACEF&%\\'%%%$#$>AABCCC@B@B@BBCBB@BCCBCBCCCCBCABCBBB@BBCCCBAACBBCBDABBCABCBABBACACC@BBACBC@CABBCBCCBACCCBCDBB>CBBACAC#####################################################################################################?/CDCCB?ADC>CDDDCBCCACBCBCACADDBBAABBCBCCABCCACBBABABBACAACAACABABAAACACCAAAAC@ACCBACBCABBCCABACB@CC>CAADCCAAAAB>?DDDCBCBACBCBCACADDBBAABBCBCCABCCACBBABABBACAACAACABABAAACACCAAAAC@ACCBACBCABBCCABACB@CC>###################################################################################################################################################################################################################@@>86:<@;ABBAAB?@BADAACA@CA<9711<@;=AA2?@C==?CB@CBCA?>@;??>?>;A>AACACC<CACBABCCBACBBCA@CBCC>$$&$%%%\\'&GE@<AAB?C?@BAC?BB?ACA@B>>@@B=>AA@AAAAAC?@A?AAABAAA@AAAAAAB@A@@A@@B@AA?B@AAA@@AAA@AAAA@A@A>?AA@A@@@AII@B@BCCA>BAAAB@CCAB@CCACCC@CABCCBACC@BBCCACCBBBCCCBCCAAABCCB@CC@B@BCC@C@BCCCBA?BBCCACCBAA?@ACCBB@CC@C?@B@BCCA>BAAAB@CCAB@CCACCC@@ABCCBACC@BBCCACCBBBCCCBC@AAABCCB@CC@B@BBC@C@BCCCBA?BBCCAC>>;6=@ACC?B@BC@B?BDCCEDEEDEDEDFEFEEEEEEDFEEEEEEEEEEE@EEEEEECEEEEEDDFEFEEDFEFEEEBA@@EFEEEEC@<AAEEDDEDFDCFCDDBC#################################################################################=<A?@<?@=><8B79>C=A;IHB@AAAAAA??A@@A@A@AAB@@A@A@@B@A@@@B@B@@A???@@@@@AA?@?@AAAAAA@BA@BAABAAAAAAAA@A@AABABBABBBABBBBCCAEDF\\'%%%%&$$$@BBABBCCCBCCAAABCCBACC@B@BCC@B@BCCCBA@ABCCACCBA?ACACCBB@BC@ABABBCBCBCBABACBCBBBCBBABCCBBCB@ABC@CCBBDCBCCDDEEFDDEEEDDFDFEEDFDFEEEBBADEEDEEEBA@AEBCEEEDFEDFEEFEEECEEEEDE>EEEAEFEEDFDECDDFEDECDFDCC@BBDDEDDDDEDDFDFEEDFDFEEEBACFEEEEEDAABCEEEEBEDFEDFEEFE@EEEEEECEEEEAEAEEEEFEDEDFE?DDEDEDAEC<A@IIA?BABAA@@>B:A@?@@@@@@@A@@??@A?A@A@@B@@BA@BAA@@@AAA@AAAAAAAAAAABAAAAAAAAB?ACAA<BABBAABBBBBCACCCBADBF&%%%%$&%%>BDDC@ABDDDDDC@?@@BADCCCBCBADBCBACBABCACACACABB@BACABBBCABCACCBBCBCCACBABBAABCCBCBCBAABCBBACCACC@CCA>?BDDDDCC@A@@AACCCCBABACBBBA9BABBACACACABB?BACABBBCBBCACCBBCBCCACBABBAABCCBCBCBAABCBBACCACCACCAAACB@@@5=?A?EDDE@:EDEEDCEEEEE<>FEBEFEEFDFEFEEEEEE@E@ECEEBEEEEEDEEFEEEEEEEEEFEEEEEECEFDEFDEFEEDDEDBB@A?ABCBCBCBABACBCBBBCBBABCCBBCBCABC@BBABCBCCBCBCABACAAABCBBBABCBBBBCBBCBCBACBACCBABACCBC@CBCCBCBBBC@<3?;DDEC@$C=EF=EF=BFFDDED6E<EFEB>>EECEEFEBBEEEE@>FBFA4EAADFEEE4EEEDECEF?EEEEEBFDEE@DEFDEC@CCB;>A@?>>A>:49>;>?BC@##################################################################################>BCCABBCCABCBCBCCBACCBABBCCBCCCBBCBCAACBCBBA@ACAACC@BBBBACCCCBCACBAABCBCC@CAACBACCBBB@CACBDCBBB?BABAD=DCDF?DDE@FEBFED:?E@G3E5DEAE?EEEF;BEEEEAAEE@>@EFEBD<EEBBAAB=<;?EEDEEEFEB>EEEEEB>@@FBEEEDDCC@#BCAC@?CCBBCABBCBABBABBCAABCCBCCABCBACCACABCCACAACCA@CABCBCBCAABACCBCC@AACACCCBCCCABCABABBC@BAABCBA@@BCCDDEEDEFDDFDEEEFEEEEEEEEEFFEEEEDFEEFEEFEBEDDFEEAEEEEEDFEEEEEGEEAFEAAAFFEFD:EDFDEC@D>EE@CBD@>ABABBABCBBBACBCBCBBBC@BCCBCABCCACCAAACCACBAC@BBBBBABCBCCAACA@CAACACCCCBABCCAC@BBCACC@BCCB?CDBCDCBC;@>ABABBABCBBBACBCBCBBBC@BCCBCABCCACCA>ACCACBAC@BABB@ABCBCCAACC@CAACACCCCBABCCAC@BACACC@BCCBACDBC@CBB8AC@CA<DCB@CBCDBCBBB?BAC@BCC>@@CACCCBCCCBBCABABBC@BBABCCC@CCBBBABBACCCBCACCCABACACACBACCBCBCBCCCC?BCA>######>@A@CBCBBCBBBABAC@BCC<@@CACCCACCBBBCABABBC@BBABCCC@CCBBB>BBACCCBCACCCABACACACBACCBCBCBCCCC?BCA>#$&$%%%%%GEA@DBBB@BBB@B>@@CABB@AAAAAABA@AA@B@BBAAAAAAAA@ABAAB@AAAAAAAAB@@AB@B@@@@AAAA@@@AAAB@?BAAA@8BAAAAAAAII##AABACB?B?AAAA@??@CACCCBC@CBBCABABBC@BAA=CCB@CCBABABBACCCBC@CCCABACACACBACCBCBCBCCCC@BCABAC?BACCBBA@?CBDDBCA?@@C8CCCBCCCBBCABABBC@BA?BCCCACCB@BABBACCCBCACCCABACACACBACCBCBCBCCCC@BCABAC?CACCCCCAABABA>B@=>DDEEABBCC:DDEEDEEFEFEEEE<:@FFCEFE@BEEEEEEEEEFEDBFEFEEDEEEEEEEEEEEFDEFEEEFCDEEEEEFEDCDDECBBDBDDDE?AEEFEDEFEDFEFFE@E@FAFEDEFEFEEDEEEE?EEEEEEFBEFEEEFACDEEEEFFEDEEFDEEEEEEFEDEFEDECDDDDBBIIA@AABAA@@?AB@A?@@A@B@@@A@B@A@9@@B@@A@BA@@AA@?@@?ABAAAAAAA??AA@BAA@A?AABAAAAA>@BAACABBBACACABCCCACEE&%%%%%$&%IIA@@AAAAB??@A@B?A@A@@B@@A@BA@@?@@A@@AABAA@AA@@>>AA@BAA@AAAABA?AAAAAAAABAAAAAC@AAABABBBBCBBBBDACCBCEG&%\\'%%$&$&<A>DDDBCADCC>B>CACACB@@@BB@CACCCC@BCABAC@>ACCCCCAABABB@CBBCABCAACCAACBACBBABABACCBBABBAABACABBBCCB@@@<?=@@A><:==B=A@C?B?AB>A=A?@A=BA@B>AA=@@A;:?A@A@?<<A>9;6=<A@?A@@;=C@?@B@=BB@B<><==@;=@=7>=;A8A>D??85?:>CAC?BACACC@BCCBACCBCCCBBBBAABBCBCCCCB@BC@BB@BCBBACBBBCCBBCC@BCBAC@B@CCCBABBAACACB@CBCBD@BCACDDDB?7?A&$%$&$%%%G@DBCCDC>C@AC?A@@AA:CAABBBAB@AAAAA@AAAAAABAAAAABABAA@A@@A@?B@?@?@@>>A@A@ABA>AA@B@@@A@ABAA?@@ABBA@AAIIA?;?1>@><;@@B@?8A:@>A@A<ADCABACA:AB@BABABCACAACCABCAAACABBBCAACC?CBBACABCBCABCCCBABABBAACCBAABAC?CCB>CB>=CBCB?@B<;22-B:@@A@AAADC>BACA:AB@BABABC?CAACCABCAAACABBACA?A;<ABBACABCBCABCCCBABABBAACCBABBAC?CCB>$%$$%%%%%E*>1@A@A>6AABAC@AB;BB?AAC@@A@BAA@BAABBAABAAAABAAAB@AAA@BAAA@A@A@@AA@A?ABA@AA?@@A@B@@3@A@A??ABAAB@@@II%%$$%%%%%########AA@>57A@@2A<B=BBABAA@>AABAAABAAAAAABAAAABAAAB@@@AAB@AA@AAA@@A@@@AABA@AA@@@A@A@@@@?>AAAAB@@BII?>BB7BB@C@BBBC>CAADCABBBAACADBCCAACC@CBBACABCBCABCCCBABAABAACCBA?BAC@CCBCBACBBCABB@ABAACCCBBBCACCBBC>@A@;AC@BBABAABCBCBABABBCCBBABCCABAAABACBACABBCCAAB@BBABCCC@A@AABBCCBB@BCBBBCBACC@BACABAA?AC@CCBDC?CDC@A@9AC@BBABAABCBCBABABBCCBBABCCABAAABACBACABBCCAAB@BBABCCC@A@ABBACCBC@BCBBBCBACC@BCCABAAAACDC@BDCBCDC8885?C@BBABAABCBCBABABBCCBBABCCABAAABACBACABBCCAAB@BBABCCC@A@ABBACCBC@BCBBBCBACC@BCCAB@A?ACACC@DCBCDCC<=DDA<7EFF>EFEEFEEEGD@E@GBEEGEAEEEFDEEEBEAEEEEEDBEFEEEDDEDEEFAEEEEDEEEEFEEEBCCBCEEEDDDDDCBBIIA@AAAAAA?>@AAB?AA@B@BAAA@AB@B@@@A@@@B@AB@BAA>@@BAAAAAAAAA@BAA@@?@@ABAAAABA?A><@@A@AAB>ABB@?@@CC@DDE&%%%%%$$$@@ABBBBBCCBBAAABBCBACABBCCAAB@BBABCCC@B@ABABCCBC@BCBBBCBACC?BCCAABABACB??AB=@BAAC?ABACCACACCBBCCDBCD=;8;8>92149>@976=>@###################################################################################?@C>6B;DAEF@@EE@CEEBDDE@@A:EEGBEEEEDEEEEFEEFBD>@BBEEEEEEDEDEEEEFEEEEEEEFEEFEFEEFEBCEFDEDDCCBIIB@AAABB@@?AAA@?@B@AB@@AA@@@B@@@@AAAA@9B@@@?;:=>@AA?A@AAAA@@>BA?@??AAB:>?B?@>@=9;?@BB@?A@A?B>?BB@BCG%%%%%%$&$DCBBBCCBADDBBABBC@>BCCBADBBCABC?@A@ACCCBBBCBCCBBCBCACBCCAACACCAC@CCA@ACCACCBCCACCCABCBCACABBCCACCAAC>@A?BCCBBCBBCCBCAABACCACBCCABCCCACCABCABCCACBCCACABBBCBCCC@CBA:CCBBBABBBCBBCCBBABAB@BCBBBCCC@ACCBBBBA>BCCDDDDDDEEDEFEEEEEEEEEEEEEEEEADEDFDEEEEEEBFEFEEEEEEEDFEEBEEEEEEFAAEEEEE9EE@BFDFDEEE?DEA?@DCCCC?CACBCC<>CA@C>BACC?9>@C>?@A>A>A?B<@>7A7>>@>>C?CCBB<C8ACCAAA<CAAB<;A?9=9:<B=A;9?==?;BCCB@BABC?>78:7CCCCCACBCBBACACCACACCA>@CC>CCBBCACCCABCCC@CABBCCACCBBCC:ACCAAAACAACAACC@BAAABACBBBCCCCBCCC@BABCCABAA@@@ABBBCCCACCABCABCCACBCCACABBBCACCC@CCA:CCABBABBBCBBCCBBABAA@BCBBBCCC>@BCBAAACCABCBBABBCBBACACCBABCCA@@A@BCBBCCBBABAB@BCBBBCCCABCCBBAACCABCBBABBCABACABCBAABBCBBAACBBABAABCBCCCAABBCACCABCB?CBBCBBC@BCCCCC67979################################################################################################$&%$%%%%&G@@@BAC@?B@A?AA@@AAA?<>A@A@@B>@?B=A?A?@@A@@B@AA@A?@@&@@:>?B@AAAA@AB@@?A@AB@AA@ABA@@A:AAA@??@A@AA@@AIIBCCAADDDCDEFEDFEEEEDEEEDEFEFEEEEFDEEEEEFEEBDEEFEEEEEBAEEEEFEDGEEEAFEEE>FEEFDDEED@CFDEDEDECDC>CBCCABAABCABCBBBBBCBBACABCBAABBCBBB@CBBABAAACBCCCAABBAACCABB@@AABCBBC@BCCCBCCA>C@CBCACACCDCBD@BADBDD>BBAABCBB@CABCBAABBCBBBACBBABAABCBCCCBBABAACBABCB>CBBCBBC@ABCCBBCB>C@BBDADACCCBACCB@CCCC@CBCDDDDD@>A>>BBAABCBB@CABCBAABBCBBBACBBABAABCBCCCBBBBAACBABCB@CBBCBBC@ABCCBACB>B@CBDACAC@@BACCBBCACC@CBCDDDDB>=;;BDACCCA<=B@@CB@ACADDDBBBCCBCC@DCACBBCBAABB?@CBBCCBABABCBACACCBBACCAACCCBBB@AACCCCCCAAAAAA@CABBBC?BCA>BDAC>CC;CCB@C?@@C>DDDBBB>CB?CAACACBBCCAABB?@CBBCCBABABCCACACCB@ACCAACCCBBA=AACCCCCCAAAAAA@CABBBC?BCA>BBCDEDDDDDBCEDEEFEEFEEEEEEEEEEDEFDEEEEA@FDCEEDFECDEEEAEEEEE@@EGEE;CBA@>?A>>D8E@:3EBD@>C??=??@;:=A=;D@D<<@5B5F7EF<ED=7EEE?9D<??EEE@<:FDC@E<EEF@@?@AE49:?::=GE;)B4@#######################@B@BCCAABBAACCA@?>/@?>?><C@ABCCBBCA>B@BBCACABCCBACCABCCCB@C@CCCCCC?AA@BBBBBA5AB@CBABBBBBBAB@ACBCDCBD?@B@BCCAABBAACCACB@0B?>?><C@ABCCBBCA>B@BBCACABCCBACCABCCCC@C@CCCCCCB@A@BBBBBA@AB@CBABBBBABBA@<CBCDCBD?#@=BDCBAADCBBACCAACCCBAB?A@@CCCCCBAAAAAA@BABBBC@BCA@BBBABAA@CCCACBACAABCCCAACC@CBACBABAC@B?@CCACCABA@#######################=:?/1,\\'5A?EAEED>=FEEFFDAEDBEFDEFEDEEEFEEBCEEFEEDEFEEEEEFEDEFDADDDDCBB########################C=7@==8=2-5FEFFFEEEDEEFDECEDEEEDEE?CEEFEEDEFEEEEEFEEEFDEEDEDDCDECD@@'"
      ]
     },
     "execution_count": 30,
     "metadata": {},
     "output_type": "execute_result"
    }
   ],
   "source": [
    "DNAq_Output"
   ]
  },
  {
   "cell_type": "code",
   "execution_count": null,
   "id": "e2beb65c",
   "metadata": {},
   "outputs": [],
   "source": [
    "def subtract_31(char):\n",
    "    assert isinstance(char, str) and len(char) == 1, \"请输入一个有效的字符\"\n",
    "    new_ascii = ord(char) - 31\n",
    "    new_char = chr(new_ascii)\n",
    "\n",
    "    return new_char"
   ]
  },
  {
   "cell_type": "code",
   "execution_count": null,
   "id": "33dfbb8c",
   "metadata": {},
   "outputs": [],
   "source": [
    "file_path = \"binFile.bin\"\n",
    "\n",
    "with open(file_path, \"wb\") as file:\n",
    "    for char in DNAq_Output:\n",
    "        "
   ]
  },
  {
   "cell_type": "code",
   "execution_count": 43,
   "id": "1986c908",
   "metadata": {},
   "outputs": [],
   "source": [
    "file_path = \"binFile.bin\"\n",
    "\n",
    "with open(file_path, \"wb\") as file:\n",
    "    binary_data = bytearray([0xFF, 0x00, 0x7F, 0x80])  \n",
    "    binary_data1 = bytearray([0xFF, 0x00, 0x7F, 0x80]) \n",
    "    binary_data2 = bytearray([0xFF, 0x00, 0x7F, 0x80]) \n",
    "    # Example binary data as a bytearray\n",
    "    file.write(binary_data)\n",
    "    file.write(binary_data1)\n",
    "    file.write(binary_data2)"
   ]
  },
  {
   "cell_type": "code",
   "execution_count": null,
   "id": "62673755",
   "metadata": {},
   "outputs": [],
   "source": []
  },
  {
   "cell_type": "code",
   "execution_count": 40,
   "id": "e563410c",
   "metadata": {},
   "outputs": [],
   "source": [
    "f = open(\"HG00138_chr20_subset.sam\", \"r\")\n",
    "Lines = f.readlines()"
   ]
  },
  {
   "cell_type": "code",
   "execution_count": 44,
   "id": "32920698",
   "metadata": {},
   "outputs": [],
   "source": [
    "file_path = open(\"binFile.bin\", \"rb\")\n",
    "Lines = file_path.readlines()"
   ]
  },
  {
   "cell_type": "code",
   "execution_count": 42,
   "id": "ac4da3d5",
   "metadata": {},
   "outputs": [
    {
     "name": "stdout",
     "output_type": "stream",
     "text": [
      "b'\\xff\\x00\\x7f\\x80'\n"
     ]
    }
   ],
   "source": [
    "for l in Lines:\n",
    "    print(l)"
   ]
  },
  {
   "cell_type": "code",
   "execution_count": 45,
   "id": "86b996d9",
   "metadata": {},
   "outputs": [
    {
     "data": {
      "text/plain": [
       "[b'\\xff\\x00\\x7f\\x80\\xff\\x00\\x7f\\x80\\xff\\x00\\x7f\\x80']"
      ]
     },
     "execution_count": 45,
     "metadata": {},
     "output_type": "execute_result"
    }
   ],
   "source": [
    "Lines"
   ]
  },
  {
   "cell_type": "code",
   "execution_count": 47,
   "id": "a7281dd5",
   "metadata": {},
   "outputs": [
    {
     "data": {
      "text/plain": [
       "bytearray(b'ATGC')"
      ]
     },
     "execution_count": 47,
     "metadata": {},
     "output_type": "execute_result"
    }
   ],
   "source": [
    "string_to_bytearray(\"ATGC\")"
   ]
  },
  {
   "cell_type": "code",
   "execution_count": 48,
   "id": "74c8ef80",
   "metadata": {},
   "outputs": [],
   "source": [
    "def subtract_31(char):\n",
    "\n",
    "    assert isinstance(char, str) and len(char) == 1, \"请输入一个有效的字符\"\n",
    "\n",
    "    new_ascii = ord(char) - 31\n",
    "\n",
    "    #new_char = chr(new_ascii)\n",
    "\n",
    "    return new_ascii\n",
    "\n",
    "def process_string(input_string):\n",
    "    result = \"\"\n",
    "    for char in input_string:\n",
    "        processed_char = subtract_31(char)\n",
    "        result += processed_char\n",
    "    return result"
   ]
  },
  {
   "cell_type": "code",
   "execution_count": 49,
   "id": "a5f231bc",
   "metadata": {},
   "outputs": [
    {
     "data": {
      "text/plain": [
       "'**\"!!\"\"!\"!  \"\"!# \"#!#!\"!#!\"!\"#\" \"!!\"!!#!!#!\"#\"\"\"!#!\"#\"\"\"#\"##\"$\"\"\"\"\"\"\" # \"#\" ##\" ##!!!\"$######$\"#$\"\"$\\'\\x06\\x06\\x06\\x06\\x06\\x05\\x07\\x05\\x05  \\x1e\\x17\\x1b\\x1c\\x1c\\x1c\\x1b\\x1a\\x14\\x16 \\x1f\\x1b \\n\\x14 \\x19!\\x1f!\\x15\\x1e\\x18\\x1c\\x19\\x13\\x1e\\x1e\\x12\\x16\\x0f\\x1d!\\x19\\x0b\\x1e\\x1c\\x19 \\x15\\x11\\x1e\\x1b\\x17\\x1a\\x0e \\x15\\x0e\\x1c\\x1a\\x14\\x17!\\x15\\x1c\\x1e \\x1e \\x1f\\x1a\\x14\\r\\x14\\x15\\x06!\\x17\\x1f \\x1c\\r\\x1d!\\x13\\x11!\\x14\\x18\\x17\\x18\\x18\\x1f\\x1c\\x19\\x19#\"!\"!\\x1d!\\x1a $&\\x08\\x08\\x07\\x08\\x07\\x04\\n\\x08\\x06!# #\"\"$\"#\"$!#$#\"\"##\"#$$##!#$!$\"\"##$$\"#!\"$\"\"\"$\"\"###$$####$\"$\"#$\"\"$$$##$\"! !$$$\"\"####$##!$#\"##!$$#\"#%$$##%$%&%\\'%%%\\'&%&&\\'&&&&&&&%\\'&%\\'&&\\'&&&%\\'%&\\'&&$\\'&&\\'&%&&&&&&&&\\'&&&&\\'\\'&\"&&&\"\"#&\\'&&%\\x18  %&&&%$\\'%!\\x1f$\\t\\x18\\x19\\x1a\\x19\\x1a!!\\x1c \\x1c\\x1c \\x15#\\x19\\x17!\\x1d!\\x1d\\x1b\\x1c\\x18\\x0b$\\x1e\\x16\\x15\\x1f\\x1b\\x15\\x1c\\x1c\\x1e\\x1d\\x1e\\x1d\\x1e\\x1d\\x1e\\x1f\\x1a!\\x1a\"\\x1f\\x1b\\x18\\x1e\\x16\"\"  \\x1d\\x1f\\x1c\\x1e!\\x1d! \\x1a!\\x1f!\\x1b\\x16\\x1e\\x1d\\x18!\\x13\\x1d\\x1d!\\x17\\x1e\\x1e \\x1f\"!!\" !!\" \"!\\x13\" #\\x1f\"\\x14\"\\x1c!\"\"!#$$##!#$!$\"\"##$$\"#!\"$\"\"\"$\"\"#\"#$$####$\"$##$\"\"$$$##$!\"\"!$#$\"#\"###$##!$#$!$!#$###$!#$\"\"##\"\"\\x1b#\"$!$$$%!# \"!\"$\"\"\"$\"\"#\"#$$####$\"$##$\"\"$$$##$!!\"!$$$\"#####$##!!\\x1d$#$!\"$##\"$##$\"\"##\"\\x1f\\x1b#\"$!#\"#$\\x1f#######!$\"$$$%%%\\x1b!# \"!\"$\"\"\"$\"\"#\"#$$####$\"$##$\"\"$$$##$!!\"!$$$\"#####$##!$#$#$!\"$###$##$!\"##\"\"\\x1b#\"$!#$#$#####!###$\"$$$%%%\\x04\\x04\\x04\\x04\\x04\\x04\\x04\\x04\\x04\\x04\\x04\\x04\\x04\\x04\\x04\\x04\\x04\\x04\\x04\\x04\\x04\\x04\\x04\\x04\\x04\\x04\\x04\\x04\\x04\\x04\\x04\\x04\\x04\\x04\\x04\\x04\\x04\\x04\\x04\\x04\\x04\\x04\\x04\\x04\\x04\\x04\\x04\\x04\\x04\\x04\\x04\\x04\\x04\\x04\\x04\\x04\\x04\\x04\\x04\\x04\\x04\\x04\\x04\\x04\\x04\\x04\\x04\\x04\\x04\\x04\\x04\\x04\\x04\\x04\\x04\\x04\\x04\\x04\\x04\\x04\\x04\\x04\\x04\\x04\\x04\\x04\\x04\\x04\\x04\\x04\\x04\\x04\\x04$%$ $#$$\"!\"\"##$$$###$$$\"####$#####$$\"#\"$#\"#$##$#\"\"##\"\\x1b!#\"#\"$#$###$\"!#$!$$\"##$$$$##\"\"!#\"##$#\"$#\"$$ #\"!\\x1f\"\"#$$##$ \"#!$$$\"#####$##!$#$#$!#$###$##$\"\"#\"\"\"\\x1b#\"$!#$#$#########$\"$##%%%\"$!\"#\"\"\\x19\\x16 \\x12\\x19$$!$$##%$$\\x17#\"!\"\\x1f\\x1f# #$$\"#####$##!$#$#$!#$###$##$\"\"##\"\"\\x1b#\"$!#$\"$#####\"###$\"$##$$$\"$!##\"\"$!$\" #$!#$##%$#!$#!!$##%##$%!!#\\x1f# #$$\"#####$##!$#$#$!#$###$##$\"\"##\"\"\\x1b#\"$!#$\"$#########$\"$!#$$$\"$\"##\"\"$\\x1f\"\"\"#$!#\"\"\\x1f! \"\\x0c\\x18!\\x1d\\x13 \\x15\\x1c\\x16\\x1d#$%\\x1f!#!\"\\x1f#$$\"#####$##!$#$\"$!#$###$##$\"\"##\"\"\\x1b#\"$!#$#$#########$\"$#\"$$$\"$\"##\"\"$!$\"\"#\"!#$##$##\"##$##$$$##$$!###$$&%%%%&%&&&&\\'&&&#%&&%\\'#&&&&&&&!%&%&&\\'#&&#&&\\'&&\\x1f\\x19&&&\\'&&&\"$\\'!&&%$\"&\\x1c&&\"\\'%&\"!\"&#%&\\'#&#%&%\\x1f$!\\x1d\\x04#\\x13%$&\\x1e\\x1d&\\'(%%&\\'\\x1e#%\\'&%&&&&&\"&\\'\\'&\\x17\\'%&&&&&&&&&&\\'\\'&%\\'#%&&&&&%&&\\'%&&&&&&&&&&&&\\'%&&%%&&&%%%%%%%$###!\\x1a\\x0f\\x0f\\x1b!\\x1d! \\x1a\\x1b\\x1e!!\\x1e\\x1b$\\x1f\\x1e$\"\\x1b!!\"\"!!!#\\x16 \\x18\\x04\\x04\\x04\\x04\\x04\\x04\\x04\\x04\\x04\\x04\\x04\\x04\\x04\\x04\\x04\\x04\\x04\\x04\\x04\\x04\\x04\\x04\\x04\\x04\\x04\\x04\\x04\\x04\\x04\\x04\\x04\\x04\\x04\\x04\\x04\\x04\\x04\\x04\\x04\\x04\\x04\\x04\\x04\\x04\\x04\\x04\\x04\\x04\\x04\\x04\\x04\\x04\\x04\\x04\\x04\\x04\\x04\\x04\\x04\\x04\\x04\\x04\\x04\\x04\\x04\\x04\\x04\\x04\\t\\x07\\x05\\x05\\x06\\x05\\x07\\x07$$%%#!#%\"##\"#$$$$#\"\"##$$\"##$#$#$$$\" #$#$$\"#\"##\"\"$$#!$$\"$###\"#$$\"$$!#$$\"##$#\"$$#!#$$#!$#\"!##$$#\"\"#\"\\x1f#!\\x04$%%$!#  ##\"#$\"$$#\"$##$$\"##$#$#$$$\"##$#$$\"#\"##! $$#!$$\"$###\"#$$\"$$!#$$\"##$#\"$\\x1f#\\x1f\\x1b$$#!$ \\x1e\\x1f\"\\x1f\\x1e$#\\x1d\"\\x1f\"\\x15#!#!!&%%%%\\'%%&&%&%&&&&&&&%\\'&&\\'\\'&&&&%#\"&%&&&&#&\\'&&%&&&&%&&&&&#!&\\'(&&\"\\'&&&\\'&\\'&&%\\'&&%&\\'&\\'%%#%%$#%\\x15\\x1f!$##$!\"#%$#\\x1f !$$!$$ !$#$$$!\"#$!$#$$\\x1c\"$$$$$$##\"###$$$#\"\\x1e\"$$$\"$### $#$#\\x1b!##$\"$$!$$$$##\"#$$##$## $# #\\x1f\\x04\\x05\\x07\\x05\\x06\\x06\\x08\\x06\\x07\\'\\'$\"%$#####$###$\"\"\"#$\\x1e\\x1f\"\"\"\"\"\"\"\"\"\"!\"\"\"\"\"\"!\"\"\"\"\"\"\"\"\"\"\"!\"!\\x1f!\"\"\"!\\x1f#!!!!!! !\"!!!\"\"!#!!#!!!\"\"!#  \"\"\"\"\"\"!\"**\\x1e$$!%$\\x1e\\x1f\\r\\x16\\x0e$$$$$##\"#$#$!$#\"\"#$$#\"$#$!$##$\"\\x1b!#\"\" \"#!$$$$#\"\"#$$##$\"#!$#!#$$##$\"\"#$##$#$$$$$\"#$#\"$!$!\"\"!\"%#%\"&\"\\x1f\"$#\\x19\\x0b\\x18&&\"%&&$#& \"&\"\\'%\\'&!\\'&&&$&&\\'&\\'%&&&&&\\x1a#&&&&&&%&%&&&&&&&&\\'&&&&&&&&&&\\'&%&%%%%&%$$##\\x1d\\x1d\\x15 &\\x14$ &\"!!&\\x1f&&\\x1d&&\\'&&&&\\'#\\x1c&!&&\\'!\\'&&&&&&&!&&&&\"\\x1e&#&&&&$&%& %&&&&&&&&&&\\'&&&%&&&\\'%%&%$%%%%%$#\\x1f\\x1f$$#&&\\x1f\\x1b!&$ \\x1e!!\\x1c \\x1d\\x1d\\'&!& \\'\\x18\"!%&&\\'&\\'&&&!&&&&&&!&&&&#&&&&&&%\"%\\'&&#&&&&&&&\\'&&&%&#&\\'%\\'&%$%\\x16%%%$ #\\x06\\x06\\x05\\x05\\x06\\x05\\x06\\x06\\x06(\\'#\"$#$\"\"!\" $!##\"\"\"\"\"\"\"\"\"\"#!!\"\"\"##\"\"\"\"!\"#\"\"\"\"$\"\"!\"\"\"!!!!\" !!\" \\x1f\"!\"\"!!!\"!#!\"!\"!!\"!!!\"!#!\"\"  \"#\"\"\"\"!\"**$$\"\"\"&%%&&\\'!!& \\x19%\\x1e\\x18#&#&$\\x1e\\'\"\"&&&&&&\\'\\'&&%&&&\\'&%&&%&#&&&&&&%&&&&&&%#&&&&&&&&&\\'&&&%&&&%%%%%&$$$#\\x1f#$!%$###%#####$\"%#$%#\\x1e#$##\"\"!#\"#\"$\"##\"##$$#$#$$###$$#$#\\x1a\"#$##\"$#$#\"#$$###$$$$\"$\"$#$$$#\"###$$#$#$##$\\x1f\\x04\\x04\\x04\\x04\\x04\\x04\\x04\\x04\\x04\\x04\\x04\\x04\\x04\\x04\\x04\\x04\\x04\\x04\\x04\\x04\\x04\\x04\\x04\"\\x15#\\x16\\x1a\\x1a\"\\x1d!\\x1d\\x1e\\x1f\\x17\\x10!\\x1c\\x19\\x1d\\x18 \\x10\\x18\\x14\\x1c\\x1e\\x16\\x10\\x1a\\x1d!!\\x1d\\x1b\\x1a !!\"\\x1f\"!\\x1c!\\x1d\\x19\\x13\\x1a\\x18\\x1c!\\x18\\x1e \"\" !\"!!!\"$\"\"\\x1e!\" \\x1f$$#$#\"\\x1f##$\\x1f$\"##\"##$$#!#$$ ##$$#$#\\x1b\"#$\\x1c#\"$#$#\"#$$#$#$$$$!$\"$#$$$#\"###$$#$#$#$$!$$$$#$#$\"$###$$$\"\"#$#\\x1f**\" #\"\"\"\"!!!!#\"\" !\"\"!#!\"\"\"!!!\\x1f\"\"!\"\"#!\"\"!\"\"\"!#!!\"\"\"\"#\"\"\"\"\"\"\"\"#\"\"\"\"\"\"\"\"\"\"\"\"!###!\\x1f\\x1e#\"$#\"#\"###\"$##%$$\"%&&\\x07\\x07\\x06\\x07\\x06\\x05\\x06\\x05\\x05\\x04\"\\x1e#\"#\"\\x19!\\x1e\\x1f##\\x1f$%#\\x1b\"!$\\x1c#\"%#$$\"#$$###$\" $\"$\"$#$$$#\"#$#$$#$\"$#\"$!$\"$$#$#$#$###$\"$#\"#$\"#$##$$#$#$$\"#\"\"\"$\\x1f $%\"$%$% #$#$$$%\"\\x1b\"#$##\"%#$$\"#$$###$$\"$\"$\"!#$$$#\"#$#$$#$\"$#\"$!$$$$#$#$#$###$$$#\"#$\"#$##$$#$#$$\"#\"\"\"$\\x1f\\x04\\x04\\x04\\x04\\x04\\x04\\x04\\x04\\x04\\x04\\x04\\x04\\x04\\x04\\x04\\x04\\x04\\x04\\x04\\x04\\x04\\x04\\x04\\x04\\x04# \"###\\x1f\\x1f\"\\x18 \\x1e\\x1f\\x1b\\x1b    \\x1d\\x1b  !!\\x1f\"\\x1c\\x1c\\x1c\\x1b\\x1d\\x1f !###\"\\x1e!#\\x1f### \\x1f\"! \\x1f\\x1d\\x1d\"\\x1e\\x1f \\x1e  \\x1c\\x1f\\x1d\\x1b\"\\x1b!\"\"  !\"\\x1d\\x1a$%#\\x1b##$##\"$#$#\"#$$\"##$$$$\"$!$#$$$$\"###$$###$###!$$$$#$#$\"$###$$$#\"#$!#$##$$#$#$$##\"#\"$!$$#$#$#\"#####!\\x05\\x05\\x07\\x05\\x06\\x06\\x06\\x06\\x08\"& \"$#$\"#\"##$\"##\"\"\"$\"!\"\"\" \"#\"\"\" \"\"\"\"\"\"\"\"\"\"\"\"\"\" !!!! \\x1d!\\x1e\\x02\"\"\"!\"!!\"!\"!#\"!!#!!!!\"\"\"\"!$!! !!\"\"      \"!!#)*!%#$$$$$$\"$\"$#$$$#\"###$$#$#$###!$$$$#$#$\"####$$$\"\"#$!\"$##$$#$#$$\"#\"#\"$!$$#$#$#\"##$$$##$##!\"\"\"\"$$# #\"! %#$$$$$$\"$\" #$$$#\"###$$#$#$#\"#!$$$$#$#$\"####$!$#\"#$!\"$##$$#$#$$\"#\"#\"$!$$#$#$#\"!#$$$##$##!\"\"\"\"$$# #\"! %#$\"%%%$#$\\x14%#$$\"$\"#$$$$$%#$$##!$$$$#$#$#$###$$$#\"#$ \"$#\"$$#$#$$\"#\"#\"$!$$#$#$#\"##$$$##$##!#!\"#$$# $$\\x1f#$$%%%$&&&#$#%&\\'&&&&&&&%\\'&&\\'&&&&&#\\x1f%&&&\\'&&$\\'&%&&&!&&\\'\\'%\\'&&&&&&\\'\\x16\\'\"\\'&&&\"$\\'!\\x1f\\x1d\\'&&\\'&!&&\\x1e###%\"\\x1b%**\"!!#\"\"#\"  \"\"!! \"\"!#!\"\"#!!\"\"!!!!\"#!#\"\"\"\"\"!\"\"#\"\"\"\"\"!\\x1f ! \"#\"\"#\"\"\"\"\"# #\"\"!###!#\"\"\\x1f$\\x1f\"!!$\\x1f#\"###$$\"\\x1e\" \\x1d&&\\x06\\x08\\x06\\x06\\x06\\x05\\x05\\x06\\x07\\x04\\x04\\x04\\x04\\x04\\x04\\x04\\x1d\\x17\\x1a\\x14\\x1c!!\\x1b!#\\x16\"\\x1f$\\x18\\x07\\x1b\\x1e\\x1a\\x1a!\\x1e\\x18\\x1d\\x1a\\x14\\x1a#\\x1c#\\x17\"\"$ \\x1b\"\\x1b#\\x14\\x14\\x14\\x0c\\x12\\x10\\x19\\x1b\\x19\\x17\\x1d\\x1c\\x1b\\x18\\x1f\\x1e! #&\\x1f\\x1d$#%!\\x1b\\x1d\"\"#\"\\x1f\\x1f\"#\"\"#$#$\\x1c\"$!\\x1f$$$##\"\"\"#$$$$$\"\"#\"\"\"$$\"$$\"!#\"\\x1e\\x1c! \\x1e!#$$ \"##\\x1f\"\"#\"## ##$$$$$!\"$$!##$$#$$!$#\"\"$!\"#\\x1f!\\x1d\" ! !$#\"\\x1a\\x1d\\x1d\\x1a\\x1e\"!# \"\\x04\\x05\\x06\\x06\\x06\\x06\\x06\\x08\\x06\\x06\\'%\" $###!###$#\"##$\"#\"!\"\"\"\"\"\"\"#\"\"\"\"\"\"\"\"\"\"\"\"\"#\"#\"\"\"\"#\"!!!\"\"\"!!\"\"!#!\"\"\"#!!!#!!\"!!!\"!\" ! \"!!\"  \"\"\"\"\"!!\"**!## ##\"\"$$$##$$#$$\"\"$$$\"##\"$\"$#\"$\"\"$##\"$\"$##\"$\"$$$$\"##$\"####$####$$$\"$\" $$#$$$###$$$ !\" #$#$#\" $$%%#$!# \"#\"$#$#\"$\"\"$##\"$\"$##\"$\"$$$$###$\"###$$####$$\\x18\"$$\"$$#$$$##\"$$$!!#!#$###\" \"#$$\"$###$#!$!#\"$!#!$%%\"$%%\\x1f$\"$$\"\" \\x18\\x1a\"!\\x1f!\\x1f$\"####$$$\"$\\x1e\\x1a$$#$$$###$$$\\x1f \\x1e\\x1d\\x11 !!\\x1e\\x1c\\x1a\\x1e\\x1e\"\"\"$##\\x1c!!\"$!$#$$#\\x1d#%\\x1f\"$$$\\x1c \\x1f\\x1a\\x14\\x16  \\x18\\x18\\x1c\\x1c$\"!\\x1d\"#!!\\x1e!\\x04\\x1f$\"$$$$##\"$\"###$$####$$$\"$\"!$$#$$$###$$$\" \"\\x1f\"$###\"#$#$$\"$###$#\"$!$#$$#!$%$\"$$#$\"#\"\\x1f\\x17\"%\"#$#$##$\"$##\"$!\\x1f$\"$$$$#!\\x1e$\"##!$$####$$$\"$\"!$$#$$ ###$$$\"  \\x1f\"\\x1f##\"\"#$#$$\"$###$\"\"$!$#$$#\\x19$%$!$$$$\"!\\x1a\\x13\\x18\"%\"$$#$\\x1f \"\"$##\\x17$\\x04##$$%%$%%&&&&%&&&&&\\'#$\\'&&&&&&&&&&&#\"\"#&&&&#&&&&&&&\\'&&&&&&&%\\'&\\'\\'&%#\\'&&&%&&&&\"\"#%&%\\'&%%$&\\'%%#!#!! \"%%%%&!&&%&&&\\'&&&&&&&%\\'&&&&%\\'&&&&&&&&&\\x1c!#%&&&&\\x1e& &\\'&\\'&%&&(&&&\\x1c!&&%&\\x1d$&$&\\x04\\x04\\x04\\x04\\x04\\x04\\x04\\x04\\x04\\x04\\x04\\x04\\x04\\x04\\x04\\x04\\x1f\"\"\"\"$###\"#$#$$\"$###$#\"\"!##$$#!$$$\"$$$$$#\"\\x1f\\x1a\"$\"$$#$#\"$\"$##\"\"##$\"#$#$##\"#\"$$\\x04\\x04\\x04\\x04\\x04\\x04\\x04\\x04\\x04\\x04\\x04\\x04\\x04\\x04\\x04\\x04\\x04\\x04\\x04\\x04\\x04\\x04\\x04\\x04\\x04\\x04**\"!!\"\"\"\"\"  !#!!!\"\"!\"!#\"\"\"!!#\"\" \"!!!!\"!\\x1e\\x1f!\"\"\"!!\"!\"#\"#\"!\"\"#\"\"\"\"\"\"\"\"\"\"\\x1d\"#\"\\x17\"\\x1f\"#\\x1e\\x1d!\"\\x19\\x1e!\\x04\\x04\\x04\\x04\\x04\\x04\\x04\\x04\\x04\\x04\\x04\\x04\\x04\\x04\\x04\\x04\\x04\\x07\\x07\\x07\\x06\\x06\\x06\\x07\\x05\\x05\\x1f\\x1c\\x1a\\x1f  %\\'%%&&!%&%\\x1e$$$ \\x16\\x1f\\x1e\\x1e\\x1e&&\\x18&&&\\x1e\\x1a#%&&\\x1f &&\\x18\\x14\"\\x1b\\' \\x1d\"\"\\'$&&\\x1d\\x1b!&\\x10&\\x04\\x04\\x04\\x04\\x04\\x04\\x04\\x04\\x04\\x04\\x04\\x04\\x04\\x04\\x04\\x04\\x04\\x04\\x04\\x04\\x04\\x04\\x04\\x04\\x04\\x04\\x04\\x04\\x04\\x04\\x04\\x04\\x04\\x04\\x04\\x04\\x04\\x04\\x04\\x04\\x04\\x04\\x04\\x04\\x04\\x04\\x04\\x04\\x04\\x04\\x04\\x04\\x04\\x04\\x04\\x04\\x04\\x04\\x04\\x04\\x04\\x04\\x04\\x04\\x04\\x04\\x04\\x04\\x04\\x04\\x04\\x04\\x04\\x04\\x04\\x04\\x04\\x04\\x04\\x04\\x04\\x04\\x04\\x04\\x04\\x04\\x04\\x04\\x04\\x04\\x04\\x04\\x04\\x04\\x04\\x04\\x04\\x04\\x04\\x04\\x04\\x04\\x04\\x04\\x04\\x04\\x04\\x04\\x04\\x04\\x04\\x04\\x04\\x04\\x04\\x04\\x04\\x04\\x04\\x04\\x04\\x04\\x04\\x04\\x04\\x04\\x04\\x04\\x04\\x04\\x04\\x04\\x14\\x1b\\x1a\\x1a\\x1a\\x15#\\x1c\\x1c\\x1d$\"$$$\\x1f\\x1b\\x15\\x15 !\\x1f\\x1e\\x1e\\x1c$\"\\x1e \"\\x1f!  !\\x1f \\x1e \\x1a$\"!#\\x1f\"\\x1b\"!$\\x04\\x04\\x04\\x04\\x04\\x04\\x04\\x04\\x04\\x04\\x04\\x04\\x04\\x04\\x04\\x04\\x04\\x04\\x04\\x04\\x04\\x04\\x04\\x04\\x04\\x04\\x04\\x04\\x04\\x04\\x04\\x04\\x04\\x04\\x04\\x04\\x04\\x04\\x04\\x04\\x04\\x04\\x04\\x04\\x04\\x04\\x04\\x04\\x04\\x04\\x04\\x04\\x04\\x04\\x04\\x04\\x04\\x04\\x04\\x04\\x04\\x04\\x04\\x04\\x04\\x04\\x04\\x04\\x04\\x04\\x04\\x04\\x04\\x04\\x04\\x04\\x04\\x04\\x04\\x04\\x04\\x04\\x04\\x04\\x04\\x04\\x04\\x04\\x04\\x04\\x04\\x04\\x04\\x04\\x04\\x04\\x04\\x04\\x04\\x04\\x04\\x04\\x04\\x04\\x04\\x04\\x04\\x04\\x04\\x04\\x04\\x04\\x04\\x04\\x04\\x04\\x04\\x04\\x04\\x04\\x04\\x04\\x04\\x04\\x04\\x04\\x04\\x04\\x04\\x04\\x04\\x04\\x04\\x04\\x04\\x04\\x04\\x04\\x04\\x04\\x04\\x04\\x04\\x04\\x04\\x04\\x04\\x04\\x04\\x04\\x04\\x04\\x1b\\x1a\\x1c\\x18\\x1d\\x1e#!!\\x1d$$$$#\\x1e\\x1a\\x15\\x17\\x1e\\x1e\\x1f! \\x1f$!\"\\x1f!#\"#\"\"!#\\x1e \\x1a$#$##\"\\x1b\\x1e \\x1e\\x04\\x04\\x04\\x04\\x04\\x04\\x04\\x04\\x04\\x04\\x04\\x04\\x04\\x04\\x04\\x04\\x04\\x04\\x04\\x04\\x04\\x04\\x04\\x04\\x04\\x04\\x04\\x04\\x04\\x04\\x04\\x04\\x04\\x04\\x04\\x04\\x04\\x04\\x04\\x04\\x04\\x04\\x04\\x04\\x04\\x04\\x04\\x04\\x04\\x04\\x04\\x1f$$$\"$$$$$## \\x1b#$\"$$#$#\"$\"###\"\"##$\"#$#$##\"#\"$#\\x04\\x04\\x04\\x04\\x04\\x04\\x04\\x04\\x04\\x04\\x04\\x04\\x04\\x04\\x04\\x04\\x04\\x04\\x04\\x04\\x04\\x04\\x04\\x04\\x04\\x04\\x04\\x04\\x04\\x04\\x04\\x04\\x04\\x04\\x04\\x04\\x04\\x04\\x04\\x04\\x04\\x04\\x04\\x04\\x04\\x04\\x04\\x04\\x04\\x04\\x04\\x04\\x04\\x04\\x04\\x04**\"\"!\"\"\"!\"  !\"\"!!\"!!!!\"\"!!\"#\"!!\"!\\x1f\"!!!!#\"\"\"\"!#!#!\"\"#\"\" \"$!\"\"\"$\"\"\"#\"$!\"\"\\x1f\\x1d\"\"#\\x1f#\\x13\\x1c\\x1e!!$!\"\\x1f\"\"\\x1f!\"\"\"\"\"$\\x18#%&\\x06\\x06\\x06\\x07\\x06\\x06\\x06\\x05\\x05!\"#\"!\"$\"#\"#\"#\"##$!#$#$#!$\"$##\"#$$$\"###\"##$$\"$\"#$$$\" \"\"#\"#\\x1f$ $\"#$$\"\"\"#!$$$$\"$\"$$$  \\x1a\\x1d!\"!!\\x1a\"\\x1b\"\\x1e\\x1f!# \\r!$\\x04$#&%&&$%&&\\'&&\\'%%\\x1f\\'&&&%&\"%&\"&&&&&&&&&\\'&%&\\'%&&&&\\x1f&%#&&&&&&%&%\\'%&&&&&&&&&&&\\'&&\\'&%%&&%&%%%#\"!$$#\\x1f$ #\"\"$$\"\"\"#!$$$$\"$\"$$$\"#\"##$$$##\"$#\"$#\"$!#$\"$\"$$##$$##$!! $##$$######%%\"$$$#$#$$#%%\"$\\x1f$$$%%%\" \\x1e#\"\\x1d$$!\"##$\"$\"$$$\"#\"##$$$##\"$#\"$#\"$!#$#$\"$$##$$##$!\" $##$$######$#\"$$####$##$$\"$\"$$$$$$\"\" \"#!##$$$#%##\"$%%\\x1f\\x05\\x06\\x06\\x06\\x06\\x06\\x06\\x06\\x07\\'%%\"$###$\"####\"\"\"##\"\"\"\"\"$\"!\"\"\"\"\"\"\"\"!  \"\"\"\"\"\"\"\"#\"\"\"\"#!!!!\"\"!!\"#!\"!!\"!!\\n!#!!\"!!!\"\"#!\"# \"!!!  \"\"\"\"\"!!\"**\\x1f#$&%&&%%&\\'%%&&%%#\"$&&&&\"\\'\\x1d&\\'&\\'&&\\'&&&&&&&&&\\'&&%&&#&&&\\'#$###$&&\\'&&\\'&&&&&&&&&&&&%&&&&&%%%%%%##**\"!!\"\"\"\" \\x19\\x1a\" !\"!\"\"!\"\"!\"!#\"\"\"!# !!\"\"!\"\" \"!\"#\"\"\"\"\" !\"\"\"\"#\"\"!!!#!!!\"\"\"\"\"\"#!!!$\"##!\"$\"$###\"\"####%$#$#$#(\\x06\\x06\\x07\\x06\\x06\\x05\\x05\\x05\\x05\\x1f   %%$\"$!\"\"$$##$##$#$$$$\"$$#$$\"#$!#$\"!\"$#$#!#$\"\"#!\"\"\"$$\"$$#$\"\"\"$$\"$$$#$#\"$$\"$#$$#\"$$$#$#$##$#$#$!\"!!\\x1f$$$$$\"#\"\\x1f$#$$##$##\"$$$$\"#$$#$$##\"##\"\"$$$$$\"\\x1e#$#$\"$$$!! $!!\"$#$$$\"$!! $\"#$$\"$\"$$%\"#$ $#\"#%$$%$%$#$ $$\\x1f$$$$$\"#\"\\x1f$#$$##$##\"$$$$\"#$$#$$##\"##\"\"$$$$$\"\\x1e#$#$\"$$$!! $!!\"$#$$$\"$!! $\"#$$\"$\"$$%\"$$\\x0c\"#\"\"\\x1f$$%$%$!$#\"$  \\x1e\\x15\\n\\r\\x1d\\x1d\\x1e \\x12\\x16\\x1f\\x18 \\x1e\\x0b\\x1e\\x19\\x1e\\x0f\\x10\\x1e\\x1c\\x1c\\x1b\\x1c\\x1a\\x13\\x1c\\x1c\\x07\"\\x17  !\\x1c\\x1e\\x1a\\x1f \\x1e\\x1d!\\x1c\\x1b\\x18\\x18\\x19\\x1f\\x1d\\x1d\\x19\\x1e !!!\\x1d!\\x1d\\x1e\\x19\"\\x1a\\x19! \\x1c\"\\x15\\x19\\x1f  ! \\x04\\x04\\x04\\x04\\x04\\x04\\x04\\x04\\x04\\x04\\x04\\x04\\x04\\x04\\x04\\x04\\x04\\x04\\x04\\x04\\x04\\x04\\x04\\x04\\x04\\x04\\x04\\x04\\x04\\x04\\x04\\x04!%%\"#$ \"##%$#$$$$\"\"#$$#$$$#$##$$#$#$$#\"$$$#$#$##$#%#$\"$\"\"##$#\"\"###$###\"\"#$#\"#\"##$##!#!$\"$######$$$#\"\\x1f!#\"\"\"%%&&&%\\'$\"#\\'&&\\'&&\\'%\\'&&&&&&&&&\\'&%&&&&&&$&&&&&&&&&\\'&\\'&\\'\\'&&&&\"&#\"(&\\'&\\'&\"\\x0b\\'%\\'&#&\"\\'&&%%&!%!\\x1c\\x04\\x1f\"\"\\x1f%#%\"##$\\x1c# $#$\\x1b\"$$\"$$#\"$#$$#$#$#$\"$\"###\"$\"\"#$#####\"\"###\"#\"!#$\"#!#!$#$######$$$#\"#$\"####$$$#\"\"\"$#!\\x1f!####\"$$##$#$#\"##$###$\"#\"$\"$\"\"$\"#$#$\"$!#!$\"$\"\"\"\"\"$$\"#####$$#!\"#\"\"##!$$$!\"#\\x1f#\\x1f\\x1e\\x1e $!!\\x1e\"!!$$\"\\x1a  \\x1c\\x1a#%%%\\x1d!#$$&%%%&#%&%\\'%&&&&\\x1f&&&\\'&\\'&\\'\\'&\\x1b&&&&&%\\'%$&\\'#\"\"%%\\'#&&&&&&&&%\\x19&\\'%$&&%#\\'&\\x1f&\\'&#!&$\\x1b&\\x1e\\x1e\\x1b\"&\\x1d&%$#\\x1c\\x1d\\x1b\\x17\\x05\\x05\\x06\\x06\\x07\\x06\\x06\\x06\\x07(&$#$$\"\"!$$!##\"##\"$#\"!\"$\"\"\"$\"\"\"#\"#\"\"\"\"\"\"\"!\"\"\"\"\"#\"\"\"\"\"! !\"\"\"\"\"  \\x1f\"!!!! !#!!!!\"!\"\"#!\"! !\"!\" \\x15\"\"\"\"\"\"!\"****\"!!#\"\"\"\"  \"\"\"# #!\"#!\"\"\"\"!\"!#!\"!#\"!\"!!#\"!\"\"\"!!\"\"\"\"\"#\"#\"\"!#\"\"\"##!#\"\"$\"\" !  \" $\"!\"\"\"\"###\"##$###$$$ $$)\\x07\\x05\\x07\\x06\\x05\\x07\\x06\\x06\\x05\\x1f#$#!#\"$###$\"#\"$\"$\"\"$\"#$#$ $!#!\\x1f $\\x1f#\"#\"$$###\"\"#\"\"$\"\"$\"##\"\\x1c$$$\"\"#!$$\\x1d\\x1f$\"\\x18\\x18\\x15\\x1f\\x1f\\x19\"\\x04\\x04\\x04\\x04\\x04\\x04\\x04\\x04\\x04\\x04\\x04\\x04\\x04\\x04\\x04\\x04\\x04\\x04\\x04\\x04\\x04\\x04\\x04**\"!!\"\"#\"#\\x19\\x05!!! \\x12\\x1e\\x1e\\x1e!#!#!#!!\"!!\"\"!\"!\"!\"\"\"\" \"#!#\"! #\"\"\"\"#\\x1c#\"\\x1e!\"\"!!\\x1e \"\\x1e#\"\\x1d#\"\"\\x1a\\x1d \\x1f\\x1e#\\x1d$!\"\"$##\\x1d\"\\x1e#$\\x1b## \"\\x1e&\\x07\\x07\\x07\\x06\\x06\\x05\\x07\\x05\\x05\\x1d \"  #\"!$#\"#\"\"#$#\"#\"#!#\\x1d\"\\x1d#!$#$######\"$$#!#$\"####$\"$!!#\\x1e\\x1f !$#$$#$\"#\"$$\"$$$\"#$$$$#$\"##$$##$#\"$\"$$#\\x19\\x1f\"!$%$#!#$#$###\"\"###\"#\"\"\"$\"#!#!$#$######$$$#!#$\"##\"#$$$#\"#!\"#!$$$$#$\"#\"$$\"$$$\"#$$$$#$\"##$$##$#$$\"$$#\"\\x1f\"!$%$ !#\"#####\" #$#\"#\"#!#!#\\x1f#\\x1f#\\x1e#\"##\"##$$$#!#$\"####$$$!\"#\\x1e\\x1f !$$$$#$\"#\"$$\"$$$\"#$$$$#$\"##$$##$#$$\"$$#\\x13\\x1f\"!\\x06\\x06\\x06\\x05\\x06\\x06\\x06\\x06\\x06\\x04\\x04\\x04\\x04\\x04\\x04\\x04\\x04\\x04\\x04\\x04\\x04\\x04\\x04\\x04\\x04\"\\x1d#\\x15\"\\x07\\x1a\\x1d\\x18\\x1e\\x1f!\\x1b !\\x14\\x18\\x08\\x0b\\x10\\x13\\x0e \\r\\x1e!   \\x1e\\x1b\\n\\x1e\\x1e\\x10 \\x1f\\x1f\\x1d\\x1e#!\\x1f\\x1c\\x1f\\x1d\\x1c !#!!! !\"!\"!!!!!!\"\" !\\x0c!\"\"\"! #\"\"\"#\"!\"**\\x06\\x06\\x07\\x08\\x06\\x06\\x05\\x06\\x07\\'!#\\x15##$\"\"!!\\x1a\\x1f\\x18\\x1e  \\x1f\\x1d\\x17!\\x1b\\x1f\"!\"$\\x1e\\x1f\\x19\\x1e\\x1f ! !#\"$\"\"\"\\x1f\"\"\\x1f\\x1e\"!!\"!!\"!!\"\"!!\"\\x1c \\x1a\\x1e\\x1f\"\"\"\\x18\\x1c!\\x1d\\x1e!\"\\x1c\\x1d\\x19\\x19\\x1d!!\"\\x16\"!\\x1d\\x1d\\x16 \\x1f\"\"\"\"\"!\\x1e**$!!!$%\\x1f\"!\"%\\x13\\x1e\\x19\\x1f\\x1c\\x1e\\x1e!\\x13 \\x08\\x1e##$\\x17\\x1d\\x17\\x1c\\x12\\x1e \\x13\\x1a\\x1f#\\x1c\"\"#\\x17\\x1f!\"\"\\x1b %#$\\'\\x1c\\x05\\x1f\\x1d\"\\x1f \"\"%$!\\'#\\'#\"$\\x1d$\\x1b&##\\x1e\\'! !\"$#%)\"\" # !#\"$\"\"$#$#$$\"#\"#$\"####$$$#\"\"!!#!$$$$\"#\"##$#\"$$$\"#$$$$#$\"\"\"$$##$\"$$\"$$##!#\"#\"#\"##$$#\"$#$\"#\"$$$$##$####!$$$%&$!\"\\x15!\\'%&&\\'% \"&&&!\\x1f!#$\"&&#&\\'\\x1d\\x1f&$&&&&\\'\\x1f&!&&&&&#&&!&&%&&%&&&&&%&\\' &&&&&&&&%&&&&&$\"%%%%%$$#\\x1d%$$%$$\"##$$\"$$#\"#$$$$\"$\"##$$####$$\"$$##!\"\"###\"##$$#\"$#$\"\"\"$$$$\"#$#$$$#\"$$$$!$$##\"###$$\"$##$##\"###!!!\\x04\\x04\\x04\\x04\\x04\\x04\\x04\\x04 #!\\x1c\\x1b\\x11\\x19\\x18\\x1b\\x1c\\x1b\\x1d\\x1a\\x1f!\\x1d!!\\x14\\x18\\x13\\x13\\x1c\\x1b\\t\\x16\\x1a\\x1f \\x1f\\x1e \\x1f\\x1c\" !$\\x1f$!\\x1f$\\x1f  \\x1e!\\x13\\x1d\\x1d \\x1f!\\x18!\\x18 \\x1d\\x1b\\x18\\x1d\\x1d\\x1c\\x1c\\x1c\\x1c\\x18\\x1e\\x1f\\x1e \\x1e\\x1e\\x1e! \\x1e!  !\\x1f#$##\\x1f\" \\x1f \\x1e\\x04\\x04\\x04\\x04\\x04\\x04\\x04\\x04\\x04\\x04\\x04\\x04\\x04\\x04\\x04\\x04!\\x1d\"\"\\x1f\\x1c\\x1c\\x1d\\x1f\\x19\\x14\\x18\\x13\\x13\\x1c\\x19\\x0c\\x1a\\x1a\\x1f\\x1d\\x1d\\x1a\\x1b\\x1d\\x19\\x1b\\x1e\\x16\\x19\\x0c\\x17\\x1b\\x1f\\x1f\\x19\\x1f\\x1d!\"\\x14\\x1d\\x1f\\x1e\\x1f$\\x1c#  \\x1d\\x1b\\x18\\x1d\\x1d\\x1d\\x1f\\x18!\\x19 \\x1f\\x1d!!$#!\\x1d\\x1e!\\x1f\\x19\\x1e \\x1c \\x1f#\"\" \\x1f \\x1b$#&%%&%!\\x19#\\x1d\"!&&&$&&&\\'%&&&&\"&&&&&&!&&&\\'&&&\\'&#&\"%&&#\\'&&&&&\\x1e\\'&&&\\'\\'&&&&%&%&&&&\\'&&&!&&&%\\'&%%%%$$#\"\\x13\\x13\\x13\\x18\\x1a!#\\x0e##%\\x1f%$!!\\x17\\x1e \\x1e\\x1b\\x1c\\x1b\\x1d\\x19!###!\"#\"##$\"\"##\"##\\x19$\\x1e#$#\"\\x1c$\"##\"\"\"#\\x1c\"\\x1b$##\"\"\"#$#$\"\"$$\"#$#\"$\"###\"#$$##$\"## $#\\x1f\\x04\\x04\\x04\\x04\\x04\\x04\\x04\\x04\\x04\\x04\\x04\\x04\\x04\\x04\\x04\\x04\\x04\\x04\\x04\\x04\\x04\\x04\\x04\\x04\\x04\\x04\\x04\\x04\\x04\\x04\\x04\\x04\\x04\\x04\\x04\\x04\\x04\\x04\\x04\\x04\\x04\\x04\\x04\\x04\\x04\\x04\\x04\\x04\\x04\\x04\\x04\\x04\\x04\\x04\\x04\\x04\\x04\\x04\\x04\\x04\\x04\\x04\\x04\\x04\\x04\\x04\\x04\\x04\\x04\\x04\\x04\\x04\\x04\\x04\\x04\\x04\\x04\\x04\\x04\\x04\\x04\\x04\\x04\\x04\\x04\\x04\\x04\\x04\\x04\\x04\\x04\\x04\\x04\\x04\\x04\\x04\\x04\\x04\\x04\\x04\\x04\\x04\\x04\\x04\\x04\\x04\\x04\\x04\\x04\\x04\\x04\\x04\\x04\\x04\\x04\\x04\\x04\\x04\\x04\\x04\\x04\\x04\\x04\\x04\\x04\\x04\\x04\\x04\\x04\\x04\\x04\\x04\\x04\\x04\\x04\\x04\\x04\\x04\\x04\\x04\\x04\\x04\\x04\\x04\\x04\\x04\\x04\\x04\\x04\\x04\\x04\\x04\\x04\\x04\\x04\\x04\\x04\\x04\\x04\\x04\\x04\\x04\\x04\\x04\\x04\\x04\\x04\\x04\\x04\\x04\\x04\\x04\\x04\\x04\\x04\\x04\\x04\\x04\\x04\\x04\\x04\\x04\\x04\\x04\\x04\\x04\\x04\\x04\\x04\\x04\\x04\\x04\\x04\\x04\\x04\\x04\\x04\\x04\\x04\\x04\\x04\\x04\\x04\\x04\\x04\\x04\\x04\\x04\\x04\\x04\\x04\\x04\\x04\\x04\\x04\\x04\\x04\\x04\\x04\\x04\\x04\\x04\\x04\\x04\\x04\\x04\\x04\\x04\\x04\\x04\\x04\\x04\\x04\\x04\\x04\\x04\\x04\\x04\\x04\\x04\\x04\\x04\\x04\\x04\\x04\\x04\\x04\\x04\\x04\\x04\\x04\\x04\\x04\\x04\\x04\\x04\\x04\\x04\\x04\\x04\\x04\\x04\\x04\\x04\\x04\\x04\\x04\\x04\\x04\\x04\\x04\\x04\\x04\\x04\\x04\\x04\\x04\\x04\\x04\\x04\\x04\\x04\\x04\\x04\\x04\\x04\\x04\\x04\\x04\\x04\\x04\\x04\\x04\\x04\\x04\\x04\\x04\\x04\\x04\\x04\\x04\\x04\\x04!\"!!##\"$###$##$\"\"$$$##\"#$#\"# $\\x1e#\\x1d#!$\"$$\\x1f$$$!$\\x1f\" #\"\"\"\"!#$$!#####\"$##$\"$\"$#\\x1f\"!\"\"$$\"\\x1d#\" \\x1f\"\"\"\\x1e#!\"\"\\x15\\x1e  \\x1a \\x1d\"\\x18\\x1c\\x1d\\x18\\x1e\\x1a#\"$\"#####$$##$##$!$##$$##$#$!#\"##$#$#$$\"\"\"\"##$$$$\"$!$\"##!$#$$$\"#$$$$\"$\"$$##$\"##$\"#\"$\"###$\"\"#\"!\\x1f!##\\x1d\"#!#$#!#!!#$!#$%##$!$##$$##$#$!#\"##$$$#$$\"\"\"\"$#$$$$!$!$\"##!$#$$$\"#$$$$#$\"$$##$\"##$\"#\"$\"###$!#$$\\x1f\\x1f$$##$##\"\"$##$\"$#$#\"#\"\"\"$$$\"$$\"##$$##$\"\"!##\"!##\"##$ \"#!#$!$\"$\"!$$#\"\\x1f$\"\"#\\x0e\"\\x04\\x04\\x04\\x04\\x04\\x04\\x04\\x04\\x04\\x04\\x04\\x04\\x04\\x04\\x04\\x04\\x04\\x04\\x04\\x04\\x04\\x04\\x04\\x04\\x04\\x04\\x04\\x1f$$##$##\"\"$##$\"$#$#\"#\"\"\"$$$\"$$\"##$$##$\\x1f\"\\x1f##\"!##\"#$\\x1c \\x1d\\x1e\\x1f#$$$\"$\"\"$$!\\x1c\\x1e\\x1f\\x19\\x1c\\x1b\\x17\\x13!\\x1f \\x1d!\\x1e#\\x1d#%\"#%%$#%\\n$$$$%%  \\x11#$$%$&%%&%\\'&&%&%&&&\\'&&%\\'&&\\'&&&&&&##\"\\'&%&\\'&#%&%&\"&&&#&&&\\'&\\'&&&&&&\\x1e\"&&&\\'%$\\'\\'%%\\x1c&&%\\x1f\\x1c&%%%&\\'#\\x1d\"$\\x1f$##$\"$#$#\"#\"\"\"$$$\"$$\"##$$##$\"\"!###\"##\"#$#$$\"$#$$$\"$\"#$!#\"#\"##!\"\"$#\"\"$$#$#$!#$!##%\"$#$#%%!$!$\\x1d$ \\x1f\\x1e\\x1d\\x1a#\\x1f!$!\\x1f\"$\"#\\x1e\"\\x1f!#\\x1f\\x1d\\x1d\\x19\" \"\"\"#\"\" !!!\\x1e\\x1e!\\x1d \\x1e\\x15!\\x0b\\x12  !\\x1a\\x12\\x1f!\\x1b\\x1a\\x1d\\x0b\\x1f\\x1f\\x1c\\x1c#!!\\x04\\x04\\x04\\x04\\x04\\x04\\x04\\x04\\x04\\x04\\x04\\x04\\x04\\x04\\x04\\x04\\x04\\x04\\x04\\x04\\x04\\x04\\x04\\x04\\x04\\x04\\x04\\x04\\x04\\x04\\x04\\x04\\x04\\x04\\x04\\x04\\x04\\x04\\x04\\x04\\x04\\x04\\x04\\x1f$\\x1d$\\x1d$\"\"##$$##!!\"\\x1f\"##\"#!\"#!\\x1f!$#$!\"$$!$\"#$$ \\n\\x0b\"!#\\x1d\\x1d \"\\x1e\\x1c\\x18\\x1f\\x18\\x13\\x19 !\\x1f!\\x1d!\"\"\\x0c \\x04\\x04\\x04\\x04\\x04\\x04\\x04\\x04\\x04\\x04\\x04\\x04\\x04\\x04\\x04\\x04\\x04\\x04\\x04\\x04\\x04\\x04\\x04\\x04\\x04\\x04\\x04\\x04\\x04\\x04\\x04\\x04##%%%&%%&$#$\\'%%&\\'&&%&&&&&&&&&&&\\'&\\'&%&&&&&&#&&\\'&&\\'\\'&&&&&&%&&&&\\'&\\'&\"\\'&&&%&\\'&%&%&&%&&& %\\x1e&&%$$ \\x19\\x1a\\x1c\\x1a!#\"#$#$$#!#$$$\"$!#$$##\"$###\"\"# \"\"##\"\\x1f!\\x1e\"#$$##$\\x1e!!##$$\"# ###\"###\\x1f#!$#\"\"\"!\\x1e\\x1e\"\\x1e\"!\"\\x1e\" \\x1a!\\x04\\x04\\x04\\x04\\x04\\x04\\x04\\x04\\x04\\x04\\x04\\x04\\x04$#! &&%%&&(\\x1e&&\\'&%&\\'&&%&\\'#\\'\"\\'%&&&&&&&&&&#&&&%&&%&&#&%&\\'&\\'&&&&&&&&&\\'%\\'%\\'&&&&%&&\\'%&&&%%\\'%\"\"!!%#$!##$####$\"#$#!$$##$$\"###$$$##\"#########\"#\"#\"#$$$###!#!#\"\"$$#\"$#!$#\"#\"$\"!####!$$$#$$$##\"#$#\"$###!\" #!\\x04\\x04! ##\"# $$\"\\x18\"#!\"!\"!\"$\"###$$$\"\"\"\"\"\"###\"##!$\"#\"!\"\"#!\\x1f !#!#\"\"$$#\"$#!$#\"#\"$\"\\x1e####!$$$#$$$##\"\"$#\"$# # \"!!\\x17\\x10\\x1e\\x15\\x19\\x1d\\x1d\\x1d\\x1e \\x0f\\r\\x18\\x1f\\x1c\\x1f\\x16\\x1f\\x1f\\x1e\\x04\\x04\\x04\\x04\\x04\\x04\\x04\\x04\\x04\\x04\\x04\\x04\\x04\\x04\\x04\\x04\\x04\\x04\\x04\\x04\\x04\\x04\\x04\\x04\\x04\\x04\\x04\\x04\\x04\\x04\\x04\\x04\\x04\\x04\\x04\\x04\\x04\\x04\\x04\\x04\\x04\\x04\\x04\\x04\\x04\\x04\\x04\\x04\\x04\\x04\\x04\\x04\\x04\\x04\\x04\\x04\\x04\\x04\\x04\\x04\\x04\\x04\\x04\\x04\\x04\\x04\\x04\\x04\\x04\\x04\\x04\\x04\\x04\\x04\\x04\\x04\\x04\\x04\\x04\\x04\\x04\\x04\\x04\\x04\\x04\\x04\\x04\\x04\\x04\\x04\\x06\\x06\\x06\\x06\\x07\\x06\\x07\\x06\\x06(\\'$#$$$#$#$##$\"##\"\"\"$!\\x1f \"\"#\"\"\"\"\"\"\"\"\"#\"\"\"#\"\"!\"#!#\"\"#!  \\x1e\\x02\"\"\"#! \"\"#!!!#!!#\"!\"\"#\"!\"!\"\"! !#!\"! \"\"\"!\"!!\"**\\x04\\x04\\x04\\x04\\x04\\x04\\x04\\x04\\x04\\x04\\x04\\x04\\x04\\x04\\x04\\x04\\x04\\x04\\x04\\x04\\x04\\x04\\x04\\x04\\x04\\x04\\x04\\x04\\x04\\x04\\x04\\x04\\x04\\x04\\x04\\x04\\x04\\x04\\x04\\x04\\x04\\x04\\x04\\x04\\x04\\x04\\x04\\x04\\x04\\x04\\x04\\x04\\x04\\x04\\x04\\x04\\x04\\x04\\x04\\x04\\x04\\x04\\x04\\x04\\x04\\x04\\x04\\x04\\x04\\x04\\x04\\x04\\x04\\x04\\x04\\x04\\x04\\x04\\x04\\x04\\x04\\x04\\x04\\x04\\x04\\x04\\x04\\x04\\x04\\x04\\x04\\x04!!##$ $$$#\"\"$$\"$$!$\"#\"$$\"$##\"$$$$\"$!##\"#$$\"\"$\"#$$#\"\"###$##!#\"$$#\"$$#!$$\"$\"###\"#\"$$$\"$$!\"#$$##%##\"\\x1b##!!!##$#$$$#\"\"$$\"$$!$\"#\"$$\"$##\"$$$$\"$!##\"#$$\"\"$\"#$$#\"\"###$##!#!$$#\"$$#!$$\"$\"###\"#\"$$$\"$$!\" $$##%##\"\\x1b#!$\\x05\\x05\\x06\\x06\\x06\\x06\\x08\\x06\\x07\\'&$\"%$#\"$##!#$\"$\"#$\"#!#\"!###!!\"\"#\"\"\"#\"\"#\"\"\"\"# \"\"\"\"\"!!!#!\"#!!\"!!!!\"!!!!!#!\"!!!\"\\x1e!!!#!!#!!!  \\x1f\"\"\"\"#\"\"**$%##\"#\\x1e%##$!$\"%$\"#$$\"$$$$\"#\"#$!$$#\"##\"\"$##\"\"##$#####\"$$!#$###$$##\"##$!$\"#$$#$$#$\"$$!$##$\\x1b\"#\"#$\"\"\"#\"$\\x1f %&%&#\"$%\\'&&\\'&&%\\'%%\\'\\'\\'&&&\\'#%&&(&&\\'\\'&&&\\'&&&&&&&%&\\'#&\\'%&&&%&%&&&&&&\\'%&##&&&&&&\\'&&\\'%%%%%#%%%$%##$$!\"\"$$\"##$\\x1f$$$#\"\"\"$#!$$#\"!#\"\"!#$\"!##!##\"##\"$#!$$###$$#$\"##\"!$!\"$$\"$$#$\"$$!$##$\\x1b\"###$\"\"!# !!!$$\"##\"!\"\\x1c$& \\'\\x1a\\x1f%&\\'&\\'&%&&\\'%&&\\'&&\\'\\'\"&&(\\'&&&&&&%&\\'&&\\'%&&%$&#&&&&&&\\'%&#$&&&#&&\\'&&\\'%&&&&#&%&&\\'&&\"%\"\"\"\"$#**\\x1a!\"\" \"\"#  !\"!!\"!\"!!!\"!!!#\"!#!\"\"!!!!#\"\"!#\"!!!!!!!\"\" \\x1c\\x1f \"#\"\"\"\"#\"\"\"\"\" \\x1f\" !  \"!\"#!\"\"\"\"\"!!\"!\"!\"!!%#%\"#\\x04\\x04\\x07\\x04\\x08\\x06\\x06\\x06\\x05\\x05\\x05#$$%%%&%%%&&%\\'&&%&%&&&%\\'&&\\'&\\'&&&%%\\'&&&\\'&\"$#&&%%&&&& &\\'\\'&&&&\\'&&&&&\\x1c$\"\" !\\'&&%\\'%&&%%&\"#\"\\x1e$#! \\x1b\"\\x1f\"$!#####!$$$\"$$\"##$$##$##\"\\x1b\"\"$###\"#\"$$$$\" !\\x1e#!##$!$#$$$$$\"\"#!#\"\"#\\x1f#!$$#%$\"#$###$#$#\"$\"####$%!$#$!#\"!!!!###\"\\x1b\"\"$###\"##$$$$#!$##!##$!$#$$$$$\"\"# #\"\"#\\x1f#!#$#$$\"\"###\\x1e####\"$\"\"\"\"\"#$!$\"#\"##\"$!$####$$$!#!!#\"%\"%$! %$&%%&&%&\\'&!\"\"&&&&\\'$%&&\\x16\\'&%!\\x16##\"!\"#\\x1e\"\\x1b!%#&&\\x1d\\x1b\\'\\x1f!\\x15%&&\\'&\\x14&&\\x1c\\x1d&&\\x1f\\x18\\x19(&\\x1c&  \\x1d\\x1f\\x14\"#%\\x1b\\x1a\"&$&\\x1d\\x1b\\x19\\x17\\x18\\x12\\x1a\\x1b\\x04\\x04\\x04\\x04\\x04\\x04\"##\"\"\"#!!\\x1e \\x1e\"\"#\"#!$##$!####\"##$\"\"$$\"\"$#\"!$!$$\"!\"#$\"##$\"$$\"!$$\"$##\"$##!$$#\"$\"$\"#\"$$$####$!$#\"\"$\\x1f\\x05\\x06\\x05\\x05\\x06\\x07\\x07\\x07\\x06\\x04\\x04\\x04\\x04\\x04\\x04\\x04\\x04\\x04\\x04\\x04\\x04\\x04\\x04\\x04\\x04\\x04\\x04\\x04\\x04\\x04\\x04\\x04\\x04\\x04\\x04\\x04\\x04\\x04\\x04\\x04\\x04\\x04\\x04\\x04\\x04\\x04\\x04\\x04\\x04\\x04\\x04\\x04\\x04\\x04\\x04\\x04\\x04\\x04\\x04\\x04\\x04\\x04\\x04\\x04\\x04\\x04\\x04\\x04\\x04\\x04\\x04\\x04\\x04\\x04\\x04\\x04\\x04\\x04\\x04\\x04\\x1f!!\"!!!\"\"\"\"\"#!!#!\"! \"\"\"\"\"\"!\")***\"!!\"\"\"\"\"  !\"!\"!\"!\"!!\"!\"#!\"!\"!\"!!!\"!\"!!!\"!!#!!!!#!\"\"#\"#\"\"#\"\"\"\"!\"\"\"\"\"\"\"\"\"!  \"!\\x1f\\x1e \\x19!#\\x1f\"\"!$\\x1f##!!\"\"\"\"&\\x1e)\\x06\\x07\\x07\\x06\\x06\\x05\\x06\\x06\\x03\\x04\\x04\\x04\\x04\\x04\\x04\\x04\\x04\\x04\\x04\\x04\\x04\\x04\\x04\\x04\\x04\\x04\\x04\\x04\\x04\\x04\\x04\\x04\\x04\\x04\\x04\\x04\\x04\\x04\\x04\\x04\\x04\\x04\\x04\\x04\\x04\\x04\\x04\\x04\\x04\\x04\\x04\\x04\\x04\\x04\\x04\\x04\\x04\\x04\\x04\\x04\\x04\\x04\\x04\\x04\\x04\\x04\\x04\\x04\\x04\\x04\\x04\\x04\\x04\\x04\\x04\\x04\\x04\\x04\\x04\\x04\\x04\\x04\\x04\\x04\\x04\\x04\\x04\\x04\\x04\\x04\\x04\\x04\\x04\\x04\\x04\\x04\\x04\\x04\\x04\\x04\\x04\\x04\\x04\\x04\\x04\\x04\\x04\\x04\\x04\\x04\\x04\\x04\\x04\\x04\\x04\\x04\\x04\\x04\\x04\\x04\\x04\\x04\\x04\\x04\\x04\\x04\\x04\\x04\\x04\\x04\\x04\\x04\\x04\\x04\\x04\\x04\\x04\\x04\\x04\\x04\\x04\\x04\\x04\\x04\\x04\\x04\\x04\\x04\\x04\\x04\\x04\\x04\\x04\\x04\\x04\\x04\\x04\\x04\\x04\\x04\\x04\\x04\\x04\\x04\\x04\\x04\\x04\\x04\\x04\\x04\\x04\\x04\\x04\\x04\\x04\\x04\\x04\\x04\\x04\\x04\\x04\\x04\\x04\\x04\\x04\\x04\\x04\\x04\\x04\\x04\\x04\\x04\\x04\\x04\\x04\\x04\\x04\\x04\\x04\\x04\\x04\\x04\\x04\\x04\\x04\\x04\\x04\\x04\\x04\\x04\\x04\\x07\\x05\\x06\\x06\\x07\\x06\\x07\\x06\\x07\\x04\\x04\\x04\\x04\\x04\\x04\\x04\\x04\\x04\\x04\\x04\\x04\\x04\\x04\\x04\\x04\\x04\\x04\\x04\\x04\\x04\\x04\\x04\\x04\\x04\\x04\\x04\\x04\\x04\\x04\\x04\\x04\\x04\\x04\\x04\\x04\\x04\\x04\\x04\\x04\\x04\\x04\\x04\\x04\\x04\\x04\\x04\\x04\\x04\\x04\\x04\\x04\\x04\\x04\\x1d\\x13\\x1d!!!\" ! \"\"\"\"\"\"\"!#!\"#!\"!!\"\"\"! !!!\"  \"#!\"#\"!#**\\x04\\x04\\x04\\x04\\x04\\x04\\x04\\x04\\x04\\x04\\x04\\x04\\x04\\x04\\x04\\x04\\x04\\x04\\x04\\x04\\x04\\x04\\x04\\x04\\x04\\x04\\x04\\x04\\x04\\x04\\x04\\x04\\x04\\x04\\x04\\x04\\x04\\x04\\x04\\x04\\x04\\x04\\x04\\x04\\x04\\x04\\x04\\x04\\x04\\x04\\x04\\x04\\x04\\x04\\x04\\x04\\x04\\x04\\x04\\x04\\x04\\x04\\x04\\x04\\x04\\x04\\x04\\x04\\x04\\x04\\x04\\x04\\x04\\x04\\x04\\x04\\x04\\x04\\x04\\x04\\x04\\x04\\x04\\x04\\x04\\x04\\x04\\x04\\x04\\x04\\x04\\x04\\x04\\x04\\x04\\x04\\x04\\x04\\x04\\x04\\x04**\"!!\"\"!#\"  !#!\"!#!#\"!#!\"\"!!!!! !!!!!\\x1f \\x1f!  ! \\r\\x1a\\x1d\\x1d\"!  \\x1d!\"\"\\x1e\"\" \\x19!\\x1e\"\"\"!\\x15\\x1c!\\x1e\\x1e\"\\x1c # \"\\x1e! \\x1c!\\x1e!\"!\"\\x1f!#!\\x1c \"\\x15\\x1a!\\x1f\\'\\x07\\x06\\x06\\x05\\x07\\x05\\x07\\x05\\x05!%\\x1d\\x17\\x1b\\x1f#\\x1d!!\\x15\\x1a\\x1f\\x1e!#\\x1b\"!! \\x1f\\x1e\\x1c!\\x1e\\x1e\\x1b\\x1a\\x1e\\x04\\x04\\x04\\x04\\x04\\x04\\x04\\x04\\x04\\x04\\x04\\x04\\x04\\x04\\x04\\x04\\x04\\x04\\x04\\x04\\x04\\x04\\x04\\x04\\x04\\x04\\x04\\x04\\x04\\x04\\x04\\x04\\x04\\x04\\x04\\x04\\x04\\x04\\x04\\x04\\x04\\x04\\x04\\x04\\x04\\x04\\x04\\x04\\x04\\x04\\x04\\x04\\x04\\x04\\x04\\x04\\x04\\x04\\x04\\x04\\x04\\x04\\x04\\x04\\x04\\x04\\x04\\x04\\x04\\x04\\x04\\x07\\x07\\x07\\x05\\x03\\x08\\x04\\x07\\x05\\x04\\x04\\x04\\x04\\x04\\x04\\x04\\x04\\x04\\x04\\x04\\x04\\x04\\x04\\x04\\x04\\x04\\x04\\x04\\x04\\x04\\x04\\x04\\x04\\x04\\x04\\x04\\x04\\x04\\x04\\x04\\x04\\x04\\x04\\x04\\x04\\x04\\x04\\x04\\x04\\x04\\x04\\x04\\x04\\x04\\x04\\x04\\x04\\x04\\x04\\x04\\x1f!#\\x1f#\\x1b\\x1e\\x15\\x1b \\x1d\\x1f\\x1c!\"!!!\"\"$$$$$$\"##\"$$!$##$$#$##\"#\"$#\"\\x1a!!\"#!#####$$$$$\\x1f\\x1f\\x1f\\x1f\\x1f\\x1f\\x1f\\x1f\\x1d\\x1f!\\x1f! \\x1f\\x1e\\x19\\x1e !!\\x1e\\x1c\\x1b\\x15\\x1d\\x0f\\x1c\\x1b\\x1b\\x1b \\x1d  \\x14\\x19\\x1b\\x14\\x1c\\x1e!\" !\\x0e \\x19 \\x1e\\x1b \\x1d\\x1b\\x1c\\x1d\\x12\\x1a\\x1b\\x0f\\x17\\x1f\\x1e\\x1f\\x1f\\x1f! \\x1f\\x17 \\x1e\\n\\x1f\\x0e #\"   \" \\x19\"\"\\x1c\\x19\\x1c\\x1b\\x1b!!!\"\"\"\"\"\"\"\\x1c\\x1c\\x1b\\x1b\\x1b\\x1b\\x1b\\x1d\\x18\"\\x04\\x04\\x04\\x04\\x04\\x04\\x04\\x04\\x04\\x04\\x04\\x04\\x04\\x04\\x04\\x04\\x04\\x04\\x04\\x04\\x04\\x04\\x04\\x04\\x04\\x04\\x04\\x04\\x04\\x04\\x04\\x04\\x04\\x04\\x04\\x04\\x04\\x04\\x04\\x04\\x04\\x04\\x04\\x04\\x04\\x04\\x04\\x04\\x04\\x04\\x04\\x04\\x04\\x04\\x04\\x04\\x04\\x04\\x04\\x04\\x04\\x04\\x04\\x04\\x04\\x04\\x04\\x04\\x04\\x04\\x04\\x04\\x04\\x04\\x04\\x04\\x04\\x04\\x04\\x04\\x04\\x04\\x04\\x04\\x04\\x04\\x04\\x04\\x04\\x04\\x04\\x04\\x04\\x04\\x04\\x04\\x04\\x04\\x04\\x04\\x04\\x04\\x04\\x04\\x04\\x04\\x04\\x04\\x04\\x04\\x04\\x04\\x04\\x04\\x04\\x04\\x04\\x04\\x04\\x04\\x04\\x04\\x04\\x04\\x04\\x04\\x04\\x04\\x04\\x04\\x04\\x04\\x04\\x04\\x04\\x04\\x04\\x04\\x1d!\\x10\\x15\"!!!\"\"$$$$$$\"##\"$$!$##$$#$##\"#\"$#\"\"!\\x04\\x04\\x04\\x04\\x04\\x04\\x04\\x04\\x04\\x04\\x04\\x04\\x04\\x04\\x04\\x04\\x04\\x04\\x04\\x04\\x04\\x04\\x04\\x04\\x04\\x04\\x04\\x04\\x04\\x04\\x04\\x04\\x04\\x04\\x04\\x04\\x04\\x04\\x04\\x04\\x04\\x04\\x04\\x04\\x04\\x04\\x04\\x04\\x04\\x04\\x04\\x04\\x04\\x04\\x04\\x04\\x04\\x04\\x04\\x04\\x04\\x04\\x04\\x04\\x04\\x04\\x04\\x04\\x04\"\"\"\"\"\"\"$$$$$$\"##\"$$!$##$$#$#\"!!!\\x04\\x04\\x04\\x04\\x04\\x04\\x04\\x04\\x04\\x04\\x04\\x04\\x04\\x04\\x04\\x04\\x04\\x04\\x04\\x04\\x04\\x04\\x04\\x04\\x04\\x04\\x04\\x04\\x04\\x04\\x04\\x04\\x04\\x04\\x04\\x04\\x04\\x04\\x04\\x04\\x04\\x04\\x04\\x04\\x04\\x04\\x04 \"\\x1d\\x1f!!\\x1d!$$$$$$\"\"\\x1f\"$!!$!#\\x1e$#$\"#\"#\"$$##!# \"\"$\"\"##\"##\"!\\x1b!\\x04\\x04\\x04\\x04\\x04\\x04\\x04\\x04\\x04\\x04\\x04\\x04\\x04\\x04\\x04\\x04\\x04\\x04\\x04\\x04\\x04\\x04\\x04\\x04\\x04\\x04\\x04\\x04\\x04\\x04\\x04\\x04\\x04\\x04\\x04\\x04\\x04\\x04\\x04\\x04\\x04\\x04\\x04\\x04\\x04\\x04\\x04\\x1e\\x1e\\x1f\\x1f\\x1e\\x1e\\x1e\\x1e$$!$!$\\x1a\"#\"$$\\x1f$\"#$$####\"#\"$$##!#$!\"$\"\"##$##\"!\"!\\x04\\x04\\x04\\x04\\x04\\x04\\x04\\x04\\x04\\x04\\x04\\x04\\x04\\x04\\x04\\x04\\x04\\x1f  !\\x1f\\x1f\\x1f %$$%%$\\x1d\\x1e \\x1d!!\\x16\\x14\\x1c\\x1d$\"#\\x1d#!\"#\"%$##\\x1f##\\x1f\"$\"\"##$##!#!#$#$$##$##$$!#$#$$#$###$$\"##$$\\x1f!\"!#$##\"$#$$#$#!#!#$$#\"##\"\"#\"\"###$##!$##$#$$##$##$###$#$$#$\"##$\"$ #$$\"##\" \"##$##$$!!!#!#$\"\"$!$##%%#%$\\x1f#\"##$$#$#!#!#$$#\"###\"#!\"###$##!$\"#$#$$##$######\"#%$#$\"##$\"$##$$\"$#\"#\"$#%##%%!\"!# #\"##$!#$#%%#$$!$$!$!\"###\"###\"#\"\"###$##!$##$#$$##$##$\"##$#$$#$###$\"$##$$\"##\"#\"#\"$##$$\"\"!###$#\"#!$\"#$$\"$#\"##\"\"$\"$\\x1f$$%$#\"$\\x1c\\x18\\x1b\\x1c\\x18\\x1e\\x1b\"\\x1f\\x19\\x1a!\\x1f\\x1f# ## # $# \"\\x1e###\\x1d####! \"\" !! !! !\" \"\"\"\"!  \"!\\x18 \"\\x1d \\x1f! \\x1d\\x1c\\x15\\x18 \\x1e\\x0e\\x1b\\x1d\\x16\\x1b\\x1a#\\x1d\\x1f \\x1f\\x1e\\x19\\x1d\\x18#!\\x11\"\\x04\\x04\\x04\\x04\\x04\\x04\\x04\\x04\\x04\\x04\\x04\\x04\\x1f\"###$##!###$#$$##$##$###$#$$#$###$\"###$$\"##!#\"##$$#$$!\"!$#!$#\"#!$##$$!##\"##\"$$\"$\"$%$$#\"$!$!$ $!%%\"%\\x1a\\x04\\x04\\x04\\x04\\x04\\x04\\x04\\x04\\x04\\x04\\x04\\x04\\x04\\x04\\x04\\x04\\x04\\x04\\x04\\x04\\x04\\x04\\x04\\x04\\x04\\x04\\x04\\x04\\x04\\x04\\x04\\x04\\x04\\x04\\x04\\x04\\x04\\x04\\x04\\x04\\x04\\x04\\x04\\x04\\x04\\x04\\x04\\x04\\x04\\x04\\x04\\x04\\x04\\x04\\x04\\x04\\x04\\x04\\x04\\x04\\x04\\x04\\x04\\x04\\x04\\x04\\x04\\x04\\x04\\x04\\x04\\x04\\x04\\x04\\x04\\x04\\x04\\x04\\x04\\x04\\x04\\x04\\x04\\x04\\x04\\x04\\x04\\x04\\x04\\x04\\x04\\x04\\x04\\x04\\x04\\x04\\x04\\x04\\x04\\x04\\x04\\x04\\x04\\x04\\x04\\x04\\x04\\x04\\x04\\x04\\x04\\x04\\x04\\x04\\x04\\x04\\x04\\x04\\x04\\x04\\x04\\x04\\x04\\x04\\x04\\x04\\x04\\x04\\x04\\x04\\x04\\x04\\x04\\x04\\x04\\x04\\x04\\x04\\x04\\x04\\x04\\x04\\x04\\x04\\x04\\x04\\x04\\x04\\x04\\x04\\x04\\x04\\x04\\x04\\x04\\x04\\x04\\x04\\x04\\x04\\x04\\x04\\x04\\x04\\x04\\x04\\x04\\x04\\x04\\x04\\x04\\x04\\x04\\x04\\x04\\x04\\x04\\x04\\x04\\x04\\x04\\x04\\x04\\x04\\x04\\x04\\x04\\x04\\x04\\x04\\x04\\x04\\x04!\"\"!#\"##$##$$!#!###$#\"#!$##$$\"$#\"##\"$$\"$\"$$$##\"#!#!###!$$\"$#\"\"##$$##\"$$#!#####\"$$$#!###$$!#!$$$$%#$$\"!$\"#\"!\"\"$$%$$$##$#\"$\"\"\"#$#$$$\"#$\"#$#$$#$#$$##$\"#\"#\"####$#\"$$#\"#$$##$#$##\"$!##$#$$##\"##$$#\"#\"#$$$##$!\\x1f\\x1b$$\\x1e##\"\"$$%$$$##$#\"$\"\"##$#$$$\"#$\"#$#$$#$#$$##$\"#\"#\"####$#\"$$#\"#$$##$#$##\"$!##$#$$##\"##$$#\"#\"#$$$##$!\\x1f\\x05\\x07\\x06\\x06\\x06\\x06\\x05\\x06\\x07)&$$$#$##$######\"\"#\"#!\"\"\"\"\"\"!\"!\"\"\"!\"\"\"\"\"\"\"\"\"\"\"\"\"\"\"\"\"!\"#!\"\"\"!\"!!!\"\"!\"\" !!!!\"\"\"\"!#!!!\" !!\"\"! \"\"#!\"!!!**$\\x1f\\x1b\\x1b\\x1d\"\\x16 !\\x18\\x1b\\x1f \\x15!\\x1e#&\\x1d\\x1b&%&\\x14&&\\x19&!#(\\x1b&&&&&&\\x12%&\\x1e&\\x1c&!&%&#&&&!\\x1e\\'\\x18\\x1e%&&\\x1f&&&\\'\\x1d!\"\\'%&\"&\\x1b&&&%%%&!\\x1e& &$\"\"%\\x1e$%#$$#\"$!$#$#$$##\"##$$#\"#\"#$$$##$!$#####$!$\"#$#!##\"\"#$$$#\"$$\"\"\"$!$#$\"####$$#!#!$\"$#$##$$###\"!!$#\"##\"!! #\\x1e# $ %%#\\x1f\"#$#$%#$$! $#$##$\"$\"#$$!##\"##$$$#\"$$\"\"\"$!$#$!####$$# #!$\"$#$##$$### \"\"$#\"$$$\"##$$##$\"\"$\"\\x1f##%%%%%%\\'%\\'&&%&&&&%&&&&%\\'&\\'&&&&&%%%\\'%\\'&&&&#\"&&&\"&%&&&&\\'\\'$&&$&&&%&#&&&\"&\\'\"$%\\x1f!&&%!%\"!\\x1f%\\'%\"!$$\\x05\\x05\\x07\\x05\\x06\\x06\\x06\\x06\\x06\\'$% #$#!#\"!\\x1d#\"\"$\\x1d \\x1f\"\\x1e!\\x13\"\"\"\"\"\"\"\"#\"#\"\"\"\"\"\"\"\"\"\"\"!\" !!\"!\"\"\"#\"\"!\"\"\"!\"!\"#\" \\x1b$!\"\"\"\"\"#\"\"!!#! #\"!\"\\x1f #\"#\"!\"!#**!!!!#$#$##$$#!$#$$$!###!\"$#$$##$!#\"\"#$!#$$\"\"\"\\x1e\\x1e\"$$\"#$\"\\x1e$$!#!\"#$!\"#####$\\x1a#!##\"#\"$#\"\"!##$\"###\"#%\"#$##%%*)#!!\"\"#\"\"  !!!# \"#!!#!! !! \"\"#!! \"\"\"\"!!#!\"\"\"!\"#!\"\"\"\"\"\"\"\"\"\"#\"\"\"\"#\"\"\"\"\"$\"\"\"#\"\"##!\"\"\"\"\"\"\"########$$#$&\\'\\x07\\x07\\x06\\x06\\x07\\x05\\x06\\x05\\x05!\"###\"$#$$##$!##\"#$!#$$###!\"\\x1e$$\"#$\"#$$!#\"##$!\"#####$\"#\"$#\"#!$#\"#$#\"$#\"##!\"$\"\"##\"$$$$###$!#$$$!$\"$#!%$**\"!#\"!\"\"\"\\x19\\x1a! \"\"\"\"!!\"!!\"!!#!\"\"\" \"#!\"\"\"\"\\x1e\"\"\"\"\"#!\"!\"#\"\"\"\"\"$\"\"\"#\"\"\"#\"\"\"\"\"\"\" \"#\"\"#\"!\"!\"$\"####\"$#$#%#% % \\'\\x06\\x07\\x08\\x06\\x06\\x06\\x05\\x05\\x05#$$%$\\'%%%&%&\\'%&&&&&&&&&&\\'&&&&\\'&&&%&%&&&\\'&&#\\'&&&&&&&&&&&&&&&%\\'&(&&\"\\'&%\\'&\\'&%%\\'&&&%%&&!%&%\\'%\\x1e#\\x17\\x1f$$#\"$#\"#\"$#\"#$##$####\"$$\"\"##\"$$\"$##\\x1e$##$#$ #\"$\"#$##!$$$\"$\"\"#$#$!$#$#$!$##!#\"#\"\"$\\x1f\\x1c#$##$\"!$%%$%$#!$#!\\x1c\\x1f\\x1e \\x1e\"\\x1c \\x1d\\x1d#\"$$$$#\\x1e#$##$#$!$\\x12\"\"$ #!\\x1c$\\x1b\\x1f !\\x04\\x04\\x04\\x04\\x04\\x04\\x04\\x04\\x04\\x04\\x04\\x04\\x04\\x04\\x04\\x04\\x04\\x04\\x04\\x04\\x04\\x04\\x04\\x04\\x04\\x04\\x04\\x04\\x04\\x04\\x04\\x04\\x04\\x04\\x04\\x04\\x04\\x04\\x04\\x04\\x04\\x04\\x04\\x04\\x04\\x04\\x04\\x04\\x04\\x04\\x04\\x04\\x04\\x04\\x04\\x04\\x04\\x04\\x04\\x04\\x04\\x1f# \"\"$\\x1d\"\"#\\x1f!\"\"#$!##$##\\x1f#$!$\"$\"$$##\\x1e$$$\"$\"##$\"$!##$\\x19\\x1b\\x14\\x1a\\x1a !\"! \\x1f #! \"!\\x1d!\"#\\x15#$$!$! \\x04\\x04\\x04\\x04\\x04\\x04\\x04\\x04\\x04\\x04\\x04\\x04\\x04\\x04\\x04\\x04\\x04\\x04\\x04\\x04\\x04\\x04!!!#$\"\"##\"$$$$###$##$#$!$\"$\"$$##!$$$\"$\"##$#$!##$#$!##\"\"#\"#\"!$\"\"\"$\"#####$$#$#\"\"##$$#\"!$#\\x1f\\x1f$$!#$#%$$#$$!!!#$\"\"##\"$$\"$###$##$#$!$\"$\"$$##!$$$\"$\"##$#$!##$#$!###\"#\"#\"!$\"!\"$\"\\x1f#\"\"####\\r\" !#\"$$\"\"\\x1d$# # $!$\\x1e#% $!\\x04\\x04\\x1f\"!\"!\"%%\" !&&%%%$\\'\\x1e&&&&\\x1c#&\"\\x16\\x1d\\x1f\\x1e&!%&%%\\x1e&&&%\\x1e&%&\\x1d&%\"&\\'#\\x1c\\'#$%&! &\\'!\"\"\\x1f&\\'\\'\\x1d#\\x1f&%&%!& \\x14!#\\x1f\"\"#\\x1f%$#$!\"\"\"$##$#$!$\"$\"$$##!$$$\"$\"##$#$!##$#$!#\"#\"#\"#\"\"$\"\"\"$\"#####$##$#\"\"##$$###$#$#$$!$##$#$#####$\"#\\x1f#\"#$$$$\\x14\\x1f\\x17%\\x1f#%%%&\\x18%&&&!%&!!\\'%&&\"&#%\\x1f&(%&&&\\'&&&\\'&&&&&&%&&\\x0c#&&&&&%\\'%&&&&&&%&&&&&&&&&&&&\\'%\\'%&%%%&%$$%#**\"!!\"#\"\"!! #\"\"! !#\"\"!!!#!!!!!! \"#\"\"\"#\" \"\"!\"\"\"!!\"\"\"#\"\"\"\"\"\"\"\"\"\"\"\"!\"\"\"\"\"\"\"\"\"\"\"#\"!!!\"#$\"\"##!#\"#$#$#% $\"\\x1d\\x06\\x06\\x06\\x06\\x06\\x06\\x06\\x05\\x05\\x04\\x04\\x04\\x04\\x04\\x04\\x04\\x04\\x04\\x04\\x04\\x04\\x04\\x04\\x04\\x04\\x04\\x04\\x04\\x04\\x04\\x04\\x04\\x04\\x04\\x04\\x04\\x04\\x04\\x04\\x04\\x04\\x04\\x04\\x04\\x04\\x04\\x04\\x04\\x04\\x04\\x04\\x04\\x04\\x04\\x04\\x04\\x04\\x04\\x04\\x04\\x04\\x04\\x04\\x04\\x04\\x04\\x04\\x04\\x04\\x04\\x04\\x04\\x04\\x04\\x04\\x04\" \\x1e\\x18&\\x1e\\'\\x1f&&!\\x1c&&!\"\\x1d\\x1a# \"%$!!\\x04\\x04\\x04\\x04\\x04\\x04\\x04\\x04\\x04\\x04\\x04\\x04\\x04\\x04\\x04\\x04\\x04\\x04\\x04\\x04\\x04\\x04\\x04\\x04\\x04$\\x1c$\"###!\\x1f\\x1d\\x1e!!\"\\x1a$\"\\x1f#!\"\\x1f\"#\\x15\"!!\\x1e\"\"!\\x1d $$\"##\\x10$#$!$$##$$$\\x1f%!%##\\x1e!\\x1d$# \" \"!\\x04\\x04\\x04\\x04\\x04\\x04\\x04\\x04\\x04\\x04\\x04\\x04\\x04\\x04\\x04\\x04\\x04\\x04\\x04\\x04\\x04\\x1e\\x1b\\x1f#\\x1d\\x1c!#$\"###!####$$#$#$#\"#$$$$\"$#$\"$$####$#$#####$#!#!$###$\"\"##\"\"\"$\"$ $##$#$$\"\\x1f\\x04\\x04\\x04\\x04\\x04\\x04\\x04\\x04\\x04\\x04\\x04\\x04\\x04\\x04\\x04\\x04\\x04\\x04\\x04\\x04\\x04\\x1c#!$\\x1f$##$\"###!####$$#$#$#\"#$$$$\"$#$\"$$####$#$#####$#!#!$###$\"\"##\"\"\"$\"$ $##$#$$\"\\x1f\\x04\\x04\\x04\\x04\\x04\\x04\\x04\\x04\\x04\\x04\\x04\\x04\\x04\\x04\\x04\\x04\\x04\\x04\\x04\\x04\\x04\\x04\\x04\\x04\\x04\\x04\\x04\\x04\\x04\\x04\\x04\\x04\\x04\\x04\\x04\\x04\\x04\\x04\\x04\\x04\\x04\\x04\\x04\\x04\\x04\\x04\\x04\\x04\\x04\\x04\\x04\\x04\\x04\\x04\\x04\\x04\\x04\\x04\\x04\\x04\\x04\\x04\\x04\\x04\\x04\\x04\\x04\\x04\\x04\\x04\\x04\\x04\\x04\\x04\\x04\\x04\\x04\\x04\\x04\\x04\\x04\\x04\\x04\\x04\\x04\\x04\\x04\\x04\\x04\\x04\\x04\\x04\\x04\\x04\\x04\\x04\\x04\\x04\\x04\\x04\\x04\\x1f#####$$#$#\"\"##$$##$$#$#$$!$!#$#$#####$\"#\"#\"!$###$#\"# \"####\\x1e##!#$#\"##\"###$\"#$#\"\"$\"#\\x1f!## !#\"#\\x1a\"##\\x04\\x04\\x04\\x04\\x04\\x04\\x04\\x04\\x04\\x04\\x04\\x04\\x04\\x04\\x04\\x04\\x04\\x04\\x04\\x04\\x04\\x04\\x04\\x04\\x04\\x04\\x04\\x04\\x04\\x04\\x04\\x04\\x04\\x04\\x04\\x04\\x04\\x04\\x04\\x04\\x04\\x04\\x04\\x04\\x04\\x04\\x04\\x04\\x04\\x04\\x04\\x04\\x04\\x04\\x04\\x04\\x04\\x04\\x04\\x04\\x04\\x04\\x04\\x04\\x04\\x04\\x04\\x04\\x04\\x04\\x04\\x04\\x04\\x04\\x04\\x04\\x04\\x04\\x04\\x04\\x04\\x04\\x04\\x04\\x04\\x04\\x04\\x04\\x04\\x04\\x04\\x04\\x04\\x04\\x04\\x04\\x04\\x04\\x04\\x04\\x04\\x04\\x04\\x04\\x04\\x04\\x04\\x04\\x04\\x04\\x04\\x04\\x04\\x04\\x04\\x04\\x04\\x04\\x04\\x04\\x04\\x04\\x04\\x04\\x04\\x04\\x04\\x04\\x04\\x04\\x04\\x04\\x04\\x04\\x04\\x04\\x04\\x04\\x04\\x04\\x04\\x04\\x04\\x04\\x04\\x04\\x04\\x04\\x04\\x04\\x04\\x04\\x04\\x04\\x04\\x04\\x04\\x04\\x04\\x04\\x04\\x04\\x04\\x04\\x04\\x04\\x04\\x04\\x04\\x04\\x04\\x04\\x04\\x04\\x04\\x04\\x04\\x04\\x04\\x04\\x04\\x04\\x04\\x04\\x04\\x04\\x04\\x04\\x04\\x04\\x04\\x04\\x04\\x04\\x04\\x04\\x04\\x04\\x04\\x04\\x04\\x04\\x04\\x04\\x04\\x04\\x04\\x1f\\x17$$#%!! \"!!\\x1c\"##\"%#$##\"$$!#!#\\x1f##$\"\"# \"\"\"$\"$!$##$#!$\"\"$\"#\"###!###\"#$#\"$\"\"\"\"####$\"!$#\"###$$#$$\"$\"\"# $\"\\x1f$!\\x1d! !\\x1e\"\"!\\x1f#\"\"\\x18$####\"$ !#!\"# \"$ \\x1e!\\x1d \\x1e\\x1f! $ $\\x1f#$ $#\\x1e\"$\"###\"#!###\"\"!#\"\"\"\"\"\"####$\"!$#\"###$$\"$$\"$\"##!$!##!\\x1d\\x1f\\x1f%\"\"#!#\\x1a#!#!$# #$\"\"\"#\\x1e!\\x1f$ #\\x1f$!#$ $\"!\"$\"\"#\\x1f##!###\"#\"#\"$\"\"\"\"####$\"!$#\"###$$\"$$\"$\"\"#!$\"$$$#$$#$$\"$!!\"!$%\"%$$\\x1c\"##!!\\x1c!\\x1d## $#\"\"! ! ! \"!$##$#$$\\x19\"$\"####$!###\"#$#\"$!\"\"\"#####\"!$#\"###$$#$$\"$\"##!$\"$$$#$$\"$$\"#\"\"$\\x1f\\x04\\x04\\x04\\x04\\x04\\x04\\x04\\x04\\x04\\x04\\x04\\x04\\x04\\x04\\x04\\x04\\x04\\x04\\x04\\x04\\x04\\x04\\x04\\x04\\x04\\x04\\x04\\x04\\x04\\x04\\x04\\x04\\x04\\x04\\x04\\x04!\\x1e\"\"\"####\"!!\"#\" \"\\x1f!#!\"\"\"\"\\x1e!\\x1f\\x1c\\x1c! #\\x18#!!\"! $$\"$\"##!$\"$\"$#$$\"$$\"#\"\" \\x1f\\x1f\\x1c##!$!\"\\x1f###$ \"$\"##\"#$#$$#!$$\"###$$#$$\"$\"##!$\"$$$#$$#$$\"#\"##\"##$#$$#$\"$\"\"$!#$!#\"\"\\x1b!$$##$\"##\"$!$\"$\"\"$\\x1f\\x1f\"#\"\"##$#######$\"$###$\"$$\"##\"$\"#\"#$$$#$\"$$\"#\"\"$\"$!$$#$$#\"$#\"######\"#\"\\x1b#%%##\"$!\"$##\"$$!$$#!$%\\x1f$\\x1f\\x1d\"\\x1e!\\x19\\x1b\\x04\\x04\\x04\\x04\\x04\\x04\\x04\\x04\\x04\\x04\\x04\\x04\\x04\\x04\\x04\\x04\\x04\\x04\\x04\\x04\\x04\\x04\\x04\\x04\\x04\\x04\\x04\\x04\\x04\\x04\\x04\\x04\\x04\\x04\\x04\\x04\\x04\\x04\\x04\\x04\\x04\\x04\\x04\\x04\\x04\\x04\\x04\\x04\\x04\\x04\\x04\\x04\\x04\\x04\\x04\\x04\\x04\\x04\\x04\\x04\\x04\\x04\\x04\\x04\\x04\\x04\\x04\\x04\\x04\\x04\\x04\\x04\\x04\\x04\\x04\\x04\\x04\\x04\\x04\\x04\\x04\\x04\\x04\\x04\\x04\\x04\\x04\\x04\\x04\\x04\\x04\\x04\\x04\\x04\\x04\\x04\\x04\\x04\\x04\\x04\\x04\\x06\\x06\\x07\\x05\\x06\\x06\\x05\\x06\\x06(###\"$\"\\x1f\\x1d\"!\"! \"!!\\x1f!#!\\x1e\\x1e!$\\x1f\"!\"\\x1c\" \" !\" \\x1f\"\"\"\"\"\"$\"\"#\"\"\"\"#\"!!\"\"!\"\"\"\"!!\"\"#\" \"#!!#\"\"!!\\x1f!\"!!!#!\"#\\x1f \"\"\"\"\"\"!\"***)\"!\\x15\"\"\"\\x1f!\\x15 !\"!# \"#!\"!#!!#!!!!\" #\"!#!\"!\"#\"!#!#\"!#\"\"\"\"\"\"#\"!#\"!\"\"# \"\"\"\"!!\\x1e$\" \\x1f\"\"!\\x18\" \\x1c\\x1c!!! !!\"\"\"$\"$\"$#!\\'\\x07\\x04\\x06\\x06\\x06\\x05\\x07\\x05\\x07!#!\"\"#!\\x1b$$!##\"$$#!$$\"$\"$\"\"$#$$###\"$##\"$#\"#$\"\"#!#$$#\"##\"##$#\"#\"\"\"$\"\"$!#\"$!!\"! \\x1f!\\x1c!! \\x1e!!$\"\"$$\"##\"#%\"##%\\x04\\x04\\x04\\x04\\x04\\x04%#!#$ %$!$$$ \"#\\x1c\\x16\\x1c\\x18\\x1b \\x1e\\t\\x1f\\x1d###$\"\"\"\\x1f\"#\\x04\"#\"\"$#$\"#!\"\"\"\"\"!#\"###\"\"$\"\"##\"\\x1f\"$\"!\\x1f\"$#$\"$\"#$#$$\"##!$$#\"$$\"\\x1f\\x1e\"\\x1e \\x18\"\\x1c%%\\x1f#$%&\"\\x1c%%&\\'\\'&&&&(#\\'&&&&\\'&&&\\'&&\\'\\'&&\\'&&&\\'&#%&&&&&$&&&&&&&&\\'%&&&&&\\'&&&\\'&&%&&%%%%&$%$%#\\x06\\x04\\x05\\x06\\x07\\x06\\x07\\x06\\x07\\'%#\"$\"###\"$#\"!\"\"!$#\"\"!\"\"##\"\"#\"!\"#\"\"\"\"\"\"\"\"#\"\"\"\"\"\"\"\"#!!\"!\\x1b\"#!\"\"#\"\"!\"\"!\" !#!!!#\"\"\"\"!#\"!!#!\"#\\x1f!\"\"\"\"\"!\\x17\"**\\x04\\x04\\x04\\x04\\x04\\x04\\x04\\x04\\x04\\x04\\x04\\x04\\x04\\x04\\x04\\x04\\x04\\x04\\x04\\x04\\x04\\x04\\x04\\x04\\x04\\x04\"\"\\x11##!\"#\\x1f$$#$\"##\"\"\"####\"# #\"\"$!\"##\"\\x1f\"$\"\"#\"$#$\"$\"#$#$$\"## $$#\"$$\"$$$\"\"\"#$\"#\\x1f! \\x18\\x1d!##\\x1b&$  #\"\\x1f&%$&#&&\"&\\'\\'\\x15!!\\'&$&&%\\'&\\'&&\\'&&&&&\\'%!\\x1b&&\"\\'&&&\\'&&&&&&&&&\\'%&&\\'&&&&&\\'&&\"\\'%%\\'%\\'%%$\"##$#$###\"$\"$\"$\"##\"$!\"##!$#\"!$$\"\"$$\"\"\"#$\"#$\"$!$$#\"\"####\"\"$$\"##!#\"#\"\"#\"##$#$#\"\"$\"$###\"$!#!#\"#\"#\"##\"\"#\"#!#%$%&%&%%%\\'\\x11\\x1f\\x1c\\x1b &&\\'&&%&&&\\'&&&&&&&&&&&\\'&&&&\"&&&&&\\'&\\'&&\\'&&&%&%&\\'&\\'%\\x19(&&&\\'#&&&%&#\\x12\\'%\\'&&%%&&$\\x1e\\x0e\"**\"!#\"\"#\"\"\\x1f !\"#! \"!! \"\"\"\\x1f!#\"\"!! \"\"\"\" \"\"#\"\"#\"\"\"!\"\\x1d\"\"\"# \"#\"\"\"#\"\"!\"\"\"\"\"#\"\"\"$\"$\"\"## $!\"##!!\\x1e$#\\x1f$#$#\"$\\x1e\"\"(\\x07\\x06\\x08\\x06\\x05\\x07\\x05\\x07\\x06\\x06\\x08\\x04\\x06\\x06\\x07\\x07\\x07\\x07&#%\\x1d%##$ #!!$ \"\\x1d$#!\\x1f\\x1e\\x1c##\\x1f!#\"\"#\"#\"  \\x1d\" \"\"\"\"\"#\"\"#\"\"! #!#!#!#\"\"! \"\"#\"\"\"\\x1f!!#\"!#!#\"\"!\"#!\" \\x1f!#\"  \"\"##\"!!\"**\\x1c\\x1f%!!#\"$##\"#\" \"$#$!$$$\\x1d\"#\" $\"!%$\"#$!#\"#\"###$$$#$#\"\"$\"$##\"\"$!#!#\"\"\"#\"##\"\"$#$##\"##\"$\"\"\"##\"$#\\x1b #\"\"$\"$#\"\\x1f\\x1f$$\"\"#$#\"##$#\"#$$\"#\"\"\"$\"\"#$#$#\"#\"\"\"# \"$$$\\x1e#$!#$#$$!$\"$##\"#\"\"\"#!##!\"#$\"\"$\"\"$\"$##\"$#\"$$!\\x1b\"##$\"$%\\x1b$#$$&\\x1f \\x1f$!$!!\\x1d!\\x1e\\x1e##\\x1c#\" !\\x1f\\x1a\"!\\x1c\"\\x1b\\x1e \\x1f\\x0c \"$$#\"#\" $  \\x1d!\" !\\x1a\\x1d\\x1c\\x1f\\x1f# \\x1e\"##\"\"!#$\"#\"\"#\"$\"\"\"##\"$#\\x1b!#\"\"$#$#\"\"\"#$$$##!$#\"\"!!\\x1b\\x17\\x15\\x19\\x12!\\x19\\x1f\\x1c\\x1f\\x1f\\x1c\\x1f\" \\x19$$\"##\\x1f#\\x1b#\"# #$!\"#$#\" \"\"$\"##\"$!\"!#!#\"\"\\x1e#\\x1f\"\"$#$\"#\"\"#\"$\"\"\"##\"$#\\x1b!#\"\"$#$#\"\"\"#$$$##!$#\"\"!\\x1f \\x1d\\x16\\x1c\"#%$\"$$!#\"#\"\"##$ $!$!\"\"$\"%\"##\"$!#!#\"#\"#\"##\"\"$#$##\"#\"\"$\"\"\"##!$#\\x1b!#\"#$#$#\"\"\"#$$$## #$##$$#\"\"$\"\"$#\\x1f\\x18$ \"!##\\x1f#\"\"$!$\\x1c#\\x1d\\x1c\\x12\\x1b\\x0e \\x1d\\x1b!!! !  \"##\"$!#!!\"\\x1f\"#\"!#\" \"#$##\"#\"\\x1e$\"\"\"##!$\"\\x1b!#\"#$#$#\"\"\"#$$$##\\x1c $##$$#\"\"$\"\"$#\\x1f\\x14!$%#$\"$&&(!\\'&$&\\x1b\"&&&&!&\\'\\'\"&&\\'#&\"%\\'&!%\\'&\" %&&\\'&&!#&&\\'&&\\'%\\'&&&!\\'&&%#%\\'&&&&&\\'&&&%&&&%\\'\"#%%%$##**\"\"#\"##\"\" !\"\"\"\" \"!!#!\"! !!!\"\"# #!\"\"#!\"!#\"\"#\"\"!\"\"#\"\"\"\"!\\x1f$\"\"#\"#\"\"\"\"#\"\"\"\"#\"!!#\"\"\"\\x1d \"$\" ##!##!#$\\x1e%#$\\x1d%&&\\x08\\x05\\x06\\x08\\x06\\x05\\x06\\x05\\x05##%%%%%%%%%\\'&%&%&%&&&\\'%\\'&&&\\'&&&\\'&&\\'&&&&&\\'&#&&%#%&&\\'&\\'&&&&\\x1f&&&&(&%\"\\'&&& \"&%%&\\'&&&&&#\\'%&&&%$$!**\"!#\"\"\"\"!\\x1d\\x1f\"\"#!\"\"!\"\"#\"\"\"!#!!\"\" \"\"! \"#!\"#\"!\"\"!!#!#\"\"\"\"\"\"\"\"!\"#\"\"\"\"\"\"\"\"\"$\"\"\"\"\"$!\"\"\"\"$\"\"\"\"\\x1f#####!#\"$! %)\\x06\\x06\\x06\\x05\\x07\\x06\\x05\\x06\\x05!###\\x1f$\"%#\\x1b!#\"\"$#$#\"!!#$$$\"#\\x1f#$##$$$\"####$\"#$##\"######$#!#!$\"$\"$##\"##\"!$$#\"\"!$$\"$#\"$!###\"#$\"#\\x1b!#$$!!!!**\"!\"\"\"\"\"\"\\x1f \"\"!\" \"!#!!#! !\"!\"#!\"!\\x1f!!!!\"\"#!#\"\"\"!\"#\"\"!#\"\"\"#\"\"\"!\\x1f\"#!#\"!\"\"\"\"\"\"\"\"\"!\"!\"$\"$\"###$####%#$$%$%(\\x07\\x06\\x08\\x06\\x06\\x05\\x07\\x05\\x05\\x04\\x04\\x04\\x04\\x04\\x04\\x04\\x04\\x04\\x04\\x04\\x04\\x04\\x04\\x04\\x04\\x04\\x04\\x04\\x04\\x04\\x04\\x04\\x04\\x04\\x04\\x04\\x04\\x04\\x04\\x04\\x04\\x04\\x04\\x04\\x04\\x04\\x04\\x04\\x04\\x04\\x04\\x04\\x04\\x04\\x04\\x04\\x04\\x04\\x04\\x04\\x04\\x04\\x04\\x04\\x04\\x04\\x04\\x04\\x04\\x04\\x04\\x04\\x04\\x04\\x04\\x04\\x04\\x04\\x04\\x04\\x04\\x04\\x04\\x04\\x04\\x04\\x04\\x04\\x04\\x04\\x04\\x04\\x04\\x04\\x04\\x04\\x04\\x04\\x04\\x04\\x04\\x04\\x04\\x04\\x04\\x04\\x04\\x04\\x04\\x04\\x04\\x04\\x04\\x04\\x04\\x04\\x04\\x04\\x04\\x04\\x04\\x04\\x04\\x04\\x04\\x04\\x04\\x04\\x04\\x04\\x04\\x04\\x04\\x04\\x04\\x04\\x04\\x04\\x04\\x04\\x04\\x04\\x04\\x04\\x04\\x04\\x04\\x04\\x04\\x04\\x04\\x04\\x04\\x04\\x04\\x04\\x04\\x04\\x04\\x04\\x04\\x04\\x04\\x04\\x04\\x04\\x04\\x04\\x04\\x04\\x04\\x04\\x04\\x04\\x04\\x04\\x04\\x04\\x04\\x04\\x04\\x04\\x04\\x04\\x04\\x04\\x04\\x04\\x04\\x04\\x04\\x04\\x04\\x04\\x04\\x04\\x04\\x04\\x04\\x04\\x04\\x04\\x04\\x04\\x04\\x04\\x04\\x04\\x04\\x04\\x04\\x17%\"\"\\x1f#!#!$$#\"\"!$#\"$#\"$!###!\\x1f# #\\x19!#$$\"#\"\"\"\"#$$#\"$$##$$#\"#$$#\\x1b\"\"#\"$!$#!#\"\"$##!#\"#\"#\"$#$#!$#\"\"\"$##\"#\"\"#!\\x04\\x04\\x04\\x04\\x04\\x04\\x04\\x04\\x04\\x04\\x04\\x04\\x04\\x04\\x04\\x04\\x04\\x04\\x04\\x04\\x04\\x04\\x04\\x04\\x04\\x04\\x04\\x04\\x04\\x04\\x04\\x04\\x04\\x04\\x04\\x04\\x04\\x04\\x04\\x04\\x04\\x04\\x04\\x04\\x04\\x04\\x04\\x04\\x04\\x04\\x04\\x04\\x04\\x04\\x04\\x04\\x04\\x04\\x04\\x04\\x04\\x04\\x04\\x04\\x04\\x04\\x04\\x04\\x04\\x04\\x04\\x04\\x04\\x04\\x04\\x04\\x04\\x04\\x04\\x04\\x04\\x04\\x04\\x04\\x04\\x04\\x04\\x04\\x04\\x04\\x04\\x04\\x04\\x04\\x04\\x04\\x04\\x04\\x04\\x04\\x04\\x1a\\x19$\\x1d&&!% &%%\\x1f!\\x1f!\\x1b \\x15\\x1d\\x1a\\x13\\x1f\\x1d\\x1d\\x1e#&&&& &&\"&$!$\\'&&\"&\"##%&##&##%%&&&%&&%!\\'\\'&&&&&&&&&\\'&&&&&$$%%$&%$%$#\\x1f\"#\"\"\"\"$\"#\"##$$$$$#$#!$#$$###$##\\x19! \"\\x1f$#!\"$#\"!#$$###$\"#$##\"####$!#!#\"#!%%\"$!$%$\"#\"#$%\"#$!$\\x1f\"#$\"#%##!&#!!\\x1e\"\\x1f\\x1f# \\x1d$#\\x18#!#\\x1d##\\x1d\\x1c%$\"$#$#!%$!!\"!#$\"\\x1f\" #\\x1f! !\\x1f# ##$$#\"\"#\"$$#\"##$#######\\x1e$$#\"\"$####\"!$\"##$##\"\"#\"\"#\" #\\x1f\\x1f##$!#$##\"###\"$!#!\"\"$!$$\"$!$$$\"#\"\"$$!\"\"!$$\"\"#\"\"$\"#%$\"#$$###\"##\"###$#\"\"$\"######\\x1f#\"!#\"\"#$#\"$$$$#\\x19$##\\x1d\\x1d\\x1e\\x1f$\"#$\"#\"#\"##$!#!\"\"#!$$\"$!$$$\"#\"\"$$\" #!$$\"\"$\"!$ #$$\\x1f#$$###\"#\"\"###$#!\"$\"#\"##\\x19\\x1f\\x1f!\\x1d\\x1e$!!#!$\"$\"#\\x1f#\\x1d\\x04\\x04\\x04\\x04\\x04\\x04\\x04\\x04\\x04\\x05\\x07\\x06\\x06\\x06\\x08\\x07\\x07\\'#$!\\x1f#\"\"#\\x1e\\x15# ##!\"$\"\"#!\"\"\"\"#\"\"\"#\"\"\"\"\"\"##!\"\"\"\"\"\"#\"\"#\"\"# !!\"\"#\"!#\"\\x1d\"\"\"!!!!\"!!\"\"#!\"#\"!!\"!\"!\"! !\"\"\"\"\"!!#)*\\x1e\\x1e\"%\"#!!\\x1d$$\\x1e\\x1d&&&\\x1c!\"!\\x1f \\x1b\\x1b\\x16#\\x1e$&\\x18(\\x1f&$\\x1c&&\"&\\'&&\\x1f\\x17!&&\\x18&\\x19\"\\x1f&%&\"&\\'\"&\\'\"\\x1f &&&%&\\'&$&&&&&\"%\\'%%&\\'%&%%$$%##$$%$$\"###\"$\"!#$##\"!#\"#\"#$####$#\"$##\"$$\"!\\x1d$$$#\"###\"\"##$#\"$!###!#\"$#\"$\"$$\"$!#$\"$\"\"!#\"###$\"\"##\"!#\"$#!!!\\x04\\x04\\x04\\x04\\x04\\x04\\x04\\x04\\x04\\x04\\x04\\x04\\x04%&& \\x1b\\x1f\"%\\x15\\x0f\\n\\x19\\x15\\x1e\\x1c\"\\x1c\"\\'&\\x1b&\" %&#\\x1b&& %&%&%\\x19\\'\\x1d\"$\\x1b\\'%&\\'##& %\\'\\x18%&#\\'&&\\x1d\\'&\\x1f\\'&!\\'&%\\x1f%%%%%\"!$#\\x06\\x07\\x06\\x05\\x07\\x06\\x07\\x06\\x07)&\"\"$$$$#!\\x1e$#\"#\"#\"\"$\"!\"$\"$\"#!\"#\"\"#\"#!\"#\"#\"#!#\"!\"\"#\"\"\"#\"!#!\"#\"!#!!!\"!\" \"\"!!\"!#\"!!!!!!!#!!! !!!!#\"\"!\"**\\x1a!&%\"&&&%\\'&%%&&\\'%!&&&&&&&&\\x1c  \\x17$%%&#&&&\\'&&&&\\'%$\"$\"\\x1c$\"\"&&&&&%&&\\'&&&&&\\'%&&&&&&&\\'#\"&&&&&%&%%%$##\\x1f#\"$$\"\"$\"\"$#####$#$$\"$##$!$$$##\"#$##\"##$#$$$\\x1e##\"\"!\"\\x1f!$\"$$#$$\"##$##$$#\"$$!$$$\\x1f!\"!\"$%%!%\"$!##%%\\x1f!\\x1f$ \"&\"!\"\"##$$\"$##$!$$$##\"#$##\"##$\"$$$##\"\\x1d#\\x1f\"\\x1f\"$\"$$#$$\"##$##$$#\"$$ #$$\" \"!\"$$$$$\"##\"#$$$! # #$$\"##$#%#!$###$\\x04\\x04\\x04\\x04\\x04\\x04\\x04\\x04\\x04\\x04\\x04\\x04\\x04\\x04\\x04\\x04\\x04\\x04\\x04\\x04\\x04\\x04\\x04\\x04\\x04\\x04\\x04\\x04\\x04\\x04\\x04\\x04\\x04\\x04\\x04\\x04\\x04\\x04\\x04\\x04\\x04\\x04\\x04\\x04\\x04\\x04\\x04\\x04\\x04\\x04\\x04\\x04\\x04\\x04\\x04\\x04\\x04\\x04\\x04\\x04\\x04\\x04\\x04\\x04\\x04\\x04\\x04\\x04\\x04\\x04\\x04\\x04\\x04\\x04\\x04\\x04\\x04\\x04\\x04\\x04\\x04\\x04\\x04\\x04\\x04\\x04\\x04\\x04\\x04\\x04\\x04\\x04\\x04\\x04\\x04\\x04\\x04\\x04\\x04\\x04\\x04\\x1f ##\"$ \\x1c\"#\"$$#\"$\"##$##$$#\"$#!#\\x1f \\x1e\\x1e!\"\\x1c$$ \"\"  \\x1d!\"$$$!\\x1e\"\\x1f#$$\"\"###$#\\x1e\\x1e\\x1d\\x1e\\x18!!#%##$ $\\x1f$\"$\"\"!$!#\"!!$#!##\\x1f\\x1a\\x17#\\x04\\x04\\x04\\x04\\x04\\x04\\x04\\x04\\x04\\x04\\x04\\x04\\x04\\x04\\x04\\x04\\x04\\x04\\x04\\x04\\x04\\x04\\x04\\x04\\x04\\x04\\x04\\x04\\x04\\x04\\x04\\x04\\x04\\x04\\x04\\x04\\x04\\x04\\x04\\x04\\x04\\x04\\x04\\x04\\x04\\x04\\x04\\x04\\x04\\x04\\x04\\x04\\x04\\x04\\x04\\x04\\x04\\x04\\x04\\x04\\x04\\x04\\x04\\x04\\x04\\x04\\x04\\x04\\x04\\x04\\x04\\x04\\x04\\x04\\x04\\x04\\x04\\x04\\x04\\x04\\x04\\x04\\x04\\x04\\x04\\x04\\x04\\x04\\x04\\x04\\x04\\x04\\x04\\x04\\x04\\x04\\x04\\x04\\x04\\x04\\x04\\x04\\x1f$##$$#\\x1f\"#\"$$#$$\"##$###$#\"$$!#$$!#\"\"\"$$$$$\"#\"\"#$$$! # #$$\"####!\"!$ \"\"$$#%##$!$$$\"$$$!$\"!\"$!$$\"$$##%!!\"\\x1c$%%$&%%&\\'%&&$\\'!#%&\\'&&&\\'\\'\"&&&&\\x18&&$&!!&&&&&\\'%&%&&#&&&&%&\\'&&&&&&&&&%&&&&&&&%&\\'&&&%&&%%%\\'%$$##**\"!!\"\"\"\"#  \"\"!#!!!\"\"\"!!#!!\"\"!#!!!\"!!#!\"\"#!\"\"!!!!#\"\"\"#\"\"!#\\x1e\"\"#!#\"\"#\"\"\\x1e#!\" \"!\"#\\x1c!\"#!\"!$#\"\"#\"# !#\"#!$\\'#\\x08\\x06\\x06\\x06\\x06\\x06\\x06\\x05\\x05#$$&%%$&&&#$&!%&&&\\'&&&&&%\\'&&&\\'&&&%&%%\\'&&&\\'#&%\\'&&&\\'%\\'&&\\'&&&\"$&&&&&\\x1a\\'&&&%\\'&!&&&&&%%&\"&%$&\"$%\\x1e%\\x1e%#$\"%$!$$#$$$##!#!#$\\x1e\"$$$#$$#$#$#$#!$$\"##$#$#$##\"#\"##$#\"$!$$\"#$$$\"$\"$\"\"####\"$$$$\"$\"#\"$##$$\"\"\"##$##\"!%!#$#$ $#!$$\"#$$\"$\"$##\"#\"##$#\"$!$\"\"#$$$\"$!$\"\"####\"$$$$\"$\"#\"$##$$\"\"\"#\"$$$#$\"\"#\"\"$$!$$##\"####\"#$###\" \"!**\"\"!#\"\"!#  \"#!\"\\t!!\"!#\"\"\"!#!\"!\"\"\"!\"\"\"!!!\"\"!\"!#!\"!\"\"\"\"#!#\"\"\"\"\"\\x1f#\"\"#\"\"\"\"\"\"\"#\"$!!#!\"!\"$\"\"\"#!#\\x1f## ###\\x1b!\"#\\x07\\x06\\x06\\x06\\x06\\x07\\x05\\x04\\x05%#$\"$#\"####\"$$$$\"$\"#\"$##$$\"\"\"\"#$$!#$\"##\"\"#$!$$##\"\"###\"#$##\"#\"$!#$\"\"$\"\"$$$!#$\"#$#$##$!$$\"###$$$\"$!\"\"#!*)\"!\"\"\"\"\"\"  !!!\"\"\"!!\"!!!\"!#!\"!! !!!\"!\"!#\"\"!!#!!\"\"\"\"\"\"\"\"\"!   #\" !  #!\"\"\"\"\"\"\"!!!\\x02\\x1d#\\x1a!  \"\"$#\"#$$##\"$\"%%(\\x07\\x06\\x06\\x06\\x06\\x05\\x06\\x06\\x06**\"!\"\"\"\"\"\"  ! ! \"! !  #!!!!\"\"!\" \"!!\"#!!!\"!!#\"\"!\"#\"\"\"\"\"\"\"\"\"\"\"\"#\"\"\"\"$\"#!#\"\"\"##\"\"\"!!\"##\"$\"#\" $#!# \"$##\\'%\\x06\\x06\\x06\\x06\\x06\\x06\\x05\\x06\\x07%$$$$$#$ ###!#$!$\"##$#\"#\"$$$###$$$###\"$$!#\"#\"$\"#$$#\"\"$!##$#!$\"$#\"$#!#\"\"##$$#\"$$\"##\"$\"##\"##\"\"####$\"\\x1f#!$!%##$\\x1e%%%#!##$$##$\"%$!$\"#\"$\"#$$#\"\"$!##$#!$\"$##$#!$\"\"##$#\"#$$\"##!$\"##\"##\"\"\"##$#$ #$$$$#$\"###\"#$$##$$\\x1f!##\"##$$\"\"$\"$$\"#\"#!##$#$$\"#$\"###$\"#\"#$!$$\"#\"\"###$$!$$\"##\"$##!\"##\"#$!$##$\"#$$!!\\x1f\"!#!$\"\"$$$##%\"#$!##$# \\x17\"\\x1e\\x1f\"\"\"$!$\"$#!$\"$!\"$#\\x1c!\\x1c \"\"#\"!!\"$!##\"#\"##\\x1c##\\x1a\"###!  \\x1b $$!\\x1f  \"\" #\\x1f!$$ #!$\"\"#$\"#$##$#\" $\"$\"$#\"$\"\"\"$!\"!!\"$$!\"#\"$!$#\"!\\x17\"! !  \"!\"\"\"##$$##$\"\"##\"$\"##!##\"\"###\"##\\x1f\"$$$$\"$\"#\"#\"\"$$##$$#\"#$\"#$##$#\"#$\"$\"$#\"$\"\"\"$!\"!!\\x06\\x06\\x07\\x06\\x06\\x06\\x06\\x06\\x06(!$!$\"!$#$#$!\\x1f\"$#\"$\"\"\\x1d\\x1f\"\\x1d\"\"\"\"\"\"\"\"\"\"#\"\"\"\"\"\"\"#\"\"\"#\"\"#\"!!#!\"\"\"#!\"!!#\"\"!# #!#!\"#!\"#\"!!!\"!!\"\"\"! \"\"\"\"\"\"!\"**\\x1c\\x1f\\x1d\\x19%#!\\x15%\\x1c\\'!& \\x1d%%\"&&$%&\\x1e&&\"&\\'\\'&&! &\\'&&&&\\'&&%&\\'&&&$&\\'&\\'&&\\'&&\\'&&%&&&&&&&\\'&&&&&&&%&&&&%&&%&$$$#\\x04\\x04\\x04\\x04\\x04\\x04\\x04\\x04\\x04\\x04\\x04\\x04\\x04\\x04\\x04\\x04\\x04\\x04\\x04\\x04\\x04\\x04\\x04\\x04\\x04\\x04\\x04\\x04\\x04\\x04\\x04\\x04\\x04\\x04\\x04\\x04\\x04\\x04\\x04\\x04\\x04\\x04\\x04\\x04\\x04\\x04\\x04\\x04\\x04\\x04\\x04\\x04\\x04\\x04\\x04\\x04\\x04\\x04\\x04\\x04\\x04\\x04\\x04\\x04\\x04\\x04\\x04\\x04\\x04\\x04\\x04\\x04\\x04\\x04\\x04\\x04\\x04\\x04\\x04\\x04\\x04\\x04\\x04\\x04\\x04\\x04\\x04\\x04\\x04\\x04\\x04\\x04\\x04\\x04\\x04\\x04\\x04\\x04\\x04\\x04\\x04\\x04\\x04\\x04\\x04\\x04\\x04\\x04\\x04\\x04\\x04\\x04\\x04\\x04\\x04\\x04\\x04\\x04\\x04\\x04\\x04\\x04\\x04\\x04\\x04\\x04\\x04\\x04\\x04\\x04\\x04\\x04\\x04\\x04\\x04\\x04\\x04\\x04\\x04\\x04\\x04\\x04\\x04\\x04\\x04\\x04\\x04\\x04\\x04\\x04\\x04\\x04\\x04\\x04\\x04\\x04\\x04\\x04\\x04\\x04\\x04\\x04\\x04\\x04\\x04\\x04\\x04\\x04\\x04\\x04\\x04\\x04\\x04\\x04\\x04\\x04\\x04\\x04\\x04\\x04\\x04\\x04\\x04\\x04\\x04\\x04\\x04\\x04\\x04\\x04\\x04\\x04\\x04\\x04\\x04\\x04\\x04\\x04\\x04\\x04\\x04\\x04#$$%%%%%%&%&&%&&&&&&&&&&%#&&&\\'&&&&\\x04\\x04\\x04\\x04\\x04\\x04\\x04\\x04\\x04\\x04\\x04\\x04\\x04\\x04\\x04\\x04\\x04\\x04\\x04\\x04\\x04\\x04\\x04\\x04\\x04\\x04\\x04\\x04\\x04\\x04\\x04\\x04\\x04\\x04\\x04\\x04\\x04\\x04\\x04\\x04\\x04\\x04\\x04\\x04\\x04\\x04\\x04\\x04\\x04\\x04\\x04\\x04\\x04\\x04\\x04\\x04\\x04\\x04#$$%%%%%%&%&&%&&&&&&&&%&&&\\'\\'&&&&&%%&\\'&%#&\\'#&%\\'%\\'&&&\\'&\\'%\\'&&%\\'%(&&\\' \\'&&!%#\\'&&%%\\'&%%\\'&%$\\x1c&%\"!\\x1d%**\"!!\"\"\"\"!  !\"#\"!!\"\"!!\"#!!\\x1f\"#!! #!#\"\"\"#!#!#\"\"!#!#\"\"#\"\"\"\"\"\"\"\"\"\"\"!#\"\"\"\"\"\"#\"\"\"\"\"\"# #\"#$###\\x1f$#######$$#$\\x1f\\x08\\x07\\x06\\x07\\x06\\x07\\x06\\x05\\x07$%#%&&%%\\'&%%\"&\\'&%%%#\\'&&&%&!&&(\\'&%&%&&&%&%&&&&&&\\'&#\\'%&&&&%&&\\'&&&\\'%&&&&&%&%&\\'&&&%\\'&%\\'&%&&%%%##!\\x1f\\x19\\x19#$$!#!##\"\"#!#!#$$!#!##\"$\"#\"$$\"#$$$#!##\"$##\"####$$!#!$\"\"#$$\"#!\"#$#\\x1b$#!\"##!#\"!#$$$\"$!! !# $%\"#%% \\x1d#\\x1b!$\"\"\\x1f\\x1f\\x10\\x1f\\x1d \\x19\"\\x14#\\x1d#\"\"\\x1c#\\x1f\\x1d!\\x17\\x1e\"!\\x1e#\\x1d\\x18\\x1d\\x17\\x16\\x1b\"\\x1e\"!!#\\x10!\\x1a\\x1a\"!!\\x1b!\\x16 \\x1a\\x1c\\x1d!#!! \"\\x04\\x04\\x04\\x04\\x04\\x04\\x04\\x04\\x04\\x04\\x04\\x04\\x04\\x04\\x04\\x04\\x04\\x04\\x04\\x04\\x04\\x04\\x04\\x04\\x04\\x04\\x04\\x04\\x04\\x04#!\"\"\"%%\\'&%%&&\"#&\\'%\\'&&&&&$#%$%##$%&\\'%&&&&&%#&&\\'%\\'&&&&#\\'&&&&&&&&&&&\"\\'&&&&&&%\\'%&&&%&(%\\'%$!%$%# $\\x1e$%%& %\\x1d&\\'%#&\\'\"%%$##%&&&(\\x1d!\"\"#&\\'&&&&&!&&\\x1b&&&\\x1f&%!$&&&%&&%&&\\'&&%&&&\\'%&\\'&&\\'&&\\'#$\"$$#&\\'%&&%&%##!\"####$##$$\"#!$$$$\"\"$##$#\"$$####$##$$##$!#\"$$$!\"#!##\"$$!#$$!###\"##\"$\"$$$$$$#!#\"!#\"#$\"$$#$\"$%#$#%\"$#$ **\"!!\"!\"\"!!\\x05#\"\"\"!\"#!\"\" !\"!\"!\"!!!!!!\"!!!#\"\"!\"!\"\\x1f!#\"\"\"\"!#\"\"\"$\"\"\"#\"\"#\"\"\"\"\"\"!! \"\"!\\x1c\\x1c!\\x1d\" \"\"\"\\x1e##\"##\"\"$##$ &\\x06\\x06\\x07\\x06\\x07\\x06\\x06\\x05\\x05\\x1f$##$\"#$$!#!$$$$\"\"$##$##$$####$##$$##$!#!#$$ \"#!#$#$$!#$$####\"##!$\"$$$$$$ \\x1e#!!!\"\"$\\x1f$$\" \\x1b\"\\x1f$%#% $#$\"% \\x04\\x1f\\x1f\\x17\\'\\x1d\"\\x1d\\x1c\"&%%&\\'\\x16&%&\\'\\'\\'!&\\'\\'\"\\'&#(!\"#$%\"&\\'&&&&\\'\\'&&&&#&&&&&&&&&&&&&&&\\'&&&\\'&&&&&\\'%\\'%&&%%&%&%%%$%#*)#!!\"!\"\"\"! \"#!\" !!!!! \" !\"!\"\"! !!!\\x1d# \\x1e\\x1c\\x1e \\x1a\\x1e \\x11\\x16\\x18\\x1a\\x15\"\\x1d\\x1f\\x13\\x18\\x1e#\\x19 \\x1f!\\x1e\\x1e\\x1f \\x1d#!\\x04\\x04\\x04\\x04\\x04\\x04\\x04\\x04\\x04\\x04\\x04\\x04\\x04\\x04\\x04\\x04\\x04\\x04\\x04\\x04\\x04\\x04\\x04\\x04\\x04\\x04\\x04\\x04\\x04\\x04\\x04\\x04\\x04\\x08\\x07\\x07\\x06\\x06\\x05\\x05\\x05\\x05#$%%%%%%%%##%!##&&&&&&&&&\\'&&&&&&\\'&&&&&&&&&#&&\\'&\\'&%&&&&%\\'&&&&&&&&%\"\\x04\\x04\\x04\\x04\\x04\\x04\\x04\\x04\\x04\\x04\\x04\\x04\\x04\\x04\\x04\\x04\\x04\\x04\\x04\\x04\\x04\\x04\\x04\\x04\\x04\\x04!!$%%%%%%&%\\'&%&&&&\\'&&&&&&&&&&&&\\'&\\'&%&&&&%\\'#&&&&&&&\\x1f&&%&\\'&&&\\'&&\\'&&#&%&&&!&%\\'%\"$&&&&&&&$\\'&%&#\\x1c$\\x1d\\x11\\x17\\x18!  \\x15\\x1b\\x17\\x17\\x1d   \\x0f\\x1e \\x04\\x04\\x04\\x04\\x04\\x04\\x04\\x04\\x04\\x04\\x04\\x04\\x04\\x04\\x04\\x04\\x04\\x04\\x04\\x04\\x04\\x04\\x04\\x04\\x04\\x04\\x04\\x04\\x04\\x04\\x04\\x04\\x04\\x04\\x04\\x04\\x04\\x04\\x04\\x04\\x04\\x04\\x04\\x04\\x04\\x04\\x04\\x04\\x04\\x04\\x04\\x04\\x04\\x04\\x04\\x04\\x04\\x04\\x04\\x04\\x04\\x04\\x04\\x04\\x04\\x04\\x04\\x04\\x04\\x04\\x04\\x04\\x04\\x04\\x04\\x04\\x04\\x04\\x04\\x04\\x04\\x04\\x04\\x04\\x04\\x04\\x04\\x04\\x04\\x04\\x04**\"!!\"\"\"\"!! !!\"\" #\"!\"!\"!\"\"\"!\"\"# #!!\"\"!!!#!\"\"\"\\x1c!!!\"\"\\x1e$\\x1f#\"\"\"#!\"\"\"\"#\"$\"\"\"\"\"\"#!#\"!\"\\x1f\"\"\"#\"#\"\"\"#!\"\"#\"!#!#&%\\x07\\x06\\x05\\x06\\x07\\x06\\x05\\x07\\x06!!!#$$$#$\"$$#$#$\"######\"$#$\"\"\"$\"$\"#\"$$$!#$#\"$$$$##\"##\"##\"\"###$$\"###$$\"$$!#!$$$$$$\"\"$\"###!$##\"$#\"#$$$$!!!#$$$#$\"$$#$#$\"######\"$#$\"\"\"$\"$\"#\"$$$!#$#\"$$$$##\"##\"##\"\"###$$\"###$$\"$$!#!$$!$$$\"\"$\"###$$##\"$#\"#%$$$$%%#%$%$%$##$#$$$\"#$$!##$##!$\"%$#\"$##\"$$$$!$\"!$\"#$#\"$#$$#\"$!$$#\"$#\"\"#$$$$$$##$\"##$$$!$\"#$#####\"#\"$$#\\x1f\\x1f$$$$\"\"$\"###$$##\"##\"\"$###!\"$$$#!$\"#$$#$$###$#$####\"\"##$###$##$#$$$##\"\"##\\x1f$#$$$!\\x0c#$#%$$##$$!#$ #$#%%$\\x1f!!\"\"#$$##\"##\"\"$###!\"$$$#!$\"#$$#$$#\"#$$$#\"#!\"\"##$#####\"$#$$$##\" \"\" $##$$!\\x1e\"##$$#$#$$!\"#$\"!\"$$#%###$$$\\x1f**\" #\"#\"\"\"  !!!\"!\"\\x1f!\"!!\"#\"\"!!\"\" \"\"!!!!!\"\\x1f\\x1f\\x1e \\x17\\x02\\x1e\\x1e\\x1f \\x1e\\x1f\\x1f\" !\"\"\"\\x1f\" !\"\" \"\"\"!!!!! !! \\x1f\\x1f! ! !!! #!#! \"\"#\"!$$$\\x08\\x06\\x08\\x05\\x06\\x07\\x05\\x04\\x05\\t\\x05\\x06\\x07\\x07\\x05\\x08\\x07\\x04\\'$!!$$\"##\"$ \" \"\"!!#!\"!\"$!\"!\"\"!\"\\x1e\\x1f\" !!\"#\"\"! \\x1f\"#\"#\"\"\"\"!#!!\"#\"!\"\"\"\"!!$!! #\"!!\"\"\"\"#\"\"\"!\"\"!!\"\" !\"\"\"\"\"#!\"**\\x05\\x05\\x05\\x05\\x06\\x06\\x08\\x06\\x08\\'&\"\\x1d#\" %\\x1f\\x1f$ !\\x1e \"!!#!#!\\x1f$\"\"!#!\\x1e!\\x1e\"\" !!\"#\"\"#!\"\"#\"#\"\"\"\" #!\\x1f\"#\"!\"\"\"\"!!$!! #\"!!\"\"\"\"#\"\"\"!\"\"!!\"\" !\"\"\"\"\"#!\"**\\x1d\"$%\\x1f$\\x1e\\x1e$\"%%%&&&$&&&\\'&&&&&\"!!&\\'\\'&&%&&&\\'&\\'&&&&&\\'%&#\\'&%&&&&&%%&&&\\'\\'&&&&&&\\'&&&&&\\'%&&&%\\'&%%%%%$#\\x03\\x06\\n\\x03\\x03\\x06\\t\\x07\\x08\\x04$\\x1e\\x1f#$\\x1b\\x14\\x16\\x14\\x1b\\x1f\\x1f\\x1a\\x16\\x1d\\x1e\\x19\"\\x1f\\x1e\\x1d\\x1c ! \"\\x1f \\x1f!\\x14\\x1c\\x18\"\"\\x13\\x1e!\\x12\\x1a\\x1f\\x1c\\x1c\\x1e\\x1e \"\\x1e \"\\x1d\\x19\\x15\\x16\\x18\\x1d\\x1a\\x1c\\x1e\\x1c\\x18\\x13\\x16\\x1a\\x1b\\x19\\x13\\x1a\\x0c\\x19!\\x1c\\x1f\\x1d\\x1d\\x1f\\x1e\\x1f\\x1f \\x1d\\x1a\\x19\\x11\\x19\\x1e\\x1d\\x1e\\x14\\x13\\x15\\x15\\x1d\\x1d\\x1f\\x11\\t\\x1a\\x1a\\x1a##%\"\"$$\\x1f$%$\\x1e\\x1d \\x1d\\x1f\\x1c\\x19\\x17\\x1c\\x1c\"!$#\\x1f#$%%# \\x1e\\x1d\\x17 $\"!$$#\"$\"\"#$##\"##\"$$!$\"$$#$# $#\"#$$\"$###$#\"$####$$#\"$$!$\"$\"#\" !$\\x1f#$$%%#%%%\\x1e&\\x1d&&&\\'&!%&&\\x17%\\x1c\\x0f \\'&\\'&&\\'\\x1b&!%&&&&&$#&&&&\"&&&\\'&%\\'\\' \\x1b& &&&\\x1b\"\"&&\\x1e\\x1f!!\\'&\"\\x1c\\x1e\\x17\\x1c\\x1d\\x1f\\x0b\\x1a\\x19\\r\\x17\\x1c$# \\x1c\\x1e**\"!\"\"\"#\"#  !\"!\"\"!\"\"#!#!\"#!\"!!\" \"!!\"\"!\"\"\"\"\"\"\"#!!\"#\"\"\"\"\"\"\"\"\"\"\"\"\"\"\"\"#\"#\"\"\\x1f\"\"\"\"$\"\" ##\"\"\\x1e#$#!!!#$#$$$#%\\'\\'\\x07\\x08\\x06\\x05\\x06\\x05\\x07\\x05\\x05!####\"\"\"\"#$\"#$\"\"###\"$\"$\"\"$\"$$#$\"$$$#$##$\"$#$\"#$!\"$$#$$$###$#\"$$#\"\"$\"$\"#\"#$###\"$!$$$#\"\"$#$$#\"$\" $%!#$\\x04#$%%% &%&#%&# &\\'&&\\'&$&&%&!$&&&&&$!&!&&\\'!%&\\x1b&\\x1e &&&&&\"$ !!&%\\x1d\\'%&#\"\\x15\\x1d\\x1a\\x18\\x1b\\x1a\\x1a\\x1d\\x1f \\x1e\"!&&\\' $\\x1f%%!&\\x18&$\\x1b!\\x1f$$\"$\"$$$#$##$\"$#$\"#$!\"$$#$$$###$$\"$$##\"$\"$\"\"##$###\"$!$$$#\\x1e\"$#$$#\"$\"\"$$\\x1f\\x1d\\x1e#\"%\"#$!$\"!$$##\"$##!$!%!$\"!!\\x05\\x06\\x06\\x06\\x06\\x06\\x06\\x08\\x06\\'\\x1f\\x1d\\x1d\\x1f!!#!\"\"\"\\x1e\"#  \"!\\x1f\\x1f\\x1e\"!#   ! #\\x1d \\x1e\\x1f\\x1f\\x1d !\"#\\x1e\"\\x1f\"\"!\"!$\"\"\"\"\\x17!#! !\"! !!\"\"!! !\"!!#\"!\"!!!#!!!#!\"#  !\"\"\"\"!!\"**!!!!$\"$\"###$###\"$!$$$##\"$#$$\"\"$\"\"#$!\"#\"\"$\"#$!$#!#$$#\"##$!$\"#!$\"#!$#!$\"$##\"\"$!$$\"$!#\"$$#$$!!$#$\\x1e$$#$\"!!!!!$\"$\"###$###\"$!$$\\x1b#\\x1d\\x1e #$\\x1f\\x1f\\x1e\\x1f\\x1f\\x1d\\x1e\\x1e\\x1f\\x1c \\x1d\\x1f \\x1a\\x1b\\x1a\\x13!\\x19\\x12\\x1a\\x1c\\x1c \\x16\\x10\\x1e\\x0f\\x0f\\x1f\\x1c\\x14\\x19 \\x1e!\\x1c\"\\x19\\x1a!\\x1d# \\x1f\\x1b#!\\x1f#! $!#\\x1e$\\x04\\x04\\x04\\x04\\x04\\x04\\x04\\x04\\x04\\x04\\x04\\x04\\x04\\x04\\x04\\x04#!%%$##$\"\"$##\"$\"\"$\"$#\"#\"\"$ \\x1f\\x1e\\x1e#\"\"#$\"## \"#\\x17\\x1f\\x1f\\x1f  \"#\"\"$##$#\"\"\"$\"$$\"$#\"!##!##$\"#\"$\"$###$#$#$###\"$$$#\"!\"!\\x13\\x10\\x14\\x13\\x10  \\x19\\x1e\\x1e\\x16\\x19\\x14\\x1f\\x1c#\\x1e!!\\x1c\"\\x1a\\x1c\\x1e  \\x1c\\x1e \\x1f\\x1b\\x1b!\\x1d \\x1a!\\x1c!\\x1d! \\x1e\"\\x1c!\\x1b\\x1c\\x15\\x19\\x1c\\x1c\"\\x1e\\x1d!\\x1c\\x17\\x18 \\x17\\x1b\\x19!\\x1c !\\x1d\\x17\\x14\\x1c\\x1b\\x1e\\x1e\\x19\\x1e \\x18\\x1e\\x1f\\x1c\"\"!\" \"!\\x1f\\x1d#\\x04\\x04\\x04\\x04\\x04\\x04\\x04\\x04\\x04\\x04\\x04!\\x1c!\\x1b$\"\"#$!\"##\"$\"#$!$#!#$$#\"#\"$!$\"$!$\"#!$\"!$\" \\x1f \\x1e#$!$$\"$! \\x1d$\\x1a\"$$!#$##!$!#$!\"\\x1f$$#\\x1e!!\"! $#! \"$%$\" \\x1f\\x1e\\x19\\x1f\\x1e! \\x1c\\x1a$\" \\x1d\\t \\x15# %\\x1d&\\x1c%&%\\x1f$&\\'\\x1d%&\\x1a\\x1b\\x1c&&&\\x1c&&\"\\x1e&&#\\'&&&!&%\\'\\x1a\\t&\\'&&\\'$&%&&&&%&&\\'&%&\\'&&&&&&\"&%&\"\\x1f&!%%%&%$%#\\x04\\x04\\x1f #\\x1f!$!\\x1e\\x1f!%##$#\"%%#$\"$\"##$\"\"#$\"\"####$##$\"\"$##$#\"#\"$\"$$!$#\"$###\"#$\"#\"$\"$###$#$#$####$$$#\"\"#\"!#$#$##\\x1f#%$%$&%\\'%\\'%%\\'%\\'&&&\\'&%\\'&&%%\\'&&\"&&&%\\'%&&%\\'&&#%\\'!&&&&&&&&$&&&&\\'&\\'\\'&&\"&&%&!\\'\\'&&&&&&&%$&#%$\\'%&$#%\\x07\\x06\\x05\\x05\\x05\\x06\\x06\\x06\\x08$$!#$$%#$\"####!!!$\"!\"\"\"#\"\"\"\"\"\"\"\"\"$\"\"\"\"\"#\"\"#\"!\"\"\"\"\"\"\"!!!!#!\"\"\" !\"!!!!# \"!!!\"!!\"!\"#!\"!\"\"\"\"\"\\x1a\\x1a!\"\"\"\"\"\"\")*\\x05\\x07\\x05\\x05\\x06\\x06\\x06\\x06\\x06(%#\"$%#\"#$#####\"\"##\"\"\"\"\"\"\"\"##\"#\"\"\"\"\"\"\"\"\"\"\"\"\"#\"\"\"\"\"\"\"!! !#!\"!\"!\"!!\"!!# \"!#\"\"!\"!!\"\"\"!\"!#\"!!  #\"!\"\"!!\"**!#%%&&$%%&\\'%!&\"&%%&\"\\'&&\\'\\'&\"&&\"&&&&&&&#&&&&%&&&%%&\\x10&&\\x1f&&&%&&&&\\'%&&\\'&&&&$#$&&&&&\\'&%%%%\\'%$%\"!$#$#$ $& %\\x1d\\'\\'%\\'&&%&&&&\\'%&&&&#&&\\'%\\x1f&&#&$&$&&$&&&&%&&#\\'%&&\\'&&\\x1f& %#&&&&&\\'&%&&&\\'&%&$!&&%%%#$#\"%%## \\x1c\"\" \" %%$#\"$#!$$#$$#$$$#$$\"%%%!#$#####\"$##$$#####$!$##\"\\x1d\"#\"\"\"$##$$$\"!$###\"#\"$##$$$$#\"\"\"$$\"$$$\"$#!\"\"\\x1f\\x1f\\x1f\\x1a!\\x17\"! \\r#!\"$#\\x1f\\x1e!##$#$$$#$#\"%%%\"#$# \"##\"$##$$#####$!$##\"\\x05\"#\"\"\"$##$$#\"!$###\"#!$##$$$$#\"\"\"$$\"$$$\"$#!\"\"\\x1f\\x1f$$$$ $\"$#!$\"$$!$$\"$####\"#\"$\"#\"###$$$#### #\"###\"$!$###$$$!\"$$!$#### $$#$!$#$$!!\"$#%\"#\"#$#$#$\\x1b##\\x19\"\\x17\\x16\\x1d\\x1c!!\"\"###\"#\"$\"#\"###$$$####!##$##\"$!####$$$!\"$$$$\"#\"\"!$$#$!####!$\"##$\"#\"\"##$#$\"#$$$#\"$#\"#$!#!\"###\"#$$##\\x1c**!!#\"\"\"#\"  !!\"!\\x1b! \"!\"!\"!\"!#\"!\"!\"\"!!!!!!\"\"   \"!!\"!#\"\"\"!#\"#\"\"\"!\"##\"\"\"\"\"\"\"\"\"\"\"\"\"\"\"\"\"$\"##$###$###\"$$\"$%\\'\\x07\\x07\\x06\\x07\\x06\\x06\\x05\\x07\\x05\\x04\\x04\\x04\\x04\\x04\\x04\\x04\\x04\\x04\\x04\\x04\\x04\\x04\\x04\\x04\\x04\\x04\\x04\\x04\\x04\\x04\\x04\\x04\\x04\\x04\\x04\\x04\\x04\\x04\\x04\\x04\\x04\\x04\\x04\\x04\\x04\\x04\\x04\\x04\\x04\\x04\\x04\\x04\\x04\\x04\\x04\\x04\\x04\\x04\\x04\\x04\\x04\\x04\\x04\\x04\\x04\\x04\\x04\\x04\\x04\\x04\\x04\\x04\\x04\\x04\\x04\\x04\\x04\\x04\\x04\\x04\\x04\\x04\\x04\\x04\\x04\\x04\\x04\\x04\\x04\\x04\\x04\\x04\\x04\\x04\\x04\\x04\\x04\\x04\\x04\\x04\\x04\\x04\\x04\\x04\\x04\\x04\\x04\\x04\\x04\\x04\\x04\\x04\\x04\\x04\\x04\\x04\\x04\\x04\\x04\\x04\\x04\\x04\\x04\\x04\\x04\\x04\\x04\\x04\\x04\\x04\\x04\\x04#\"#$#\\x1e\\x1e\\x1f #\\x1b\" #\"\\x1d$$#\"\\x17\\x1c\\x12\\x1c\\x1e #\\x08##\"$\"#\"$##\"\"$#$##$\"$##\"$\"$$#\"$\"$$$!#$#!\"!!**\"!\\x1a!\"##\"  \"!\"\" !\"!\"\"!#!!#!\"\"#\\x1a\"\"#!\"!\"\"\"\"\"\"\"!#!!\"#\"\"\"\"!#\"#\"\"\" \"\"!\"\"#\"\"\"\"\"\"  \"\"!\"\"$!\"#\"####\"#!!$$!$\\x10&\\x06\\x06\\x06\\x06\\x07\\x06\\x05\\x06\\x07\\x04\\x04\\x04\\x04\\x04\\x04\\x04\\x04\\x04\\x04\\x04\\x04\\x04\\x04\\x04\\x04\\x04\\x04\\x04\\x04\\x04\\x04\\x04\\x04\\x04\\x04\\x04\\x04\\x04\\x04\\x04\\x04\\x04\\x04\\x04\\x04\\x04\\x04\\x04\\x04\\x04\\x04   \\x1f\\x16\\x1c\\x18\\x1d\\x1d\\x1f\\x1f\\x19\\x1f\\x1d!$\"#\"$##\"\"$#$##$\"$\"#\"$\"$$##$\"$$$!#$\\x1e\"$\"#!##$\\x1f!\\x1a\\x17\\x1e\\x19\\x19\\x1d\\x19&\\'&\"%\\'&&\\x1b &\\'\\x15%&&&$\"\\x1f&\\'\\'&&\\'&#&$&\\x19&&&\\'%&&\\x1f&#!\\'&&&\\'%&&&\"&\\'&&&\\'&%%&&#&$\\'%\\'&&$#$&%%&%$$%#*\\x1d\\x1d!\\x14##\"\"\"\\x15\\x1f !#! !\\x1f!\\x1f\\x14!\\x1b!\\x1f#\\x1f!\\x1e\"  !! \"\\x18#!\"!\\x1f \"\"!\"!\"\\x1c\"\"\\x1f\\x1f\\x1e\\x1f  \\x1e \\x1c\\x1c# \\x1d \\x15!\\x19!\\x15\\x1e\\x17 #!\"\\x16\\x1c\"!\\x1e \"\"\\x1f##\"\\x1f #\\x17\\x18!\\x1d\\x1a\\x1b\\x19\\'\\x06\\x08\\x06\\x07\\x06\\x08\\x05\\x07\\x06\\x1f#$ #\"$\"$###$$$###\"\"$##$#$$######\"###$\"$##\" \\x1b####!$\"#!\"\"$$#!$\"$##$$$##\"$#$ #%$$##\" $##$\\x1e\"\\x1d#\"\" \\x1d\\x19\\x16\\x17\\x16\\x1e$!\\x1f\"!$\"$##\"$$$###\"\"$##$#$$######\"##$$$$###\"\\x1f#\"##!$\"#\"\"#$$#!$!$##$$$###$#$$#$$$##\"$##\"$#\"\"#$$$!$!# #$%!\\x04\\x04\\x04\\x04\\x04\\x04\\x04\\x04\\x04\\x04\\x04\\x04\\x04\\x04\\x04\\x04\\x04\\x04\\x04\\x04\\x04\\x04\\x04\\x04\\x04\\x04\\x04\\x04\\x04\\x04\\x04\\x04\\x04\\x04\\x04\\x04\\x04\\x04\\x04\\x04\\x04\\x04\\x04\\x04\\x04\\x04\\x04\\x04\\x04\\x04\\x04\\x04\\x04\\x04\\x04\\x04\\x04\\x04\\x04\\x04\\x04\\x04\\x04\\x04\\x04\\x04\\x04\\x04\\x04\\x04\\x04\\x04\\x04\\x04\\x04\\x04\\x04\\x04\\x04\\x04\\x04\\x04\\x04\\x04\\x04\\x04\\x04\\x04\\x04\\x04\\x04\\x04\\x04\\x04\\x04\\x04\\x04\\x04\\x04\\x04\\x04\\x05\\x05\\x06\\x06\\x07\\x07\\x07\\x05\\x04%\"% $\"##\\x1e$\\x1f\\x1d \\x1e!\"\"##!\"\"! !\"\"\" \\x1d\\x1c\\x1f\"\"!\"#\"\"\"\"\"\"\"\"#\"#\"!!\"!!\\x1b\"\"\"!\"#!#\"\"\\x1f \\x1c\" !\"\"#! \"\"!\\x1e!\"\"\" !\"\"\"  \"\"\"\"\"!!\"**!!!!##$$$$##\"\" ####!$\"#\"\"#$$#!$\"$##$$$##\"$\"$$#$$$##\"$##\"$#\"!#$$$!##\"!\"#$##!#$$#$#$$$$#$\"#$#$\"\"$#$$$$#!!!!##$$$$##\"\" ####!$\"##\"#$$#!$\"$##$$$##\"$\"$$#$$$##\"$##\"$#\"!#$$$!##\"\\x1f\"#$##!#$$#$$$$$$#$\"#\"#$#\"$#$$$$#\\x1f\\x1a$$$$## \\x1d\\x1d##\"#!$\"\\x1c#\"#$$#!\"\"!##$$$##\\x16$#$!#$$#!\" !\\x1f#\"$# \"#\"$$!# \\x1e\\x1e##$##!$$$#%$$\"$!#%\\x1a$##$\"\\x1d#\\x1e#\\x1b\"#\"\\x1d#!!\\x04\\x05\\x06\\x05\\x06\\x06\\x07\\x05\\x07\\'\\x1f\\x13\\r#!\\x1f#!#\" $#\\x1e$\"\"\"\"!!#\"\"\"## \"\"#\"\"\"\"!\"\"!\" \"\"\"\"#\"#\"\"\\x1e\\x1e\\x1e\" \"\"\"#!!\"\\x1d!! \"\"!!!\"\"\"\"\" \"!\"\"!\"!\"#!\"  \"\"\"\"\"\"\\x18\"**%$\\x14%%##$!\\x1f##$\"\\x1f#!$$$###\"#$$$%#$$\"$\"$#$$$##$####\"$\"# !!$#!$$$!#$###\"$$#$#$$$$#$$\"$###$\"$\"$$##\"\"##$#$$\\x1f\\x1f#$$ #\"## $\"#\"\"#$$#!$\"$##$$$###$#$$#$$$##\"$#\"\"$#\"\"$$$$!$#\" ##$##!$$$#$$$$ $#%\"#$#$#\"##$!$!\"##$\\x1e%$%\"\\x1b$##%%%$%$&&%%\\'%&&&&&&&&&&&&&&&&&&&%\\'%&&\"&&&$&&%%\\'\" !%&&&&&\\'&&&\\'&& \"&&&&#$&!&%\\'\\x1b&%%\\'&&%\\x1f&&%$$ $\\x1b\\x1a\\x1a#\\x10%\\x16$&\\'%%\\'$\\'\\x1c#%\"&%&!\\'\"\"%\\'&\\'&\\x1f\\x1f!\"&%\\x1e&&\\'%&&&%%&#&&&&&&&&&&&&&&&&&&\\'%&&&\\'&&&&&&&&%%%%%%%%$#**\"!!\"\"\"\"\"  \"!\"!\"!\"!\"!\"\"#!!!!#!\\x1a  !!\"!!#\"!\"\"\"!!!!\"\"\"#\"\"\"\"\"#\"\"\"\"\"\"\"\"\"\"\"\"\"\"#\"#\"$\"!\"!##$###\"$##$#$#%\"$%\\'\\x07\\x07\\x06\\x06\\x07\\x05\\x05\\x06\\x05%$$$\"$ %\"!$$##$#\\x1e##\"$\"#\\x1d!\"$#\"$$$!#$#\\x1f\"\"$$\"$#$$$$#$$\"$###$\"$\"$###\"\"##$#$$\"#$$\"$##\"\"\"##\"$#\"$\"\"$\"###!!!!**\"!!#\"\"\"\"  \"#!! !#! !!!!\"!!#!!!\"!!!!!\"\"!#!\"\"\"!#!\"\" \"\"\"\"\"\"\"\"\"\"#\"\"\"#\"\"\"\"\"\"#\"\"\"\"#!#$\"#\"$########$%$\"$&\\'\\x07\\x06\\x08\\x06\\x06\\x06\\x05\\x04\\x05\\x1f\"\"#$$$!#!#!##$##!#$$#$#$$$$#$\"#$###!##$$$#\"\"$##$#%\"##$\"#$#\"##\"$\"$$!##\"$#$!$\"##$#$$#\"$$$#$%##\\x1f$##\"$\"$\\x04\\x04\\x04\\x04\\x04\\x04\\x04\\x04\\x04\\x04\\x04\\x04\\x04\\x04\\x04\\x04\\x04\\x04\\x04\\x04\\x04\\x04\\x04\\x04\\x04\\x04\\x04\\x04\\x04\\x04\\x04\\x04\\x04\\x04\\x04\\x04\\x04\\x04\\x04\\x04\\x04\\x04\\x04\\x04\\x04\\x04\\x04\\x04\\x04\\x04\\x04\\x04\\x04\\x04\\x04\\x04\\x04\\x04\\x04\\x04\\x04\\x04\\x04\\x04\\x04\\x04\\x04\\x04\\x04\\x04\\x04\\x04\\x04\\x04\\x04\\x04\\x04\\x04\\x04\\x04\\x04\\x04\\x04\\x04\\x04\\x04\\x04\\x04\\x04\\x04\\x04\\x04\\x04\\x04\\x04\\x04\\x04\\x04\\x04\\x04\\x04 \\x10$%$$# \"%$\\x1f$%%%$#$$\"$#$#$\"$\"%%##\"\"##$#$$\"#$$\"$##\"#\"##\"$\"\"$\"\"$\"#\"#\"\"\"$\"$$\"\"\"\"$!\"$$#\"$#$\"##$$\"#\"$#!$$\\x1f$\"\"%$$\"\"\"\"#\\x1f %%%$#$#\"$#$#$\"$\"%%##\"\"##$#$$\"#$$\"$##\"#\"##\"$\"\"$\"\"$\"#\"#\"\"\"$\"$$\"\"\"\"$!\"$$#\"$#$\"##$$\"#\"$#!$$\\x1f\\x04\\x04\\x04\\x04\\x04\\x04\\x04\\x04\\x04\\x04\\x04\\x04\\x04\\x04\\x04\\x04\\x04\\x04\\x04\\x04\\x04\\x04\\x04\\x04\\x04\\x04\\x04\\x04\\x04\\x04\\x04\\x04\\x04\\x04\\x04\\x04\\x04\\x04\\x04\\x04\\x04\\x04\\x04\\x04\\x04\\x04\\x04\\x04\\x04\\x04\\x04\\x04\\x04\\x04\\x04\\x04\\x04\\x04\\x04\\x04\\x04\\x04\\x04\\x04\\x04\\x04\\x04\\x04\\x04\\x04\\x04\\x04\\x04\\x04\\x04\\x04\\x04\\x04\\x04\\x04\\x04\\x04\\x04\\x04\\x04\\x04\\x04\\x04\\x04\\x04\\x04\\x04\\x04\\x04\\x04\\x04\\x04\\x04\\x04\\x04\\x04\\x04\\x04\\x04\\x04\\x04\\x04\\x04\\x04\\x04\\x04\\x04\\x04\\x04\\x04\\x04\\x04\\x04\\x04\\x04\\x04\\x04\\x04\\x04\\x04\\x04\\x04\\x04\\x04\\x04\\x04\\x04\\x04\\x04\\x04\\x04\\x04\\x04\\x04\\x04\\x04\\x04\\x04\\x04\\x04\\x04\\x04\\x04\\x04\\x04\\x04\\x04\\x04\\x04\\x04\\x04\\x04\\x04\\x04\\x04\\x04\\x04\\x04\\x04\\x04\\x04\\x04\\x04\\x04\\x04\\x04\\x04\\x04\\x04\\x04\\x04\\x04\\x04\\x04\\x04\\x04\\x04\\x04\\x04\\x04\\x04\\x04\\x04\\x04\\x04\\x04\\x04\\x04\\x04\\x04\\x04\\x04\\x04\\x04\\x04\\x04\\x04\\x04\\x04\\x04\\x04\\x04\\x04\\x04\\x04\\x04!!\\x1f\\x19\\x17\\x1b\\x1d!\\x1c\"##\"\"# !#\"%\"\"$\"!$\"\\x1d\\x1a\\x18\\x12\\x12\\x1d!\\x1c\\x1e\"\"\\x13 !$\\x1e\\x1e $#!$#$\" \\x1f!\\x1c  \\x1f \\x1f\\x1c\"\\x1f\"\"$\"$$\\x1d$\"$#\"#$$#\"$##$\"!$#$$\\x1f\\x05\\x05\\x07\\x05\\x06\\x06\\x06\\x08\\x07(&!\\x1d\"\"# $ !#\"$ ## \"$\"!#\\x1f\\x1f!!#\\x1e\\x1f\"\"!\"\"\"\"\"$ !\" \"\"\"#\"\"\"!\"\"\"\"\"\"#!\"!!\"!!#!\"\" #!\"\"\"!!\"\"\"!\"\"\"\"!\"!\"\\x1f \"\"!\"!!!\"**!#!#$$\"\\x1f#\"\"\"#!$$\"#!$$\"$$$!$\"#$$#\"$$!##$$\"$$###$$$#$$\"\"\"#$$#!$$!#!#$$!$!#$$$#\" ##$$\"$$#\"\" !\"$$##!$$!$ !#!#$$\"\\x1f#\"\"\"#!$$\"#!$$\"$$$!!\"#$$#\"$$!##$$\"$$###$$$#$!\"\"\"#$$#!$$!#!##$!$!#$$$#\" ##$$\"$\\x1f\\x1f\\x1c\\x17\\x1e!\"$$ #!#$!# #%$$&%&&%&%&%\\'&\\'&&&&&&%\\'&&&&&&&&&&&!&&&&&&$&&&&&%%\\'&\\'&&%\\'&\\'&&&#\"!!&\\'&&&&$!\\x1d\"\"&&%%&%\\'%$\\'$%%#$\\x04\\x04\\x04\\x04\\x04\\x04\\x04\\x04\\x04\\x04\\x04\\x04\\x04\\x04\\x04\\x04\\x04\\x04\\x04\\x04\\x04\\x04\\x04\\x04\\x04\\x04\\x04\\x04\\x04\\x04\\x04\\x04\\x04\\x04\\x04\\x04\\x04\\x04\\x04\\x04\\x04\\x04\\x04\\x04\\x04\\x04\\x04\\x04\\x04\\x04\\x04\\x04\\x04\\x04\\x04\\x04\\x04\\x04\\x04\\x04\\x04\\x04\\x04\\x04\\x04\\x04\\x04\\x04\\x04\\x04\\x04\\x04\\x04\\x04\\x04\\x04\\x04\\x04\\x04\\x04\\x04\\x1e\\x1d\" !\\x1d !\\x1e\\x1f\\x1d\\x19#\\x18\\x1a\\x1f$\\x1e\"\\x1c*)#!\"\"\"\"\"\"  \"!!\"!\"!\"\"#!!\"!\"!!#!\"!!!#!#!!\"   !!!!!\"\" ! !\"\"\"\"\"\"!#\"!#\"\"#\"\"\"\"\"\"\"\"!\"!\"\"#\"##\"###\"####$$\"&%\\'\\x08\\x06\\x06\\x06\\x06\\x07\\x05\\x05\\x05!##\"##$$$#$$\"\"\"#$$#\"$$!#!#$$!#!#$$$#\"!\"#$$\"$$#\" \"$\"$$##!#$!\"#\"##$#$#$#\"#\"$#$###$##\"#$$##$#!\"#$!$$##%$#$$%%&&\\'%%&&&%%\\'%\\'&&%\\'%\\'&&&##\"%&&%&&&#\"!\"&#$&&&%\\'&%\\'&&\\'&&&$&&&&%&\\x1f&&&\"&\\'&&%\\'%&$%%\\'&%&$%\\'%$$!##%%&%%%%&%%\\'%\\'&&%\\'%\\'&&&#\"$\\'&&&&&%\"\"#$&&&&#&%\\'&%\\'&&\\'&!&&&&&&$&&&&\"&\"&&&&\\'&%&%\\'& %%&%&%\"&$\\x1d\"!**\" #\"#\"\"!!\\x1f#\\x1b\"! !!!!!!!\"!!  !\" \"!\"!!#!!#\"!#\"\"!!!\"\"\"!\"\"\"\"\"\"\"\"\"\"\"#\"\"\"\"\"\"\"\"# \"$\"\"\\x1d#\"##\"\"#####$\"$$$#\"%#\\'\\x07\\x06\\x06\\x06\\x06\\x05\\x07\\x06\\x06\\x1f#%%$!\"#%%%%%$! !!#\"%$$$#$#\"%#$#\"$#\"#$\"$\"$\"$\"##!#\"$\"###$\"#$\"$$##$#$$\"$#\"##\"\"#$$#$#$#\"\"#$##\"$$\"$$!$$\"\\x1f #%%%%$$!\"!!\"\"$$$$#\"#\"$###\"\\x1a#\"##\"$\"$\"$\"## #\"$\"###$##$\"$$##$#$$\"$#\"##\"\"#$$#$#$#\"\"#$##\"$$\"$$\"$$\"\"\"$#!!!\\x16\\x1e \" &%%&!\\x1b&%&&%$&&&&&\\x1d\\x1f\\'&#&\\'&&\\'%\\'&\\'&&&&&&!&!&$&&#&&&&&%&&\\'&&&&&&&&&\\'&&&&&&$&\\'%&\\'%&\\'&&%%&%##!\" \"#$#$#$#\"#\"$#$###$##\"#$$##$#$\"#$!##\"#$#$$#$#$\"#\"$\"\"\"#$###\"#$####$##$#$#\"$#\"$$#\"#\"$$#$!$#$$#$###$!\\x1d\\x14 \\x1c%%&$!\\x05$\\x1e&\\'\\x1e&\\'\\x1e#\\'\\'%%&%\\x17&\\x1d&\\'&#\\x1f\\x1f&&$&&\\'&##&&&&!\\x1f\\'#\\'\"\\x15&\"\"%\\'&&&\\x15&&&%&$&\\' &&&&&#\\'%&&!%&\\'%&$!$$#\\x1c\\x1f\"! \\x1f\\x1f\"\\x1f\\x1b\\x15\\x1a\\x1f\\x1c\\x1f #$!\\x04\\x04\\x04\\x04\\x04\\x04\\x04\\x04\\x04\\x04\\x04\\x04\\x04\\x04\\x04\\x04\\x04\\x04\\x04\\x04\\x04\\x04\\x04\\x04\\x04\\x04\\x04\\x04\\x04\\x04\\x04\\x04\\x04\\x04\\x04\\x04\\x04\\x04\\x04\\x04\\x04\\x04\\x04\\x04\\x04\\x04\\x04\\x04\\x04\\x04\\x04\\x04\\x04\\x04\\x04\\x04\\x04\\x04\\x04\\x04\\x04\\x04\\x04\\x04\\x04\\x04\\x04\\x04\\x04\\x04\\x04\\x04\\x04\\x04\\x04\\x04\\x04\\x04\\x04\\x04\\x04\\x04\\x1f#$$\"##$$\"#$#$#$$#\"$$#\"##$$#$$$##$#$\"\"$#$##\"!\"$\"\"$$!####\"$$$$#$\"$#\"\"#$#$$!$\"\"$#\"$$###!$\"$#%$### #\"#\"%\\x1e%$%\\' %%&!\\'&#\\'&%\\x1b &!(\\x14&\\x16%&\"& &&&\\'\\x1c#&&&&\"\"&&!\\x1f!&\\'&#%\\x1d&&##\"\"#\\x1e\\x1d\\x1c &&%&&&\\'&#\\x1f&&&&&#\\x1f!!\\'#&&&%%$$!\\x04#$\"$! $$##$\"##$#\"##\"##$\"\"#$$#$$\"#$#\"$$\"$\"#$$\"$\"\"$$\"!$\"#$#$#$\"\"#\"$$#$$!\"\"$\"$$$#$$$\"#$\"#\"##$!#\"\"#$#\"!!#$$%%&&%&\\'%%\\'%&&&\\'&&&&&&&&&\\'\\'&&&&%\\'&&\\'&&\\'&#&%%\\'&&\"&&&&&%\\'&&&&&(&&\"\\'&\"\"\"\\'\\'&\\'%\\x1b&%\\'%&$!%\\x1f&&!$#%!\\x1f\"#\"##\"#$###\"$#$#$###$!#$$#$\"#$$\"$$\"\"\"$$\"$#\"$!#####\"#$#$$\"\"$\"!$\"\"$\"$$$$#\"#$$\"$!##$\"$$!#$$# $%#$%$#$\\x1c!\\x1f\"#\"##\"#$###\"$#$#$###$!#$$#$\"#$$\"$$\"\\x1f\"$$\"$#\"$!#\"##!\"#$#$$\"\"$$!$\"\"$\"$$$$#\"#$$\"$!#\"$\"$$!#$$#\"$%#$!$##\\x19\"$!$\"\\x1d%$#!$#$%#$### #\"$!#$$\\x1f!!$\"$$$#$$$##$\"#\"##$!##\"#$$$!$$###\"##\"$$$#$\"$$$\"#\"$\"$\"$#\"$$#$#$#$$$$ #$\"\\x1f\\x04\\x04\\x04\\x04\\x04\\x04\\x1f!\"!$#$##$###\"#\"$!#$$\\x1d!!$\"$$$\"$$###$\"#\"##$!##\"#$$$!$$###\\x1f##\"$$$#$\"$$$\"#\"$\"$\"$#\"$$#$#$#$$$$ #$\"\\x1f\\x04\\x05\\x07\\x05\\x06\\x06\\x06\\x06\\x06(&\"!%###!###!#\\x1f!!$\"##!\"\"\"\"\"\"#\"!\"\"!#!##\"\"\"\"\"\"\"\"!\"#\"\"#!\"\"\"\"\"\"\"\"#!!\"#!#!!!!\"\"\"\"!!!\"\"\"#! #\"\"\"!\\x19#\"\"\"\"\"\"\"**\\x04\\x04\"\"#\"$# # \"\"\"\"!  !$\"$$$#$!$##$\"#\"##$!#\"\"\\x1e$$#!$$#\"#\"##\"$$$#$!$$$\"#\"$\"$\"$#\"$$#$#$#$$$$!#$\"#\"$ #\"$$##\"! $#%%#$\" !!$\\x19$$$#$$$##$\"#\"##$!#\" #$$$\"$$#!#\"##\"$$$#$\"$$$\"#\"$\"$\"$#\"$$#$#$#$$$$!#$\"#\"$ $\"$$$$$\"\"#\"#\"\\x1f#!\\x1e\\x1f%%&&\"##$$\\x1b%%&&%&&\\'&\\'&&&&\\x1d\\x1b!\\'\\'$&\\'&!#&&&&&&&&&\\'&%#\\'&\\'&&%&&&&&&&&&&&\\'%&\\'&&&\\'$%&&&&&\\'&%$%%&$##%#%%%& \"&&\\'&%&\\'&%\\'&\\'\\'&!&!\\'\"\\'&%&\\'&\\'&&%&&&& &&&&&&\\'#&\\'&&&\\'\"$%&&&&\\'\\'&%&&\\'%&&&&&&\\'&%&\\'&%&$%%%%##**\"!\"\"#\"\"!! \"#!\" !!\"!#!!!\"!#!\"!\\x1a!!#!!\"!#\"!!\"\"! !! \"#\"\"\"\"\"\"\"  \"\"!#\"\"!\" \"\"#\"\"\"\"\"\\x1f!#\"\"$\"###\"$\"$\"#$$$\"$&&\\x07\\x06\\x06\\x06\\x06\\x06\\x05\\x07\\x06**\"!!\"\"\"\"#  !\"!# \"!\"!!#!!\"!#\"!! !!\"!!\"\"#\"\"!\"\"!!\\x1f\\x1f\"\"!#\"\"!\"\"\"\"#\" \"\"\"\"\"\"\"\"#\"\"\"\"\"$!\"\"\"#\"####$####%\"$$#$&(\\x07\\x06\\x08\\x06\\x06\\x05\\x07\\x05\\x07\\x1d\"\\x1f%%%#$\"%$$\\x1f#\\x1f$\"$\"$#!!!##!$\"$$$$!#$\"#\"$!\\x1f\"$$$$$\"\"#\"##!$##$\"#$\"\"$$\"\"$#\"$##\"#\"#\"$$##\"##\"\"#\"$\"###$$#!!!\\x1d \\x1e!!\"\\x1f\\x1d\\x1b\\x1e\\x1e#\\x1e\"!$ # \"#\\x1f\"\\x1e\" !\"\\x1e#\"!#\\x1f\"\"\\x1e!!\"\\x1c\\x1b \"!\"! \\x1d\\x1d\"\\x1f\\x1a\\x1c\\x17\\x1e\\x1d\"! \"!!\\x1c\\x1e$! !#!\\x1e##!#\\x1d\\x1f\\x1d\\x1e\\x1e!\\x1c\\x1e!\\x1e\\x18\\x1f\\x1e\\x1c\"\\x19\"\\x1f%  \\x19\\x16 \\x1b\\x1f$\"$ #\"$\"$$!#$$#\"$$#$$$####\"\"##$#$$$$#!#$!##!#$##\"$###$$##$$!#$#\"$!#!$$$#\"##\"\"$\"$#!$#$#%!#$\"$%%%# \\x18 \"\\x07\\x05\\x06\\x05\\x07\\x05\\x06\\x06\\x06(!%#$$%$\\x1f$!\"$ \"!!\"\"\\x1b$\"\"###\"#!\"\"\"\"\"!\"\"\"\"\"\"#\"\"\"\"\"#\"#\"\"!\"!!\"! #! ! !!\\x1f\\x1f\"!\"!\"#\"\\x1f\"\"!#!!!\"!\"#\"\" !!\"##\"!\"\"**\" \\x1c \\x12\\x1f!\\x1f\\x1d\\x1c!!#! \\x19\"\\x1b!\\x1f\"!\"\\x1d\"%$\"#\"$\"\\x1b\"#!#\"#\"#$\"$\"\"$$\"#$\"\"\"$\"###$\"\"$$ $##\"$\"#$#$\"#$$$#\"#\"##\"\"$$#\"\"#\"$ $$#\\x1f$#\\x1f\\x1e$#$# !#\\x1d\\x1c\\x13\\x13\\x0e#\\x1b!!\"!\"\"\"%$\\x1f#\"$\"\\x1b\"#!#\"#\"#$ $\"\"$$\"#$\"\"\"$\"##\"$\" \"\\x1c\\x1d\"##\"$\"#$#$\"#$$$#\"#\"##\"\"$$#\"##\"$ $$#\\x1f\\x05\\x06\\x05\\x05\\x06\\x06\\x06\\x06\\x06&\\x0b\\x1f\\x12!\"!\"\\x1f\\x17\"\"#\"$!\"#\\x1c## \"\"$!!\"!#\"\"!#\"\"##\"\"#\"\"\"\"#\"\"\"#!\"\"\"!#\"\"\"!\"!\"!!\"\"!\" \"#\"!\"\" !!\"!#!!\\x14!\"!\"  \"#\"\"#!!!**\\x06\\x06\\x05\\x05\\x06\\x06\\x06\\x06\\x06\\x04\\x04\\x04\\x04\\x04\\x04\\x04\\x04\"\"!\\x1f\\x16\\x18\"!!\\x13\"\\x1d#\\x1e##\"#\"\"!\\x1f\"\"#\"\"\"#\"\"\"\"\"\"#\"\"\"\"#\"\"\"#!!!\"\"#!\"\"!\"\"\"!!\"!!!\"\"#\"!\"\"!!!\"!\"!!!! \\x1f\"\"\"\"#!!#** \\x1f##\\x18##!$!###$\\x1f$\"\"%$\"###\"\"$\"%#$$\"\"$$!$##\"$\"#$#$\"#$$$#\"#\"\"#\"\"$$#\" #\"$!$$#$#\"$##$\"##!\"#\"\"$$$###$\"$$##$\\x1f!\"!\\x1c\"$!##\"#\"\"#$#$#\"#\"##$$##\"#$$\"#\"\"\"#\"$#\"$\"##$$\"\"#!##\"#$$$!\"!\"\"##$$##!#$###$#\"$$!#\"$\"#\"\" \"$!$$#%$ $%$!\"!\\x1a\"$!##\"#\"\"#$#$#\"#\"##$$##\"#$$\"#\"\"\"#\"$#\"$\"##$$\"\"#!##\"#$$$!\"!\"##\"$$#$!#$###$#\"$$!#$$\"#\"\"\"\"$%$!#%$#$%$\\x19\\x19\\x19\\x16 $!##\"#\"\"#$#$#\"#\"##$$##\"#$$\"#\"\"\"#\"$#\"$\"##$$\"\"#!##\"#$$$!\"!\"##\"$$#$!#$###$#\"$$!#$$\"#!\" \"$\"$$!%$#$%$$\\x1d\\x1e%%\"\\x1d\\x18&\\'\\'\\x1f&\\'&&\\'&&&(%!&!(#&&(&\"&&&\\'%&&&#&\"&&&&&%#&\\'&&&%%&%&&\\'\"&&&&%&&&&\\'&&&#$$#$&&&%%%%%$##**\"!\"\"\"\"\"\" \\x1f!\"\"# \"\"!#!#\"\"\"!\"#!#!!!\"!!!#!\"#!#\"\"\\x1f!!#\"\"\"\"\"\"\"\"\"!#\"\"!! !!\"#\"\"\"\"#\" \"\\x1f\\x1d!!\"!\"\"#\\x1f\"##! !!$$!%%&\\x07\\x06\\x06\\x06\\x06\\x06\\x05\\x05\\x05!!\"#####$$##\"\"\"##$#\"$\"##$$\"\"#!##\"#$$$!#!\"#\"#$$#$!#$###$#\"$$ #$$\"\"#\"#\"$#  \"#\\x1e!#\"\"$ \"#\"$$\"$\"$$##$$%#$%\\x1e\\x1c\\x19\\x1c\\x19\\x1f\\x1a\\x13\\x12\\x15\\x1a\\x1f!\\x1a\\x18\\x17\\x1e\\x1f!\\x04\\x04\\x04\\x04\\x04\\x04\\x04\\x04\\x04\\x04\\x04\\x04\\x04\\x04\\x04\\x04\\x04\\x04\\x04\\x04\\x04\\x04\\x04\\x04\\x04\\x04\\x04\\x04\\x04\\x04\\x04\\x04\\x04\\x04\\x04\\x04\\x04\\x04\\x04\\x04\\x04\\x04\\x04\\x04\\x04\\x04\\x04\\x04\\x04\\x04\\x04\\x04\\x04\\x04\\x04\\x04\\x04\\x04\\x04\\x04\\x04\\x04\\x04\\x04\\x04\\x04\\x04\\x04\\x04\\x04\\x04\\x04\\x04\\x04\\x04\\x04\\x04\\x04\\x04\\x04\\x04\\x04\\x04 !$\\x1f\\x17#\\x1c%\"&\\'!!&&!$&&#%%&!!\"\\x1b&&(#&&&&%&&&&\\'&&\\'#%\\x1f!##&&&&&&%&%&&&&\\'&&&&&&&\\'&&\\'&\\'&&\\'&#$&\\'%&%%$$#**#!\"\"\"##!! \"\"\"! !#!\"#!!\"\"!!!#!!!!\"\"\"\"!\\x1a#!!! \\x1c\\x1b\\x1e\\x1f!\"\" \"!\"\"\"\"!!\\x1f#\" !  \"\"#\\x1b\\x1f # !\\x1f!\\x1e\\x1a\\x1c !##! \"!\" #\\x1f ##!#$(\\x06\\x06\\x06\\x06\\x06\\x06\\x05\\x07\\x05%$###$$#\"%%##\"##$!\\x1f#$$#\"%##$\"#$ !\"!\"$$$###$#$$##$#$\"$#$$\"\"$\"$$\"$!$$\"!\"$$\"$$#$$\"$$$\"#$#$\"$\"##$$\"$$\"\"$\\x1f!\" #$$##$##$$#$\"\"#\"$$\"$#$$\"#$$$\"$$\"#$\"#$$\"$#$$\"$\"###$#$$$!$#\"\\x1b$$###\"###$##$$##\"#\"#!#$###$$$!\"$$####\"\\x1f#$$%%%%%%&&%&\\'&&&&&&&&&&&&&&&&\"%&%\\'%&&&&&&#\\'&\\'&&&&&&&%\\'&&#&&&&&&\\'\"\"&&&&&\\x1a&&!#\\'%\\'%&&& %&\" !%$$$$ $\"$#$$\\x1d\\x1f$\"!$\\x1f#\"$$ \\x1a\\x1f!$\\x1f !\"\\x1f\"\\x1f\" #\\x1d!\\x1f\\x18\"\\x18\\x1f\\x1f!\\x1f\\x1f$ $$##\\x1d$\\x19\"$$\"\"\"\\x1d$\"\"#\\x1d\\x1c\" \\x1a\\x1e\\x1a\\x1b\\x1d#\\x1e\"\\x1c\\x1a \\x1e\\x1e \\x1c#$$#!#\"#$ \\x1f\\x18\\x19\\x1b\\x18$$$$$\"$#$##\"$\"$$\"$\"$$\"\\x1f!$$\\x1f$$##$\"$$$\"#$$$!$\"##$$\"$$##$$\\x1b\"$$\"\"\"\"$\"\"$\"\"$$!#\"\"\"#\"$###$$$$#$$$!#\"#$$\"#\"\"!!!\"###$$$\"$$\"#$\"#$$\"$#$$\"$\"###$\"$$$!$$\"\\x1b$$\"##\"###$##$$##\"#\"\"!#$###$$$\\x1f!#$#\"\"\"$$\"#$##\"##$##\"$\"$$#\"#$$\"!!\"!#$##$$##\"#\"#!#$###$$$\"#$$##\"\"$$\"#$##\"##$\"#\"$\"#$#\"\"##$##\"\"$##\"#\"\"#$#$$$\"\"##$\"$$\"#$# $##$##$!#$$$$$\\x17\\x18\\x1a\\x18\\x1a\\x04\\x04\\x04\\x04\\x04\\x04\\x04\\x04\\x04\\x04\\x04\\x04\\x04\\x04\\x04\\x04\\x04\\x04\\x04\\x04\\x04\\x04\\x04\\x04\\x04\\x04\\x04\\x04\\x04\\x04\\x04\\x04\\x04\\x04\\x04\\x04\\x04\\x04\\x04\\x04\\x04\\x04\\x04\\x04\\x04\\x04\\x04\\x04\\x04\\x04\\x04\\x04\\x04\\x04\\x04\\x04\\x04\\x04\\x04\\x04\\x04\\x04\\x04\\x04\\x04\\x04\\x04\\x04\\x04\\x04\\x04\\x04\\x04\\x04\\x04\\x04\\x04\\x04\\x04\\x04\\x04\\x04\\x04\\x04\\x04\\x04\\x04\\x04\\x04\\x04\\x04\\x04\\x04\\x04\\x04\\x04\\x05\\x07\\x06\\x05\\x06\\x06\\x06\\x06\\x07(!!!#\"$! #!\" \"\"!!\"\"\" \\x1d\\x1f\"!\"!!#\\x1f! #\\x1e\" \" !!\"!!#!\"\"!\" !!\\x07!!\\x1b\\x1f #!\"\"\"\"!\"#!! \"!\"#!\"\"!\"#\"!!\"\\x1b\"\"\"!  !\"!\"\"!!\"**#$$\"\"%%%$%&\\'&%\\'&&&&%&&&%&\\'&\\'&&&&\\'%&&&&&\\'&&#%&&\\'&&&&&#\"&&&&\\'&%(&&&\"\\'&&&\\x1f\\'&&\\'%%&&%!$\\'%&%&%&$%$\\x1f$#$$\"#\"\"#$\"#$#####$##\"$\"#$#\"\"##$###!$##\"#\"\"\"$#$$$\"\"##\"\"$$\"##!!\"\"#$##$!#$$$#$$\"\\x1f$!$#$\"$\"$$%$#%!#\"%#%%\\x1f##\"\"#$##!$\"#$#\"\"##$###\"$##\"#\"\"#$#$$$##\"#\"\"$#\"#$#\\x1f$##$##$!\"#$$##$#\\x1f$!##%\"%\"$$$#\"$$#!$$$$!$#$%%%%%!\\x1f\"\\x1f\\x1f##\"\"#$##!$\"#$#\"\"##$###\"$##\"#\"\"#$#$$$####\"\"$#\"#$#!$##$##$!\"#$$#\"$#\\x1f#!$#%\"$\"$!!#\"$$##$\"$$!$#$%%%%#\\x1f\\x1e\\x1c\\x1c#%\"$$$\"\\x1d\\x1e#!!$#!\"$\"%%%###$$#$$!%$\"$##$#\"\"## !$##$$#\"#\"#$#\"$\"$$##\"$$\"\"$$$###!\"\"$$$$$$\"\"\"\"\"\"!$\"###$ #$\"\\x1f#%\"$\\x1f$$\\x1c$$#!$ !!$\\x1f%%%###\\x1f$# $\"\"$\"$##$$\"\"## !$##$$#\"#\"#$$\"$\"$$#!\"$$\"\"$$$##\"\\x1e\"\"$$$$$$\"\"\"\"\"\"!$\"###$ #$\"\\x1f##$%&%%%%%#$&%&&\\'&&\\'&&&&&&&&&&%&\\'%&&&&\"!\\'%$&&%\\'&$%&&&\"&&&&&!!&(&&\\x1c$#\"!\\x1f \"\\x1f\\x1f%\\x19&!\\x1b\\x14&#%!\\x1f$  \\x1e  !\\x1c\\x1b\\x1e\"\\x1e\\x1c%!%\\x1d\\x1d!\\x16#\\x16\\'\\x18&\\'\\x1d&%\\x1e\\x18&&& \\x1a%\\x1d  &&&!\\x1d\\x1b\\'%$!&\\x1d&&\\'!! !\"&\\x15\\x1a\\x1b \\x1b\\x1b\\x1e(&\\x1c\\n#\\x15!\\x04\\x04\\x04\\x04\\x04\\x04\\x04\\x04\\x04\\x04\\x04\\x04\\x04\\x04\\x04\\x04\\x04\\x04\\x04\\x04\\x04\\x04\\x04!#!#$$\"\"##\"\"$$\"! \\x1f\\x10! \\x1f \\x1f\\x1d$!\"#$$##$\"\\x1f#!##$\"$\"#$$#\"$$\"#$$$#!$!$$$$$$ \"\"!#####\"\\x16\"#!$#\"######\"#!\"$#$%$#% !#!#$$\"\"##\"\"$$\"$#!\\x11# \\x1f \\x1f\\x1d$!\"#$$##$\"\\x1f#!##$\"$\"#$$#\"$$\"#$$$$!$!$$$$$$#!\"!#####\"!\"#!$#\"####\"##\"!\\x1d$#$%$#% \\x04!\\x1e#%$#\"\"%$##\"$$\"\"$$$#\"# \"!!$$$$$#\"\"\"\"\"\"!#\"###$!#$\"!###\"#\"\"!$$$\"$#\"$\"\"#$$$\"\"$$!$#\"$#\"#\"$!# !$$\"$$\"#\"!\\x04\\x04\\x04\\x04\\x04\\x04\\x04\\x04\\x04\\x04\\x04\\x04\\x04\\x04\\x04\\x04\\x04\\x04\\x04\\x04\\x04\\x04\\x04\\x1e\\x1b \\x10\\x12\\r\\x08\\x16\" &\"&&%\\x1f\\x1e\\'&&\\'\\'%\"&%#&\\'%&\\'&%&&&\\'&&#$&&\\'&&%&\\'&&&&&\\'&%&\\'%\"%%%%$##\\x04\\x04\\x04\\x04\\x04\\x04\\x04\\x04\\x04\\x04\\x04\\x04\\x04\\x04\\x04\\x04\\x04\\x04\\x04\\x04\\x04\\x04\\x04\\x04$\\x1e\\x18!\\x1e\\x1e\\x19\\x1e\\x13\\x0e\\x16\\'&\\'\\'\\'&&&%&&\\'%&$&%&&&%&& $&&\\'&&%&\\'&&&&&\\'&&&\\'%&&%&%%$%&$%!!'"
      ]
     },
     "execution_count": 49,
     "metadata": {},
     "output_type": "execute_result"
    }
   ],
   "source": [
    "process_string(DNAq_Output)"
   ]
  },
  {
   "cell_type": "code",
   "execution_count": 51,
   "id": "da97df0c",
   "metadata": {},
   "outputs": [],
   "source": [
    "def string_to_bytearray(input_string):\n",
    "    byte_array = input_string.encode('utf-8')\n",
    "    return bytearray(byte_array)"
   ]
  },
  {
   "cell_type": "code",
   "execution_count": 52,
   "id": "27e8f5d1",
   "metadata": {},
   "outputs": [],
   "source": [
    "def write_bytearray_to_file(file_path, byte_array):\n",
    "    try:\n",
    "        with open(file_path, 'wb') as file:\n",
    "            file.write(byte_array)\n",
    "        print(f\"Success: {file_path}\")\n",
    "    except Exception as e:\n",
    "        print(f\"Error Write: {e}\")"
   ]
  },
  {
   "cell_type": "code",
   "execution_count": 53,
   "id": "08d2e817",
   "metadata": {},
   "outputs": [
    {
     "name": "stdout",
     "output_type": "stream",
     "text": [
      "Success: binFile.bin\n"
     ]
    }
   ],
   "source": [
    "write_bytearray_to_file(\"binFile.bin\", string_to_bytearray(DNAq_Output))"
   ]
  },
  {
   "cell_type": "code",
   "execution_count": 59,
   "id": "69beb131",
   "metadata": {},
   "outputs": [],
   "source": [
    "file_path = open(\"/Users/taolueyang/DNA_Compression/SZ/binFile.bin\", \"rb\")\n",
    "Lines = file_path.readlines()"
   ]
  },
  {
   "cell_type": "code",
   "execution_count": 69,
   "id": "2dc53d6f",
   "metadata": {},
   "outputs": [
    {
     "data": {
      "text/plain": [
       "40539"
      ]
     },
     "execution_count": 69,
     "metadata": {},
     "output_type": "execute_result"
    }
   ],
   "source": [
    "len(DNAq_Output)"
   ]
  },
  {
   "cell_type": "code",
   "execution_count": null,
   "id": "86c2d38b",
   "metadata": {},
   "outputs": [],
   "source": [
    "file_path = open(\"/Users/taolueyang/DNA_Compression/SZ/binFile.bin\", \"rb\")\n",
    "Lines = file_path.readlines()"
   ]
  },
  {
   "cell_type": "code",
   "execution_count": 63,
   "id": "585be18b",
   "metadata": {},
   "outputs": [],
   "source": [
    "binary_data = bytearray([32, 33, 34, 35, 36, 37])  "
   ]
  },
  {
   "cell_type": "code",
   "execution_count": 64,
   "id": "0042a42b",
   "metadata": {},
   "outputs": [
    {
     "data": {
      "text/plain": [
       "bytearray(b' !\"#$%')"
      ]
     },
     "execution_count": 64,
     "metadata": {},
     "output_type": "execute_result"
    }
   ],
   "source": [
    "binary_data"
   ]
  },
  {
   "cell_type": "code",
   "execution_count": 65,
   "id": "591a9495",
   "metadata": {},
   "outputs": [],
   "source": [
    "def write_ascii_values_to_file(file_path, input_string):\n",
    "    try:\n",
    "        ascii_values = [ord(char) - 31 for char in input_string]\n",
    "\n",
    "        byte_array = bytearray(ascii_values)\n",
    "\n",
    "        # Write the bytearray to the binary file\n",
    "        with open(file_path, 'wb') as file:\n",
    "            file.write(byte_array)\n",
    "\n",
    "        print(f\"ASCII values written to {file_path}\")\n",
    "    except Exception as e:\n",
    "        print(f\"Error: {e}\")"
   ]
  },
  {
   "cell_type": "code",
   "execution_count": 68,
   "id": "80cbb2dc",
   "metadata": {},
   "outputs": [
    {
     "name": "stdout",
     "output_type": "stream",
     "text": [
      "ASCII values written to /Users/taolueyang/DNA_Compression/SZ/SCOREbin.bin\n"
     ]
    }
   ],
   "source": [
    "write_ascii_values_to_file(\"/Users/taolueyang/DNA_Compression/SZ/SCOREbin.bin\", DNAq_Output)"
   ]
  },
  {
   "cell_type": "code",
   "execution_count": 70,
   "id": "eb9277bd",
   "metadata": {},
   "outputs": [
    {
     "data": {
      "text/plain": [
       "'/Users/taolueyang/DNA_Compression/Output/DNA'"
      ]
     },
     "execution_count": 70,
     "metadata": {},
     "output_type": "execute_result"
    }
   ],
   "source": [
    "a = '/Users/taolueyang/DNA_Compression/Output/DNA.txt'\n",
    "a[:-4]"
   ]
  },
  {
   "cell_type": "code",
   "execution_count": 2,
   "id": "1b5a20b9",
   "metadata": {},
   "outputs": [
    {
     "data": {
      "text/plain": [
       "b' \\x00\\x00\\x00!\\x00\\x00\\x00\"\\x00\\x00\\x00#\\x00\\x00\\x00$\\x00\\x00\\x00'"
      ]
     },
     "execution_count": 2,
     "metadata": {},
     "output_type": "execute_result"
    }
   ],
   "source": [
    "import struct\n",
    "x = [32, 33, 34, 35, 36]\n",
    "struct.pack('i' * len(x), *x)"
   ]
  },
  {
   "cell_type": "code",
   "execution_count": null,
   "id": "e0fe5692",
   "metadata": {},
   "outputs": [],
   "source": []
  }
 ],
 "metadata": {
  "kernelspec": {
   "display_name": "Python 3 (ipykernel)",
   "language": "python",
   "name": "python3"
  },
  "language_info": {
   "codemirror_mode": {
    "name": "ipython",
    "version": 3
   },
   "file_extension": ".py",
   "mimetype": "text/x-python",
   "name": "python",
   "nbconvert_exporter": "python",
   "pygments_lexer": "ipython3",
   "version": "3.10.12"
  }
 },
 "nbformat": 4,
 "nbformat_minor": 5
}
