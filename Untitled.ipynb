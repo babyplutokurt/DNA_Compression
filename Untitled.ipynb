{
 "cells": [
  {
   "cell_type": "code",
   "execution_count": 1,
   "id": "e07b551f",
   "metadata": {},
   "outputs": [],
   "source": [
    "import numpy as np\n",
    "import pandas as pd"
   ]
  },
  {
   "cell_type": "code",
   "execution_count": 2,
   "id": "2476c70a",
   "metadata": {},
   "outputs": [],
   "source": [
    "def bam_to_df(bam, chr = None, start=None, stop = None):\n",
    "    seq = []\n",
    "    name = []\n",
    "    pos = []\n",
    "    for read in bam.fetch(chr, start, stop):\n",
    "        seq.append(read.seq)\n",
    "        name.append(read.qname)\n",
    "        pos.append(read.pos)\n",
    "    return pd.DataFrame({'seq': seq, 'name': name, 'pos': pos})"
   ]
  },
  {
   "cell_type": "code",
   "execution_count": 3,
   "id": "e7abf93a",
   "metadata": {},
   "outputs": [],
   "source": [
    "f = open(\"HG00138_chr20_subset.sam\", \"r\")\n",
    "Lines = f.readlines()"
   ]
  },
  {
   "cell_type": "code",
   "execution_count": 4,
   "id": "8cca9e55",
   "metadata": {},
   "outputs": [],
   "source": [
    "DNA_Output = ''\n",
    "for l in Lines:\n",
    "    if l[0] != \"@\":\n",
    "        x = l.split()\n",
    "        DNA_Output += x[9]"
   ]
  },
  {
   "cell_type": "code",
   "execution_count": 5,
   "id": "791556d3",
   "metadata": {},
   "outputs": [
    {
     "data": {
      "text/plain": [
       "'AAAAATGTGTATTTCTCCTC'"
      ]
     },
     "execution_count": 5,
     "metadata": {},
     "output_type": "execute_result"
    }
   ],
   "source": [
    "DNA_Output[0:20]"
   ]
  },
  {
   "cell_type": "code",
   "execution_count": 6,
   "id": "10557b71",
   "metadata": {},
   "outputs": [],
   "source": [
    "from collections import Counter"
   ]
  },
  {
   "cell_type": "code",
   "execution_count": 7,
   "id": "7420e289",
   "metadata": {},
   "outputs": [],
   "source": [
    "count = Counter(DNA_Output)"
   ]
  },
  {
   "cell_type": "code",
   "execution_count": 8,
   "id": "6a429fb5",
   "metadata": {},
   "outputs": [
    {
     "data": {
      "text/plain": [
       "Counter({'A': 14289, 'T': 13240, 'G': 6266, 'C': 6740, 'N': 4})"
      ]
     },
     "execution_count": 8,
     "metadata": {},
     "output_type": "execute_result"
    }
   ],
   "source": [
    "count # 128 64 32 16 8 4 2 1"
   ]
  },
  {
   "cell_type": "code",
   "execution_count": 9,
   "id": "5f6383a2",
   "metadata": {},
   "outputs": [],
   "source": [
    "DNA_Output_withoutN = DNA_Output.replace(\"N\", \"\")\n",
    "Convert_Dic = {'A': 0, 'T': 1, 'G': 2, 'C': 3}\n",
    "Reverse_Dic = {0: 'A', 1: 'T', 2: 'G', 3: 'C'}"
   ]
  },
  {
   "cell_type": "code",
   "execution_count": 10,
   "id": "e50e5631",
   "metadata": {},
   "outputs": [],
   "source": [
    "Output_file = open(\"Output_Raw.txt\", \"a\")"
   ]
  },
  {
   "cell_type": "code",
   "execution_count": 11,
   "id": "411efe6a",
   "metadata": {},
   "outputs": [
    {
     "data": {
      "text/plain": [
       "'ATGT'"
      ]
     },
     "execution_count": 11,
     "metadata": {},
     "output_type": "execute_result"
    }
   ],
   "source": [
    "DNA_Output_withoutN[4:8]"
   ]
  },
  {
   "cell_type": "code",
   "execution_count": 12,
   "id": "7435d528",
   "metadata": {},
   "outputs": [],
   "source": [
    "for i in range(0, (len(DNA_Output_withoutN) // 4) * 4, 4):\n",
    "    code = Convert_Dic[DNA_Output_withoutN[i]] * 64 + Convert_Dic[DNA_Output_withoutN[i + 1]] * 16 + Convert_Dic[DNA_Output_withoutN[i + 2]] * 4 + Convert_Dic[DNA_Output_withoutN[i + 3]] * 1\n",
    "    Output_file.write(chr(code))\n",
    "\n",
    "Output_file.close()\n",
    "    "
   ]
  },
  {
   "cell_type": "code",
   "execution_count": null,
   "id": "6796bb71",
   "metadata": {},
   "outputs": [],
   "source": []
  },
  {
   "cell_type": "code",
   "execution_count": 13,
   "id": "9185f66e",
   "metadata": {},
   "outputs": [
    {
     "data": {
      "text/plain": [
       "25"
      ]
     },
     "execution_count": 13,
     "metadata": {},
     "output_type": "execute_result"
    }
   ],
   "source": [
    "code = 'ATGT'\n",
    "i = 0\n",
    "res = 0\n",
    "res = Convert_Dic[code[i]] * 64 + Convert_Dic[code[i + 1]] * 16 + Convert_Dic[code[i + 2]] * 4 + Convert_Dic[code[i + 3]] * 1\n",
    "res"
   ]
  },
  {
   "cell_type": "code",
   "execution_count": null,
   "id": "bab73936",
   "metadata": {},
   "outputs": [],
   "source": []
  },
  {
   "cell_type": "code",
   "execution_count": null,
   "id": "b3077a6e",
   "metadata": {},
   "outputs": [],
   "source": []
  },
  {
   "cell_type": "code",
   "execution_count": 14,
   "id": "80498981",
   "metadata": {},
   "outputs": [],
   "source": [
    "def decode(char):\n",
    "    code = ord(char)\n",
    "    result = \"\"\n",
    "    result += Reverse_Dic[code // 64]\n",
    "    code = code % 64\n",
    "    result += Reverse_Dic[code // 16]\n",
    "    code = code % 16\n",
    "    result += Reverse_Dic[code // 4]\n",
    "    code = code % 4\n",
    "    result += Reverse_Dic[code // 1]\n",
    "    return result"
   ]
  },
  {
   "cell_type": "code",
   "execution_count": 15,
   "id": "d150a9cf",
   "metadata": {},
   "outputs": [],
   "source": [
    "Reverse_file = open('Output_Raw.txt', 'r')\n",
    "Reverse_Output = open(\"Reverse_Output.txt\", \"a\")\n",
    "while 1:\n",
    "    char = Reverse_file.read(1)          \n",
    "    if not char: \n",
    "        break\n",
    "    Reverse_Output.write(decode(char))\n",
    "            \n",
    "    \n",
    "Reverse_file.close()\n",
    "Reverse_Output.close()"
   ]
  },
  {
   "cell_type": "code",
   "execution_count": null,
   "id": "f83f5d08",
   "metadata": {},
   "outputs": [],
   "source": []
  }
 ],
 "metadata": {
  "kernelspec": {
   "display_name": "Python 3 (ipykernel)",
   "language": "python",
   "name": "python3"
  },
  "language_info": {
   "codemirror_mode": {
    "name": "ipython",
    "version": 3
   },
   "file_extension": ".py",
   "mimetype": "text/x-python",
   "name": "python",
   "nbconvert_exporter": "python",
   "pygments_lexer": "ipython3",
   "version": "3.10.12"
  }
 },
 "nbformat": 4,
 "nbformat_minor": 5
}
